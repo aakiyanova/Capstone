{
 "cells": [
  {
   "cell_type": "markdown",
   "id": "possible-helen",
   "metadata": {},
   "source": [
    "#### Data Reading, Cleaning, and Organizing"
   ]
  },
  {
   "cell_type": "code",
   "execution_count": 2,
   "id": "arbitrary-memory",
   "metadata": {},
   "outputs": [],
   "source": [
    "# imports\n",
    "import numpy as np\n",
    "import matplotlib.pyplot as plt\n",
    "import pandas as pd\n",
    "import random"
   ]
  },
  {
   "cell_type": "markdown",
   "id": "arctic-oliver",
   "metadata": {},
   "source": [
    "**Reading the Data**"
   ]
  },
  {
   "cell_type": "code",
   "execution_count": 7,
   "id": "unexpected-plasma",
   "metadata": {},
   "outputs": [],
   "source": [
    "# reading aisles dataset\n",
    "aisles = pd.read_csv('data/aisles.csv')"
   ]
  },
  {
   "cell_type": "code",
   "execution_count": 8,
   "id": "preceding-soundtrack",
   "metadata": {},
   "outputs": [],
   "source": [
    "# reading department dataset\n",
    "department = pd.read_csv('data/departments.csv')"
   ]
  },
  {
   "cell_type": "code",
   "execution_count": 9,
   "id": "pressing-calculation",
   "metadata": {},
   "outputs": [],
   "source": [
    "# reaading random 5% of order_prior dataset \n",
    "p = 0.05\n",
    "order_prior = pd.read_csv('data/order_products__prior.csv', header = 0,  skiprows=lambda i: i>0 and random.random() > p)"
   ]
  },
  {
   "cell_type": "code",
   "execution_count": 10,
   "id": "settled-superior",
   "metadata": {},
   "outputs": [],
   "source": [
    "# reading random 5% of the orders dataset\n",
    "p = 0.05\n",
    "orders = pd.read_csv('data/orders.csv', header = 0,  skiprows=lambda i: i>0 and random.random() > p)"
   ]
  },
  {
   "cell_type": "code",
   "execution_count": 11,
   "id": "united-visiting",
   "metadata": {},
   "outputs": [],
   "source": [
    "# reading in products data\n",
    "products = pd.read_csv('data/products.csv')"
   ]
  },
  {
   "cell_type": "code",
   "execution_count": 12,
   "id": "integral-profile",
   "metadata": {},
   "outputs": [],
   "source": [
    "# reading random 5% of the train order dataset\n",
    "p = 0.05\n",
    "order_train = pd.read_csv('data/order_products__train.csv', header = 0,  skiprows=lambda i: i>0 and random.random() > p)"
   ]
  },
  {
   "cell_type": "code",
   "execution_count": 13,
   "id": "alert-investigator",
   "metadata": {},
   "outputs": [
    {
     "data": {
      "text/html": [
       "<div>\n",
       "<style scoped>\n",
       "    .dataframe tbody tr th:only-of-type {\n",
       "        vertical-align: middle;\n",
       "    }\n",
       "\n",
       "    .dataframe tbody tr th {\n",
       "        vertical-align: top;\n",
       "    }\n",
       "\n",
       "    .dataframe thead th {\n",
       "        text-align: right;\n",
       "    }\n",
       "</style>\n",
       "<table border=\"1\" class=\"dataframe\">\n",
       "  <thead>\n",
       "    <tr style=\"text-align: right;\">\n",
       "      <th></th>\n",
       "      <th>aisle_id</th>\n",
       "      <th>aisle</th>\n",
       "    </tr>\n",
       "  </thead>\n",
       "  <tbody>\n",
       "    <tr>\n",
       "      <th>0</th>\n",
       "      <td>1</td>\n",
       "      <td>prepared soups salads</td>\n",
       "    </tr>\n",
       "    <tr>\n",
       "      <th>1</th>\n",
       "      <td>2</td>\n",
       "      <td>specialty cheeses</td>\n",
       "    </tr>\n",
       "  </tbody>\n",
       "</table>\n",
       "</div>"
      ],
      "text/plain": [
       "   aisle_id                  aisle\n",
       "0         1  prepared soups salads\n",
       "1         2      specialty cheeses"
      ]
     },
     "execution_count": 13,
     "metadata": {},
     "output_type": "execute_result"
    }
   ],
   "source": [
    "aisles.head(2)"
   ]
  },
  {
   "cell_type": "code",
   "execution_count": 14,
   "id": "accepting-pipeline",
   "metadata": {},
   "outputs": [
    {
     "data": {
      "text/html": [
       "<div>\n",
       "<style scoped>\n",
       "    .dataframe tbody tr th:only-of-type {\n",
       "        vertical-align: middle;\n",
       "    }\n",
       "\n",
       "    .dataframe tbody tr th {\n",
       "        vertical-align: top;\n",
       "    }\n",
       "\n",
       "    .dataframe thead th {\n",
       "        text-align: right;\n",
       "    }\n",
       "</style>\n",
       "<table border=\"1\" class=\"dataframe\">\n",
       "  <thead>\n",
       "    <tr style=\"text-align: right;\">\n",
       "      <th></th>\n",
       "      <th>department_id</th>\n",
       "      <th>department</th>\n",
       "    </tr>\n",
       "  </thead>\n",
       "  <tbody>\n",
       "    <tr>\n",
       "      <th>0</th>\n",
       "      <td>1</td>\n",
       "      <td>frozen</td>\n",
       "    </tr>\n",
       "    <tr>\n",
       "      <th>1</th>\n",
       "      <td>2</td>\n",
       "      <td>other</td>\n",
       "    </tr>\n",
       "  </tbody>\n",
       "</table>\n",
       "</div>"
      ],
      "text/plain": [
       "   department_id department\n",
       "0              1     frozen\n",
       "1              2      other"
      ]
     },
     "execution_count": 14,
     "metadata": {},
     "output_type": "execute_result"
    }
   ],
   "source": [
    "department.head(2)"
   ]
  },
  {
   "cell_type": "code",
   "execution_count": 15,
   "id": "favorite-generation",
   "metadata": {},
   "outputs": [
    {
     "data": {
      "text/html": [
       "<div>\n",
       "<style scoped>\n",
       "    .dataframe tbody tr th:only-of-type {\n",
       "        vertical-align: middle;\n",
       "    }\n",
       "\n",
       "    .dataframe tbody tr th {\n",
       "        vertical-align: top;\n",
       "    }\n",
       "\n",
       "    .dataframe thead th {\n",
       "        text-align: right;\n",
       "    }\n",
       "</style>\n",
       "<table border=\"1\" class=\"dataframe\">\n",
       "  <thead>\n",
       "    <tr style=\"text-align: right;\">\n",
       "      <th></th>\n",
       "      <th>order_id</th>\n",
       "      <th>product_id</th>\n",
       "      <th>add_to_cart_order</th>\n",
       "      <th>reordered</th>\n",
       "    </tr>\n",
       "  </thead>\n",
       "  <tbody>\n",
       "    <tr>\n",
       "      <th>0</th>\n",
       "      <td>2</td>\n",
       "      <td>9327</td>\n",
       "      <td>3</td>\n",
       "      <td>0</td>\n",
       "    </tr>\n",
       "    <tr>\n",
       "      <th>1</th>\n",
       "      <td>3</td>\n",
       "      <td>17704</td>\n",
       "      <td>3</td>\n",
       "      <td>1</td>\n",
       "    </tr>\n",
       "  </tbody>\n",
       "</table>\n",
       "</div>"
      ],
      "text/plain": [
       "   order_id  product_id  add_to_cart_order  reordered\n",
       "0         2        9327                  3          0\n",
       "1         3       17704                  3          1"
      ]
     },
     "execution_count": 15,
     "metadata": {},
     "output_type": "execute_result"
    }
   ],
   "source": [
    "order_prior.head(2)"
   ]
  },
  {
   "cell_type": "code",
   "execution_count": 17,
   "id": "mobile-class",
   "metadata": {},
   "outputs": [
    {
     "data": {
      "text/html": [
       "<div>\n",
       "<style scoped>\n",
       "    .dataframe tbody tr th:only-of-type {\n",
       "        vertical-align: middle;\n",
       "    }\n",
       "\n",
       "    .dataframe tbody tr th {\n",
       "        vertical-align: top;\n",
       "    }\n",
       "\n",
       "    .dataframe thead th {\n",
       "        text-align: right;\n",
       "    }\n",
       "</style>\n",
       "<table border=\"1\" class=\"dataframe\">\n",
       "  <thead>\n",
       "    <tr style=\"text-align: right;\">\n",
       "      <th></th>\n",
       "      <th>order_id</th>\n",
       "      <th>user_id</th>\n",
       "      <th>eval_set</th>\n",
       "      <th>order_number</th>\n",
       "      <th>order_dow</th>\n",
       "      <th>order_hour_of_day</th>\n",
       "      <th>days_since_prior_order</th>\n",
       "    </tr>\n",
       "  </thead>\n",
       "  <tbody>\n",
       "    <tr>\n",
       "      <th>0</th>\n",
       "      <td>473747</td>\n",
       "      <td>1</td>\n",
       "      <td>prior</td>\n",
       "      <td>3</td>\n",
       "      <td>3</td>\n",
       "      <td>12</td>\n",
       "      <td>21.0</td>\n",
       "    </tr>\n",
       "    <tr>\n",
       "      <th>1</th>\n",
       "      <td>1416320</td>\n",
       "      <td>16</td>\n",
       "      <td>test</td>\n",
       "      <td>7</td>\n",
       "      <td>0</td>\n",
       "      <td>13</td>\n",
       "      <td>7.0</td>\n",
       "    </tr>\n",
       "  </tbody>\n",
       "</table>\n",
       "</div>"
      ],
      "text/plain": [
       "   order_id  user_id eval_set  order_number  order_dow  order_hour_of_day  \\\n",
       "0    473747        1    prior             3          3                 12   \n",
       "1   1416320       16     test             7          0                 13   \n",
       "\n",
       "   days_since_prior_order  \n",
       "0                    21.0  \n",
       "1                     7.0  "
      ]
     },
     "execution_count": 17,
     "metadata": {},
     "output_type": "execute_result"
    }
   ],
   "source": [
    "orders.head(2)"
   ]
  },
  {
   "cell_type": "code",
   "execution_count": 20,
   "id": "pacific-poverty",
   "metadata": {},
   "outputs": [
    {
     "data": {
      "text/html": [
       "<div>\n",
       "<style scoped>\n",
       "    .dataframe tbody tr th:only-of-type {\n",
       "        vertical-align: middle;\n",
       "    }\n",
       "\n",
       "    .dataframe tbody tr th {\n",
       "        vertical-align: top;\n",
       "    }\n",
       "\n",
       "    .dataframe thead th {\n",
       "        text-align: right;\n",
       "    }\n",
       "</style>\n",
       "<table border=\"1\" class=\"dataframe\">\n",
       "  <thead>\n",
       "    <tr style=\"text-align: right;\">\n",
       "      <th></th>\n",
       "      <th>product_id</th>\n",
       "      <th>product_name</th>\n",
       "      <th>aisle_id</th>\n",
       "      <th>department_id</th>\n",
       "    </tr>\n",
       "  </thead>\n",
       "  <tbody>\n",
       "    <tr>\n",
       "      <th>0</th>\n",
       "      <td>1</td>\n",
       "      <td>Chocolate Sandwich Cookies</td>\n",
       "      <td>61</td>\n",
       "      <td>19</td>\n",
       "    </tr>\n",
       "    <tr>\n",
       "      <th>1</th>\n",
       "      <td>2</td>\n",
       "      <td>All-Seasons Salt</td>\n",
       "      <td>104</td>\n",
       "      <td>13</td>\n",
       "    </tr>\n",
       "  </tbody>\n",
       "</table>\n",
       "</div>"
      ],
      "text/plain": [
       "   product_id                product_name  aisle_id  department_id\n",
       "0           1  Chocolate Sandwich Cookies        61             19\n",
       "1           2            All-Seasons Salt       104             13"
      ]
     },
     "execution_count": 20,
     "metadata": {},
     "output_type": "execute_result"
    }
   ],
   "source": [
    "products.head(2)"
   ]
  },
  {
   "cell_type": "code",
   "execution_count": 21,
   "id": "homeless-yield",
   "metadata": {},
   "outputs": [
    {
     "data": {
      "text/html": [
       "<div>\n",
       "<style scoped>\n",
       "    .dataframe tbody tr th:only-of-type {\n",
       "        vertical-align: middle;\n",
       "    }\n",
       "\n",
       "    .dataframe tbody tr th {\n",
       "        vertical-align: top;\n",
       "    }\n",
       "\n",
       "    .dataframe thead th {\n",
       "        text-align: right;\n",
       "    }\n",
       "</style>\n",
       "<table border=\"1\" class=\"dataframe\">\n",
       "  <thead>\n",
       "    <tr style=\"text-align: right;\">\n",
       "      <th></th>\n",
       "      <th>order_id</th>\n",
       "      <th>product_id</th>\n",
       "      <th>add_to_cart_order</th>\n",
       "      <th>reordered</th>\n",
       "    </tr>\n",
       "  </thead>\n",
       "  <tbody>\n",
       "    <tr>\n",
       "      <th>0</th>\n",
       "      <td>1</td>\n",
       "      <td>11109</td>\n",
       "      <td>2</td>\n",
       "      <td>1</td>\n",
       "    </tr>\n",
       "    <tr>\n",
       "      <th>1</th>\n",
       "      <td>36</td>\n",
       "      <td>34497</td>\n",
       "      <td>6</td>\n",
       "      <td>1</td>\n",
       "    </tr>\n",
       "  </tbody>\n",
       "</table>\n",
       "</div>"
      ],
      "text/plain": [
       "   order_id  product_id  add_to_cart_order  reordered\n",
       "0         1       11109                  2          1\n",
       "1        36       34497                  6          1"
      ]
     },
     "execution_count": 21,
     "metadata": {},
     "output_type": "execute_result"
    }
   ],
   "source": [
    "order_train.head(2)"
   ]
  },
  {
   "cell_type": "code",
   "execution_count": 16,
   "id": "dangerous-regression",
   "metadata": {},
   "outputs": [
    {
     "data": {
      "text/plain": [
       "(1623277, 4)"
      ]
     },
     "execution_count": 16,
     "metadata": {},
     "output_type": "execute_result"
    }
   ],
   "source": [
    "order_prior.shape"
   ]
  },
  {
   "cell_type": "code",
   "execution_count": 18,
   "id": "distinct-detector",
   "metadata": {},
   "outputs": [
    {
     "data": {
      "text/plain": [
       "(170092, 7)"
      ]
     },
     "execution_count": 18,
     "metadata": {},
     "output_type": "execute_result"
    }
   ],
   "source": [
    "orders.shape"
   ]
  },
  {
   "cell_type": "code",
   "execution_count": 19,
   "id": "grave-samoa",
   "metadata": {},
   "outputs": [
    {
     "data": {
      "text/plain": [
       "(69048, 4)"
      ]
     },
     "execution_count": 19,
     "metadata": {},
     "output_type": "execute_result"
    }
   ],
   "source": [
    "order_train.shape"
   ]
  },
  {
   "cell_type": "code",
   "execution_count": 22,
   "id": "owned-yukon",
   "metadata": {},
   "outputs": [
    {
     "data": {
      "text/plain": [
       "(1623277, 4)"
      ]
     },
     "execution_count": 22,
     "metadata": {},
     "output_type": "execute_result"
    }
   ],
   "source": [
    "order_prior.shape"
   ]
  },
  {
   "cell_type": "code",
   "execution_count": 23,
   "id": "ranging-antibody",
   "metadata": {},
   "outputs": [
    {
     "data": {
      "text/plain": [
       "order_id                      0\n",
       "user_id                       0\n",
       "eval_set                      0\n",
       "order_number                  0\n",
       "order_dow                     0\n",
       "order_hour_of_day             0\n",
       "days_since_prior_order    10246\n",
       "dtype: int64"
      ]
     },
     "execution_count": 23,
     "metadata": {},
     "output_type": "execute_result"
    }
   ],
   "source": [
    "# check the orders dataset for null values\n",
    "orders.isnull().sum()"
   ]
  },
  {
   "cell_type": "markdown",
   "id": "special-amino",
   "metadata": {},
   "source": [
    "Missing values in the 'days since prior order' column mean that these customers did not make prior purchases."
   ]
  },
  {
   "cell_type": "code",
   "execution_count": 24,
   "id": "premier-resort",
   "metadata": {},
   "outputs": [],
   "source": [
    "orders.dropna(axis = 0, inplace = True) # delete rows with missing values"
   ]
  },
  {
   "cell_type": "markdown",
   "id": "stuffed-baking",
   "metadata": {},
   "source": [
    "**Split Orders Dataframe into Prior, Train, and Test Dataframes**"
   ]
  },
  {
   "cell_type": "code",
   "execution_count": 25,
   "id": "actual-sydney",
   "metadata": {},
   "outputs": [
    {
     "data": {
      "text/plain": [
       "prior    0.935970\n",
       "train    0.040376\n",
       "test     0.023654\n",
       "Name: eval_set, dtype: float64"
      ]
     },
     "execution_count": 25,
     "metadata": {},
     "output_type": "execute_result"
    }
   ],
   "source": [
    "orders['eval_set'].value_counts(normalize = True) # breakdown of orders dataframe"
   ]
  },
  {
   "cell_type": "code",
   "execution_count": 26,
   "id": "accepted-backup",
   "metadata": {},
   "outputs": [],
   "source": [
    "# create filter to separate test orders\n",
    "orders_test_filtered = orders['eval_set'] == 'test'"
   ]
  },
  {
   "cell_type": "code",
   "execution_count": 27,
   "id": "physical-garden",
   "metadata": {},
   "outputs": [],
   "source": [
    "# apply filter to orders dataframe \n",
    "orders_test = orders[orders_test_filtered]"
   ]
  },
  {
   "cell_type": "code",
   "execution_count": 28,
   "id": "convenient-roots",
   "metadata": {},
   "outputs": [],
   "source": [
    "# save test orders to csv file for modeling \n",
    "orders_test.to_csv('data/orders_test.csv')"
   ]
  },
  {
   "cell_type": "code",
   "execution_count": 29,
   "id": "separated-politics",
   "metadata": {},
   "outputs": [],
   "source": [
    "# create filter to separate prior orders\n",
    "orders_filtered_prior = orders['eval_set'] == 'prior'"
   ]
  },
  {
   "cell_type": "code",
   "execution_count": 30,
   "id": "guilty-factory",
   "metadata": {},
   "outputs": [],
   "source": [
    "# apply filter to a dataframe\n",
    "orders_prior_details = orders[orders_filtered_prior]"
   ]
  },
  {
   "cell_type": "code",
   "execution_count": 31,
   "id": "distinct-throat",
   "metadata": {},
   "outputs": [],
   "source": [
    "# create filter to separate train orders\n",
    "orders_filtered_train = orders['eval_set'] == 'train' "
   ]
  },
  {
   "cell_type": "code",
   "execution_count": 32,
   "id": "strategic-haiti",
   "metadata": {},
   "outputs": [],
   "source": [
    "# apply filter to a dataframe\n",
    "orders_train_details = orders[orders_filtered_train]"
   ]
  },
  {
   "cell_type": "markdown",
   "id": "vertical-reservoir",
   "metadata": {},
   "source": [
    "**Merge products and order_prior dataframes**"
   ]
  },
  {
   "cell_type": "code",
   "execution_count": 36,
   "id": "hollywood-scratch",
   "metadata": {},
   "outputs": [],
   "source": [
    "prod_orders_prior = pd.merge(products, order_prior,  on = 'product_id') # marge products and orders"
   ]
  },
  {
   "cell_type": "code",
   "execution_count": 37,
   "id": "toxic-battlefield",
   "metadata": {},
   "outputs": [
    {
     "data": {
      "text/html": [
       "<div>\n",
       "<style scoped>\n",
       "    .dataframe tbody tr th:only-of-type {\n",
       "        vertical-align: middle;\n",
       "    }\n",
       "\n",
       "    .dataframe tbody tr th {\n",
       "        vertical-align: top;\n",
       "    }\n",
       "\n",
       "    .dataframe thead th {\n",
       "        text-align: right;\n",
       "    }\n",
       "</style>\n",
       "<table border=\"1\" class=\"dataframe\">\n",
       "  <thead>\n",
       "    <tr style=\"text-align: right;\">\n",
       "      <th></th>\n",
       "      <th>product_id</th>\n",
       "      <th>product_name</th>\n",
       "      <th>aisle_id</th>\n",
       "      <th>department_id</th>\n",
       "      <th>order_id</th>\n",
       "      <th>add_to_cart_order</th>\n",
       "      <th>reordered</th>\n",
       "    </tr>\n",
       "  </thead>\n",
       "  <tbody>\n",
       "    <tr>\n",
       "      <th>0</th>\n",
       "      <td>1</td>\n",
       "      <td>Chocolate Sandwich Cookies</td>\n",
       "      <td>61</td>\n",
       "      <td>19</td>\n",
       "      <td>25365</td>\n",
       "      <td>9</td>\n",
       "      <td>1</td>\n",
       "    </tr>\n",
       "    <tr>\n",
       "      <th>1</th>\n",
       "      <td>1</td>\n",
       "      <td>Chocolate Sandwich Cookies</td>\n",
       "      <td>61</td>\n",
       "      <td>19</td>\n",
       "      <td>33675</td>\n",
       "      <td>10</td>\n",
       "      <td>1</td>\n",
       "    </tr>\n",
       "  </tbody>\n",
       "</table>\n",
       "</div>"
      ],
      "text/plain": [
       "   product_id                product_name  aisle_id  department_id  order_id  \\\n",
       "0           1  Chocolate Sandwich Cookies        61             19     25365   \n",
       "1           1  Chocolate Sandwich Cookies        61             19     33675   \n",
       "\n",
       "   add_to_cart_order  reordered  \n",
       "0                  9          1  \n",
       "1                 10          1  "
      ]
     },
     "execution_count": 37,
     "metadata": {},
     "output_type": "execute_result"
    }
   ],
   "source": [
    "prod_orders_prior.head(2)"
   ]
  },
  {
   "cell_type": "code",
   "execution_count": 38,
   "id": "foreign-meter",
   "metadata": {},
   "outputs": [
    {
     "data": {
      "text/plain": [
       "(1623277, 7)"
      ]
     },
     "execution_count": 38,
     "metadata": {},
     "output_type": "execute_result"
    }
   ],
   "source": [
    "prod_orders_prior.shape # check if all rows remain"
   ]
  },
  {
   "cell_type": "code",
   "execution_count": 39,
   "id": "serial-express",
   "metadata": {},
   "outputs": [
    {
     "data": {
      "text/plain": [
       "1176991"
      ]
     },
     "execution_count": 39,
     "metadata": {},
     "output_type": "execute_result"
    }
   ],
   "source": [
    "len(prod_orders_prior['order_id'].unique())"
   ]
  },
  {
   "cell_type": "markdown",
   "id": "tropical-gravity",
   "metadata": {},
   "source": [
    "**Merge products and order_train dataframes**"
   ]
  },
  {
   "cell_type": "code",
   "execution_count": 40,
   "id": "large-gateway",
   "metadata": {},
   "outputs": [],
   "source": [
    "prod_orders_train = pd.merge(products, order_train,  on = 'product_id') # merge products and train orders"
   ]
  },
  {
   "cell_type": "code",
   "execution_count": 42,
   "id": "hearing-muscle",
   "metadata": {},
   "outputs": [
    {
     "data": {
      "text/plain": [
       "(69048, 7)"
      ]
     },
     "execution_count": 42,
     "metadata": {},
     "output_type": "execute_result"
    }
   ],
   "source": [
    "prod_orders_train.shape"
   ]
  },
  {
   "cell_type": "markdown",
   "id": "paperback-investment",
   "metadata": {},
   "source": [
    "**Concat prod_orders_train and prod_order_prior dataframes**"
   ]
  },
  {
   "cell_type": "code",
   "execution_count": 43,
   "id": "later-future",
   "metadata": {},
   "outputs": [],
   "source": [
    "orders_train_prior = pd.concat([prod_orders_train, prod_orders_prior], ignore_index = True, sort = False)"
   ]
  },
  {
   "cell_type": "code",
   "execution_count": 44,
   "id": "federal-lithuania",
   "metadata": {},
   "outputs": [
    {
     "data": {
      "text/plain": [
       "(1692325, 7)"
      ]
     },
     "execution_count": 44,
     "metadata": {},
     "output_type": "execute_result"
    }
   ],
   "source": [
    "orders_train_prior.shape"
   ]
  },
  {
   "cell_type": "markdown",
   "id": "stuck-coaching",
   "metadata": {},
   "source": [
    "**Add quantity column**"
   ]
  },
  {
   "cell_type": "code",
   "execution_count": 45,
   "id": "excess-alcohol",
   "metadata": {},
   "outputs": [],
   "source": [
    "# create quantity column reflecting number of products\n",
    "orders_train_prior.loc[orders_train_prior['product_name'].notna(), 'quantity'] = 1"
   ]
  },
  {
   "cell_type": "code",
   "execution_count": 46,
   "id": "scenic-florist",
   "metadata": {},
   "outputs": [],
   "source": [
    "# lowercase product names\n",
    "orders_train_prior['product_name'] = orders_train_prior['product_name'].str.lower()"
   ]
  },
  {
   "cell_type": "code",
   "execution_count": 47,
   "id": "opened-interstate",
   "metadata": {},
   "outputs": [],
   "source": [
    "# take out commas in the product name\n",
    "orders_train_prior['product_name'] = orders_train_prior['product_name'].str.replace(\",\",\"\")"
   ]
  },
  {
   "cell_type": "code",
   "execution_count": 48,
   "id": "eleven-prediction",
   "metadata": {},
   "outputs": [],
   "source": [
    "# save resulting dataframe into a csv file\n",
    "orders_train_prior.to_csv('data/orders_train_prior.csv', index = False)"
   ]
  },
  {
   "cell_type": "markdown",
   "id": "national-baseball",
   "metadata": {},
   "source": [
    "**Merge prod_orders_prior, orders_prior_details dataframes**"
   ]
  },
  {
   "cell_type": "code",
   "execution_count": 49,
   "id": "spoken-healing",
   "metadata": {},
   "outputs": [],
   "source": [
    "all_orders_prior = pd.merge(prod_orders_prior, orders_prior_details, on = 'order_id')"
   ]
  },
  {
   "cell_type": "code",
   "execution_count": 54,
   "id": "fallen-approach",
   "metadata": {},
   "outputs": [],
   "source": [
    "# lowercase product names\n",
    "all_orders_prior['product_name'] = all_orders_prior['product_name'].str.lower()"
   ]
  },
  {
   "cell_type": "code",
   "execution_count": 55,
   "id": "portuguese-rhythm",
   "metadata": {},
   "outputs": [],
   "source": [
    "# take out commas in the product names\n",
    "all_orders_prior['product_name'] = all_orders_prior['product_name'].str.replace(\",\",\"\")"
   ]
  },
  {
   "cell_type": "code",
   "execution_count": 56,
   "id": "permanent-multiple",
   "metadata": {},
   "outputs": [],
   "source": [
    "# save the dataframe into a csv file\n",
    "all_orders_prior.to_csv('data/all_orders_prior.csv', index = False)"
   ]
  },
  {
   "cell_type": "markdown",
   "id": "velvet-interference",
   "metadata": {},
   "source": [
    "**Merge prod_orders_train, prod_orders_prior and all orders dataframes**"
   ]
  },
  {
   "cell_type": "code",
   "execution_count": 58,
   "id": "useful-fancy",
   "metadata": {},
   "outputs": [],
   "source": [
    "all_orders_train = pd.merge(prod_orders_train, orders_train_details, on = 'order_id')"
   ]
  },
  {
   "cell_type": "code",
   "execution_count": 59,
   "id": "supposed-cooling",
   "metadata": {},
   "outputs": [],
   "source": [
    "# lowercase product names\n",
    "all_orders_train['product_name'] = all_orders_train['product_name'].str.lower()"
   ]
  },
  {
   "cell_type": "code",
   "execution_count": 60,
   "id": "better-painting",
   "metadata": {},
   "outputs": [],
   "source": [
    "# take out commas in the product name column\n",
    "all_orders_train['product_name'] = all_orders_train['product_name'].str.replace(\",\",\"\")"
   ]
  },
  {
   "cell_type": "code",
   "execution_count": 61,
   "id": "pharmaceutical-louisville",
   "metadata": {},
   "outputs": [],
   "source": [
    "# save the dataframe into a csv file\n",
    "all_orders_train.to_csv('data/all_orders_train.csv', index = False)"
   ]
  },
  {
   "cell_type": "markdown",
   "id": "parliamentary-anchor",
   "metadata": {},
   "source": [
    "**Concat all train and prior orders**"
   ]
  },
  {
   "cell_type": "code",
   "execution_count": 62,
   "id": "offensive-royalty",
   "metadata": {},
   "outputs": [],
   "source": [
    "all_orders = pd.concat([all_orders_train, all_orders_prior], ignore_index = True, sort = False)"
   ]
  },
  {
   "cell_type": "markdown",
   "id": "equivalent-prevention",
   "metadata": {},
   "source": [
    "**Add quantity column to all_orders dataframe**"
   ]
  },
  {
   "cell_type": "code",
   "execution_count": 64,
   "id": "prompt-tobacco",
   "metadata": {},
   "outputs": [],
   "source": [
    "# create quantity column reflecting number of products\n",
    "all_orders.loc[all_orders['product_name'].notna(), 'quantity'] = 1"
   ]
  },
  {
   "cell_type": "markdown",
   "id": "worthy-division",
   "metadata": {},
   "source": [
    "**Merge aisles, department, and all_orders dataframes**"
   ]
  },
  {
   "cell_type": "code",
   "execution_count": 65,
   "id": "athletic-forestry",
   "metadata": {},
   "outputs": [],
   "source": [
    "all_orders = pd.merge(all_orders, aisles, on = 'aisle_id')"
   ]
  },
  {
   "cell_type": "code",
   "execution_count": 66,
   "id": "inner-reading",
   "metadata": {},
   "outputs": [],
   "source": [
    "all_orders = pd.merge(all_orders, department, on = 'department_id')"
   ]
  },
  {
   "cell_type": "code",
   "execution_count": 68,
   "id": "declared-credits",
   "metadata": {},
   "outputs": [],
   "source": [
    "all_orders['product_name'] = all_orders['product_name'].str.lower() # lowercase product names"
   ]
  },
  {
   "cell_type": "code",
   "execution_count": 69,
   "id": "impressed-transfer",
   "metadata": {},
   "outputs": [],
   "source": [
    "all_orders['product_name'] = all_orders['product_name'].str.replace(\",\",\"\") # take out commas in the product names"
   ]
  },
  {
   "cell_type": "code",
   "execution_count": 70,
   "id": "monetary-security",
   "metadata": {},
   "outputs": [],
   "source": [
    "# save the dataframe to a csv file\n",
    "all_orders.to_csv('data/all_orders.csv', index = False) "
   ]
  }
 ],
 "metadata": {
  "kernelspec": {
   "display_name": "Python 3",
   "language": "python",
   "name": "python3"
  },
  "language_info": {
   "codemirror_mode": {
    "name": "ipython",
    "version": 3
   },
   "file_extension": ".py",
   "mimetype": "text/x-python",
   "name": "python",
   "nbconvert_exporter": "python",
   "pygments_lexer": "ipython3",
   "version": "3.8.5"
  }
 },
 "nbformat": 4,
 "nbformat_minor": 5
}
