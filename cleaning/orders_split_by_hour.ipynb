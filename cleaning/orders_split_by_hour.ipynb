{
 "cells": [
  {
   "cell_type": "markdown",
   "id": "afraid-frost",
   "metadata": {},
   "source": [
    "#### Splitting Orders Dataset: Morning, Daytime, and Evening Orders"
   ]
  },
  {
   "cell_type": "code",
   "execution_count": 1,
   "id": "assumed-separation",
   "metadata": {},
   "outputs": [],
   "source": [
    "# imports\n",
    "import numpy as np\n",
    "import matplotlib.pyplot as plt\n",
    "import pandas as pd\n",
    "import random"
   ]
  },
  {
   "cell_type": "markdown",
   "id": "western-revolution",
   "metadata": {},
   "source": [
    "**Reading the Data**"
   ]
  },
  {
   "cell_type": "code",
   "execution_count": 6,
   "id": "soviet-graphics",
   "metadata": {},
   "outputs": [],
   "source": [
    "all_orders = pd.read_csv('data/all_orders.csv')"
   ]
  },
  {
   "cell_type": "markdown",
   "id": "mature-american",
   "metadata": {},
   "source": [
    "**Morning Orders**"
   ]
  },
  {
   "cell_type": "code",
   "execution_count": 7,
   "id": "judicial-legend",
   "metadata": {},
   "outputs": [],
   "source": [
    "# create a filter for morning orders\n",
    "filter_hour_morning = all_orders['order_hour_of_day'] < 11\n",
    "# apply filter to orders\n",
    "morning_orders = all_orders[filter_hour_morning]\n",
    "\n",
    "# save resulting dataframe into a csv file\n",
    "morning_orders.to_csv('data/morning_orders.csv', index = False)"
   ]
  },
  {
   "cell_type": "code",
   "execution_count": 11,
   "id": "numerical-equipment",
   "metadata": {},
   "outputs": [
    {
     "data": {
      "text/html": [
       "<div>\n",
       "<style scoped>\n",
       "    .dataframe tbody tr th:only-of-type {\n",
       "        vertical-align: middle;\n",
       "    }\n",
       "\n",
       "    .dataframe tbody tr th {\n",
       "        vertical-align: top;\n",
       "    }\n",
       "\n",
       "    .dataframe thead th {\n",
       "        text-align: right;\n",
       "    }\n",
       "</style>\n",
       "<table border=\"1\" class=\"dataframe\">\n",
       "  <thead>\n",
       "    <tr style=\"text-align: right;\">\n",
       "      <th></th>\n",
       "      <th>product_id</th>\n",
       "      <th>product_name</th>\n",
       "      <th>aisle_id</th>\n",
       "      <th>department_id</th>\n",
       "      <th>order_id</th>\n",
       "      <th>add_to_cart_order</th>\n",
       "      <th>reordered</th>\n",
       "      <th>user_id</th>\n",
       "      <th>eval_set</th>\n",
       "      <th>order_number</th>\n",
       "      <th>order_dow</th>\n",
       "      <th>order_hour_of_day</th>\n",
       "      <th>days_since_prior_order</th>\n",
       "      <th>quantity</th>\n",
       "      <th>aisle</th>\n",
       "      <th>department</th>\n",
       "    </tr>\n",
       "  </thead>\n",
       "  <tbody>\n",
       "    <tr>\n",
       "      <th>1</th>\n",
       "      <td>27398</td>\n",
       "      <td>genuine chocolate flavor syrup</td>\n",
       "      <td>103</td>\n",
       "      <td>19</td>\n",
       "      <td>2706050</td>\n",
       "      <td>1</td>\n",
       "      <td>1</td>\n",
       "      <td>188144</td>\n",
       "      <td>train</td>\n",
       "      <td>36</td>\n",
       "      <td>2</td>\n",
       "      <td>10</td>\n",
       "      <td>4.0</td>\n",
       "      <td>1.0</td>\n",
       "      <td>ice cream toppings</td>\n",
       "      <td>snacks</td>\n",
       "    </tr>\n",
       "    <tr>\n",
       "      <th>4</th>\n",
       "      <td>13506</td>\n",
       "      <td>magic shell chocolate fudge</td>\n",
       "      <td>103</td>\n",
       "      <td>19</td>\n",
       "      <td>2242040</td>\n",
       "      <td>9</td>\n",
       "      <td>0</td>\n",
       "      <td>37146</td>\n",
       "      <td>prior</td>\n",
       "      <td>9</td>\n",
       "      <td>3</td>\n",
       "      <td>8</td>\n",
       "      <td>10.0</td>\n",
       "      <td>1.0</td>\n",
       "      <td>ice cream toppings</td>\n",
       "      <td>snacks</td>\n",
       "    </tr>\n",
       "  </tbody>\n",
       "</table>\n",
       "</div>"
      ],
      "text/plain": [
       "   product_id                    product_name  aisle_id  department_id  \\\n",
       "1       27398  genuine chocolate flavor syrup       103             19   \n",
       "4       13506     magic shell chocolate fudge       103             19   \n",
       "\n",
       "   order_id  add_to_cart_order  reordered  user_id eval_set  order_number  \\\n",
       "1   2706050                  1          1   188144    train            36   \n",
       "4   2242040                  9          0    37146    prior             9   \n",
       "\n",
       "   order_dow  order_hour_of_day  days_since_prior_order  quantity  \\\n",
       "1          2                 10                     4.0       1.0   \n",
       "4          3                  8                    10.0       1.0   \n",
       "\n",
       "                aisle department  \n",
       "1  ice cream toppings     snacks  \n",
       "4  ice cream toppings     snacks  "
      ]
     },
     "execution_count": 11,
     "metadata": {},
     "output_type": "execute_result"
    }
   ],
   "source": [
    "morning_orders.head(2)"
   ]
  },
  {
   "cell_type": "code",
   "execution_count": 13,
   "id": "advised-pride",
   "metadata": {},
   "outputs": [
    {
     "data": {
      "text/plain": [
       "(21597, 16)"
      ]
     },
     "execution_count": 13,
     "metadata": {},
     "output_type": "execute_result"
    }
   ],
   "source": [
    "morning_orders.shape"
   ]
  },
  {
   "cell_type": "markdown",
   "id": "systematic-israeli",
   "metadata": {},
   "source": [
    "**Daytime Orders**"
   ]
  },
  {
   "cell_type": "code",
   "execution_count": 9,
   "id": "eastern-breed",
   "metadata": {},
   "outputs": [],
   "source": [
    "# create filter for daytime orders placed starting 11am\n",
    "filter_hour_day = all_orders['order_hour_of_day'] > 11\n",
    "# apply filter to the orders dataframe\n",
    "intermediate_orders = all_orders[filter_hour_day]\n",
    "\n",
    "# create a second filter with 6pm as cut off\n",
    "filter_day_2 = intermediate_orders['order_hour_of_day'] < 18\n",
    "# apply the second filter - resulting orders will only contain orders placed between 11am and 6pm\n",
    "day_orders = intermediate_orders[filter_day_2]\n",
    "\n",
    "# save the resulting dataframe into a csv file\n",
    "day_orders.to_csv('data/day_orders.csv', index = False)"
   ]
  },
  {
   "cell_type": "code",
   "execution_count": 14,
   "id": "ancient-discharge",
   "metadata": {},
   "outputs": [
    {
     "data": {
      "text/html": [
       "<div>\n",
       "<style scoped>\n",
       "    .dataframe tbody tr th:only-of-type {\n",
       "        vertical-align: middle;\n",
       "    }\n",
       "\n",
       "    .dataframe tbody tr th {\n",
       "        vertical-align: top;\n",
       "    }\n",
       "\n",
       "    .dataframe thead th {\n",
       "        text-align: right;\n",
       "    }\n",
       "</style>\n",
       "<table border=\"1\" class=\"dataframe\">\n",
       "  <thead>\n",
       "    <tr style=\"text-align: right;\">\n",
       "      <th></th>\n",
       "      <th>product_id</th>\n",
       "      <th>product_name</th>\n",
       "      <th>aisle_id</th>\n",
       "      <th>department_id</th>\n",
       "      <th>order_id</th>\n",
       "      <th>add_to_cart_order</th>\n",
       "      <th>reordered</th>\n",
       "      <th>user_id</th>\n",
       "      <th>eval_set</th>\n",
       "      <th>order_number</th>\n",
       "      <th>order_dow</th>\n",
       "      <th>order_hour_of_day</th>\n",
       "      <th>days_since_prior_order</th>\n",
       "      <th>quantity</th>\n",
       "      <th>aisle</th>\n",
       "      <th>department</th>\n",
       "    </tr>\n",
       "  </thead>\n",
       "  <tbody>\n",
       "    <tr>\n",
       "      <th>0</th>\n",
       "      <td>16</td>\n",
       "      <td>mint chocolate flavored syrup</td>\n",
       "      <td>103</td>\n",
       "      <td>19</td>\n",
       "      <td>75159</td>\n",
       "      <td>3</td>\n",
       "      <td>0</td>\n",
       "      <td>28618</td>\n",
       "      <td>train</td>\n",
       "      <td>6</td>\n",
       "      <td>3</td>\n",
       "      <td>17</td>\n",
       "      <td>11.0</td>\n",
       "      <td>1.0</td>\n",
       "      <td>ice cream toppings</td>\n",
       "      <td>snacks</td>\n",
       "    </tr>\n",
       "    <tr>\n",
       "      <th>2</th>\n",
       "      <td>39469</td>\n",
       "      <td>organic chocolate flavored syrup</td>\n",
       "      <td>103</td>\n",
       "      <td>19</td>\n",
       "      <td>1016982</td>\n",
       "      <td>5</td>\n",
       "      <td>0</td>\n",
       "      <td>91509</td>\n",
       "      <td>train</td>\n",
       "      <td>8</td>\n",
       "      <td>5</td>\n",
       "      <td>12</td>\n",
       "      <td>30.0</td>\n",
       "      <td>1.0</td>\n",
       "      <td>ice cream toppings</td>\n",
       "      <td>snacks</td>\n",
       "    </tr>\n",
       "  </tbody>\n",
       "</table>\n",
       "</div>"
      ],
      "text/plain": [
       "   product_id                      product_name  aisle_id  department_id  \\\n",
       "0          16     mint chocolate flavored syrup       103             19   \n",
       "2       39469  organic chocolate flavored syrup       103             19   \n",
       "\n",
       "   order_id  add_to_cart_order  reordered  user_id eval_set  order_number  \\\n",
       "0     75159                  3          0    28618    train             6   \n",
       "2   1016982                  5          0    91509    train             8   \n",
       "\n",
       "   order_dow  order_hour_of_day  days_since_prior_order  quantity  \\\n",
       "0          3                 17                    11.0       1.0   \n",
       "2          5                 12                    30.0       1.0   \n",
       "\n",
       "                aisle department  \n",
       "0  ice cream toppings     snacks  \n",
       "2  ice cream toppings     snacks  "
      ]
     },
     "execution_count": 14,
     "metadata": {},
     "output_type": "execute_result"
    }
   ],
   "source": [
    "day_orders.head(2)"
   ]
  },
  {
   "cell_type": "code",
   "execution_count": 15,
   "id": "varied-republican",
   "metadata": {},
   "outputs": [
    {
     "data": {
      "text/plain": [
       "(36853, 16)"
      ]
     },
     "execution_count": 15,
     "metadata": {},
     "output_type": "execute_result"
    }
   ],
   "source": [
    "day_orders.shape"
   ]
  },
  {
   "cell_type": "markdown",
   "id": "virtual-chemical",
   "metadata": {},
   "source": [
    "**Evening Orders**"
   ]
  },
  {
   "cell_type": "code",
   "execution_count": 10,
   "id": "behavioral-chain",
   "metadata": {},
   "outputs": [],
   "source": [
    "# create filter for evening orders starting 6pm\n",
    "filter_hour_evening = all_orders['order_hour_of_day'] > 18\n",
    "# apply the filter to orders dataframe\n",
    "evening_orders = all_orders[filter_hour_evening]\n",
    "\n",
    "# save the resulting dataframe into a csv file\n",
    "evening_orders.to_csv('data/evening_orders.csv', index = False)"
   ]
  },
  {
   "cell_type": "code",
   "execution_count": 17,
   "id": "scientific-merit",
   "metadata": {},
   "outputs": [
    {
     "data": {
      "text/html": [
       "<div>\n",
       "<style scoped>\n",
       "    .dataframe tbody tr th:only-of-type {\n",
       "        vertical-align: middle;\n",
       "    }\n",
       "\n",
       "    .dataframe tbody tr th {\n",
       "        vertical-align: top;\n",
       "    }\n",
       "\n",
       "    .dataframe thead th {\n",
       "        text-align: right;\n",
       "    }\n",
       "</style>\n",
       "<table border=\"1\" class=\"dataframe\">\n",
       "  <thead>\n",
       "    <tr style=\"text-align: right;\">\n",
       "      <th></th>\n",
       "      <th>product_id</th>\n",
       "      <th>product_name</th>\n",
       "      <th>aisle_id</th>\n",
       "      <th>department_id</th>\n",
       "      <th>order_id</th>\n",
       "      <th>add_to_cart_order</th>\n",
       "      <th>reordered</th>\n",
       "      <th>user_id</th>\n",
       "      <th>eval_set</th>\n",
       "      <th>order_number</th>\n",
       "      <th>order_dow</th>\n",
       "      <th>order_hour_of_day</th>\n",
       "      <th>days_since_prior_order</th>\n",
       "      <th>quantity</th>\n",
       "      <th>aisle</th>\n",
       "      <th>department</th>\n",
       "    </tr>\n",
       "  </thead>\n",
       "  <tbody>\n",
       "    <tr>\n",
       "      <th>16</th>\n",
       "      <td>27398</td>\n",
       "      <td>genuine chocolate flavor syrup</td>\n",
       "      <td>103</td>\n",
       "      <td>19</td>\n",
       "      <td>2632398</td>\n",
       "      <td>8</td>\n",
       "      <td>0</td>\n",
       "      <td>195970</td>\n",
       "      <td>prior</td>\n",
       "      <td>10</td>\n",
       "      <td>3</td>\n",
       "      <td>20</td>\n",
       "      <td>28.0</td>\n",
       "      <td>1.0</td>\n",
       "      <td>ice cream toppings</td>\n",
       "      <td>snacks</td>\n",
       "    </tr>\n",
       "    <tr>\n",
       "      <th>22</th>\n",
       "      <td>39469</td>\n",
       "      <td>organic chocolate flavored syrup</td>\n",
       "      <td>103</td>\n",
       "      <td>19</td>\n",
       "      <td>3091654</td>\n",
       "      <td>9</td>\n",
       "      <td>0</td>\n",
       "      <td>192709</td>\n",
       "      <td>prior</td>\n",
       "      <td>3</td>\n",
       "      <td>2</td>\n",
       "      <td>19</td>\n",
       "      <td>13.0</td>\n",
       "      <td>1.0</td>\n",
       "      <td>ice cream toppings</td>\n",
       "      <td>snacks</td>\n",
       "    </tr>\n",
       "  </tbody>\n",
       "</table>\n",
       "</div>"
      ],
      "text/plain": [
       "    product_id                      product_name  aisle_id  department_id  \\\n",
       "16       27398    genuine chocolate flavor syrup       103             19   \n",
       "22       39469  organic chocolate flavored syrup       103             19   \n",
       "\n",
       "    order_id  add_to_cart_order  reordered  user_id eval_set  order_number  \\\n",
       "16   2632398                  8          0   195970    prior            10   \n",
       "22   3091654                  9          0   192709    prior             3   \n",
       "\n",
       "    order_dow  order_hour_of_day  days_since_prior_order  quantity  \\\n",
       "16          3                 20                    28.0       1.0   \n",
       "22          2                 19                    13.0       1.0   \n",
       "\n",
       "                 aisle department  \n",
       "16  ice cream toppings     snacks  \n",
       "22  ice cream toppings     snacks  "
      ]
     },
     "execution_count": 17,
     "metadata": {},
     "output_type": "execute_result"
    }
   ],
   "source": [
    "evening_orders.head(2)"
   ]
  },
  {
   "cell_type": "code",
   "execution_count": 18,
   "id": "saved-pride",
   "metadata": {},
   "outputs": [
    {
     "data": {
      "text/plain": [
       "(9973, 16)"
      ]
     },
     "execution_count": 18,
     "metadata": {},
     "output_type": "execute_result"
    }
   ],
   "source": [
    "evening_orders.shape"
   ]
  }
 ],
 "metadata": {
  "kernelspec": {
   "display_name": "Python 3",
   "language": "python",
   "name": "python3"
  },
  "language_info": {
   "codemirror_mode": {
    "name": "ipython",
    "version": 3
   },
   "file_extension": ".py",
   "mimetype": "text/x-python",
   "name": "python",
   "nbconvert_exporter": "python",
   "pygments_lexer": "ipython3",
   "version": "3.8.5"
  }
 },
 "nbformat": 4,
 "nbformat_minor": 5
}
