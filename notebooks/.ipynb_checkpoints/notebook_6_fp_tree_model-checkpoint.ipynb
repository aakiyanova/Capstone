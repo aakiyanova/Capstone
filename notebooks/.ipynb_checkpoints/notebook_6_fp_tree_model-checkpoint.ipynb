{
 "cells": [
  {
   "cell_type": "markdown",
   "id": "artistic-carter",
   "metadata": {},
   "source": [
    "#### Modeling and Analysis "
   ]
  },
  {
   "cell_type": "code",
   "execution_count": 24,
   "id": "dressed-manor",
   "metadata": {},
   "outputs": [],
   "source": [
    "import pandas as pd\n",
    "import numpy as np\n",
    "from fpgrowth_py import fpgrowth\n",
    "import pyfpgrowth\n",
    "import random\n",
    "import matplotlib.pyplot as plt\n",
    "from mlxtend.preprocessing import TransactionEncoder\n",
    "from mlxtend.frequent_patterns import fpgrowth\n"
   ]
  },
  {
   "cell_type": "code",
   "execution_count": 7,
   "id": "detected-visiting",
   "metadata": {},
   "outputs": [],
   "source": [
    "# reading aisles dataset\n",
    "aisles = pd.read_csv('data/aisles.csv')"
   ]
  },
  {
   "cell_type": "code",
   "execution_count": 8,
   "id": "regional-scott",
   "metadata": {},
   "outputs": [],
   "source": [
    "# reading department dataset\n",
    "department = pd.read_csv('data/departments.csv')"
   ]
  },
  {
   "cell_type": "code",
   "execution_count": 121,
   "id": "spiritual-microphone",
   "metadata": {},
   "outputs": [],
   "source": [
    "p = 0.05\n",
    "all_orders = pd.read_csv('data/orders_train_prior.csv', header = 0, skiprows = lambda i: i>0 and random.random() > p)"
   ]
  },
  {
   "cell_type": "code",
   "execution_count": 96,
   "id": "minus-assumption",
   "metadata": {},
   "outputs": [],
   "source": [
    "all_orders_full = pd.read_csv('data/orders_train_prior.csv')"
   ]
  },
  {
   "cell_type": "code",
   "execution_count": 80,
   "id": "indirect-huntington",
   "metadata": {},
   "outputs": [],
   "source": [
    "morning_orders = pd.read_csv('data/morning_orders.csv')"
   ]
  },
  {
   "cell_type": "markdown",
   "id": "contrary-cologne",
   "metadata": {},
   "source": [
    "**Morning Orders: preprocessing, onehotencode, find patterns**"
   ]
  },
  {
   "cell_type": "code",
   "execution_count": 81,
   "id": "adaptive-advancement",
   "metadata": {},
   "outputs": [],
   "source": [
    "# group products by order_id into a df\n",
    "df_morning = morning_orders.groupby('order_id')['product_name'].agg([('product_name', ', '.join)]).reset_index()"
   ]
  },
  {
   "cell_type": "code",
   "execution_count": 82,
   "id": "opening-hayes",
   "metadata": {},
   "outputs": [],
   "source": [
    "df_morning.set_index('order_id', inplace = True)"
   ]
  },
  {
   "cell_type": "code",
   "execution_count": 83,
   "id": "accepted-portugal",
   "metadata": {},
   "outputs": [
    {
     "data": {
      "text/html": [
       "<div>\n",
       "<style scoped>\n",
       "    .dataframe tbody tr th:only-of-type {\n",
       "        vertical-align: middle;\n",
       "    }\n",
       "\n",
       "    .dataframe tbody tr th {\n",
       "        vertical-align: top;\n",
       "    }\n",
       "\n",
       "    .dataframe thead th {\n",
       "        text-align: right;\n",
       "    }\n",
       "</style>\n",
       "<table border=\"1\" class=\"dataframe\">\n",
       "  <thead>\n",
       "    <tr style=\"text-align: right;\">\n",
       "      <th></th>\n",
       "      <th>product_name</th>\n",
       "    </tr>\n",
       "    <tr>\n",
       "      <th>order_id</th>\n",
       "      <th></th>\n",
       "    </tr>\n",
       "  </thead>\n",
       "  <tbody>\n",
       "    <tr>\n",
       "      <th>183</th>\n",
       "      <td>Black Tea Variety Pack</td>\n",
       "    </tr>\n",
       "    <tr>\n",
       "      <th>275</th>\n",
       "      <td>Grated Parmesan, Organic Broccoli Florets</td>\n",
       "    </tr>\n",
       "  </tbody>\n",
       "</table>\n",
       "</div>"
      ],
      "text/plain": [
       "                                       product_name\n",
       "order_id                                           \n",
       "183                          Black Tea Variety Pack\n",
       "275       Grated Parmesan, Organic Broccoli Florets"
      ]
     },
     "execution_count": 83,
     "metadata": {},
     "output_type": "execute_result"
    }
   ],
   "source": [
    "df_morning.head(2)"
   ]
  },
  {
   "cell_type": "code",
   "execution_count": 84,
   "id": "academic-verse",
   "metadata": {},
   "outputs": [
    {
     "name": "stdout",
     "output_type": "stream",
     "text": [
      "<class 'pandas.core.frame.DataFrame'>\n",
      "Int64Index: 16354 entries, 183 to 3420948\n",
      "Data columns (total 1 columns):\n",
      " #   Column        Non-Null Count  Dtype \n",
      "---  ------        --------------  ----- \n",
      " 0   product_name  16354 non-null  object\n",
      "dtypes: object(1)\n",
      "memory usage: 255.5+ KB\n"
     ]
    }
   ],
   "source": [
    "df_morning.info()"
   ]
  },
  {
   "cell_type": "code",
   "execution_count": 55,
   "id": "vietnamese-coral",
   "metadata": {},
   "outputs": [
    {
     "data": {
      "text/plain": [
       "(16354, 1)"
      ]
     },
     "execution_count": 55,
     "metadata": {},
     "output_type": "execute_result"
    }
   ],
   "source": [
    "df_morning.shape"
   ]
  },
  {
   "cell_type": "code",
   "execution_count": 85,
   "id": "environmental-triple",
   "metadata": {},
   "outputs": [],
   "source": [
    "morning_list = df_morning.values.tolist()"
   ]
  },
  {
   "cell_type": "code",
   "execution_count": 128,
   "id": "coupled-evening",
   "metadata": {},
   "outputs": [
    {
     "data": {
      "text/html": [
       "<div>\n",
       "<style scoped>\n",
       "    .dataframe tbody tr th:only-of-type {\n",
       "        vertical-align: middle;\n",
       "    }\n",
       "\n",
       "    .dataframe tbody tr th {\n",
       "        vertical-align: top;\n",
       "    }\n",
       "\n",
       "    .dataframe thead th {\n",
       "        text-align: right;\n",
       "    }\n",
       "</style>\n",
       "<table border=\"1\" class=\"dataframe\">\n",
       "  <thead>\n",
       "    <tr style=\"text-align: right;\">\n",
       "      <th></th>\n",
       "      <th>0 Calorie Strawberry Dragonfruit Water Beverage</th>\n",
       "      <th>0% Fat Blueberry Greek Yogurt</th>\n",
       "      <th>0% Fat Free Organic Milk</th>\n",
       "      <th>0% Fat Organic Greek Vanilla Yogurt</th>\n",
       "      <th>0% Fat Organic Greek Vanilla Yogurt, Organic Beef Uncured Hot Dogs</th>\n",
       "      <th>0% Fat Strawberry Greek Yogurt</th>\n",
       "      <th>0% Greek Strained Yogurt</th>\n",
       "      <th>0% Milkfat Greek Plain Yogurt</th>\n",
       "      <th>1 Apple + 1 Mango Fruit Bar</th>\n",
       "      <th>1 Apple + 1 Mango Fruit Bar, Nonfat Icelandic Style Strawberry Yogurt</th>\n",
       "      <th>...</th>\n",
       "      <th>ZzzQuil Nighttime Sleep-Aid LiquiCaps, Slow Kettle Kickin' Crab &amp; Sweet Corn Chowder Soup</th>\n",
       "      <th>\\\"Mokaccino\\\" Milk + Blue Bottle Coffee Chocolate, Organic Hass Avocado, Chopped Onions, Organic Raspberries, Diced Red Onions, Organic Garlic, Organic Shredded Parmesan, Organic Large Grade AA Brown Eggs, Crunchy Almond Butter, Organic Sweetened Condensed Milk</th>\n",
       "      <th>for Tots Apple Juice</th>\n",
       "      <th>gelato Coffee Toffee</th>\n",
       "      <th>of Hanover 100 Calorie Pretzels Mini</th>\n",
       "      <th>of Hanover 100 Calorie Pretzels Mini, Organic Cinnamon Apple Chips, Organic Lightly Salted Brown Rice Cakes, Crisp 'n Light Wholesome Wheat Crackerbread, Multi Grain Crispbread, Peppermint Sugar Free Gum, Organic Mango Acai Fruit Leather, 12 Ct, Green Seedless Grapes, Banana, Organic Blackberries, Organic Fuji Apple, Organic Granny Smith Apple, Multi Grain Cheerios Cereal, Mozzarella Ciliegine Fresh, Grade A Large White Eggs, Organic Grade A Free Range Large Brown Eggs, Original Whole Grain English Muffins, Original Nooks &amp; Crannies English Muffins, Large Burrito Flour Tortillas, Pure Coconut Water, No Pulp Calcium &amp; Vitamin D Pure Premium 100% Pure Orange Juice, Uncured Genoa Salami, Fusilli No. 34, Organic Turkey Bacon, White Giant Paper Towel Rolls</th>\n",
       "      <th>of Hanover 100 Calorie Pretzels Mini, Original No Pulp 100% Florida Orange Juice</th>\n",
       "      <th>smartwater® Electrolyte Enhanced Water</th>\n",
       "      <th>vitaminwater® XXX Acai Blueberry Pomegranate</th>\n",
       "      <th>with Crispy Almonds Cereal</th>\n",
       "    </tr>\n",
       "  </thead>\n",
       "  <tbody>\n",
       "    <tr>\n",
       "      <th>0</th>\n",
       "      <td>False</td>\n",
       "      <td>False</td>\n",
       "      <td>False</td>\n",
       "      <td>False</td>\n",
       "      <td>False</td>\n",
       "      <td>False</td>\n",
       "      <td>False</td>\n",
       "      <td>False</td>\n",
       "      <td>False</td>\n",
       "      <td>False</td>\n",
       "      <td>...</td>\n",
       "      <td>False</td>\n",
       "      <td>False</td>\n",
       "      <td>False</td>\n",
       "      <td>False</td>\n",
       "      <td>False</td>\n",
       "      <td>False</td>\n",
       "      <td>False</td>\n",
       "      <td>False</td>\n",
       "      <td>False</td>\n",
       "      <td>False</td>\n",
       "    </tr>\n",
       "    <tr>\n",
       "      <th>1</th>\n",
       "      <td>False</td>\n",
       "      <td>False</td>\n",
       "      <td>False</td>\n",
       "      <td>False</td>\n",
       "      <td>False</td>\n",
       "      <td>False</td>\n",
       "      <td>False</td>\n",
       "      <td>False</td>\n",
       "      <td>False</td>\n",
       "      <td>False</td>\n",
       "      <td>...</td>\n",
       "      <td>False</td>\n",
       "      <td>False</td>\n",
       "      <td>False</td>\n",
       "      <td>False</td>\n",
       "      <td>False</td>\n",
       "      <td>False</td>\n",
       "      <td>False</td>\n",
       "      <td>False</td>\n",
       "      <td>False</td>\n",
       "      <td>False</td>\n",
       "    </tr>\n",
       "  </tbody>\n",
       "</table>\n",
       "<p>2 rows × 10398 columns</p>\n",
       "</div>"
      ],
      "text/plain": [
       "   0 Calorie Strawberry Dragonfruit Water Beverage  \\\n",
       "0                                            False   \n",
       "1                                            False   \n",
       "\n",
       "   0% Fat Blueberry Greek Yogurt  0% Fat Free Organic Milk  \\\n",
       "0                          False                     False   \n",
       "1                          False                     False   \n",
       "\n",
       "   0% Fat Organic Greek Vanilla Yogurt  \\\n",
       "0                                False   \n",
       "1                                False   \n",
       "\n",
       "   0% Fat Organic Greek Vanilla Yogurt, Organic Beef Uncured Hot Dogs  \\\n",
       "0                                              False                    \n",
       "1                                              False                    \n",
       "\n",
       "   0% Fat Strawberry Greek Yogurt  0% Greek Strained Yogurt  \\\n",
       "0                           False                     False   \n",
       "1                           False                     False   \n",
       "\n",
       "   0% Milkfat Greek Plain Yogurt  1 Apple + 1 Mango Fruit Bar  \\\n",
       "0                          False                        False   \n",
       "1                          False                        False   \n",
       "\n",
       "   1 Apple + 1 Mango Fruit Bar, Nonfat Icelandic Style Strawberry Yogurt  ...  \\\n",
       "0                                              False                      ...   \n",
       "1                                              False                      ...   \n",
       "\n",
       "   ZzzQuil Nighttime Sleep-Aid LiquiCaps, Slow Kettle Kickin' Crab & Sweet Corn Chowder Soup  \\\n",
       "0                                              False                                           \n",
       "1                                              False                                           \n",
       "\n",
       "   \\\"Mokaccino\\\" Milk + Blue Bottle Coffee Chocolate, Organic Hass Avocado, Chopped Onions, Organic Raspberries, Diced Red Onions, Organic Garlic, Organic Shredded Parmesan, Organic Large Grade AA Brown Eggs, Crunchy Almond Butter, Organic Sweetened Condensed Milk  \\\n",
       "0                                              False                                                                                                                                                                                                                       \n",
       "1                                              False                                                                                                                                                                                                                       \n",
       "\n",
       "   for Tots Apple Juice  gelato Coffee Toffee  \\\n",
       "0                 False                 False   \n",
       "1                 False                 False   \n",
       "\n",
       "   of Hanover 100 Calorie Pretzels Mini  \\\n",
       "0                                 False   \n",
       "1                                 False   \n",
       "\n",
       "   of Hanover 100 Calorie Pretzels Mini, Organic Cinnamon Apple Chips, Organic Lightly Salted Brown Rice Cakes, Crisp 'n Light Wholesome Wheat Crackerbread, Multi Grain Crispbread, Peppermint Sugar Free Gum, Organic Mango Acai Fruit Leather, 12 Ct, Green Seedless Grapes, Banana, Organic Blackberries, Organic Fuji Apple, Organic Granny Smith Apple, Multi Grain Cheerios Cereal, Mozzarella Ciliegine Fresh, Grade A Large White Eggs, Organic Grade A Free Range Large Brown Eggs, Original Whole Grain English Muffins, Original Nooks & Crannies English Muffins, Large Burrito Flour Tortillas, Pure Coconut Water, No Pulp Calcium & Vitamin D Pure Premium 100% Pure Orange Juice, Uncured Genoa Salami, Fusilli No. 34, Organic Turkey Bacon, White Giant Paper Towel Rolls  \\\n",
       "0                                              False                                                                                                                                                                                                                                                                                                                                                                                                                                                                                                                                                                                                                                                                                                                                           \n",
       "1                                              False                                                                                                                                                                                                                                                                                                                                                                                                                                                                                                                                                                                                                                                                                                                                           \n",
       "\n",
       "   of Hanover 100 Calorie Pretzels Mini, Original No Pulp 100% Florida Orange Juice  \\\n",
       "0                                              False                                  \n",
       "1                                              False                                  \n",
       "\n",
       "   smartwater® Electrolyte Enhanced Water  \\\n",
       "0                                   False   \n",
       "1                                   False   \n",
       "\n",
       "   vitaminwater® XXX Acai Blueberry Pomegranate  with Crispy Almonds Cereal  \n",
       "0                                         False                       False  \n",
       "1                                         False                       False  \n",
       "\n",
       "[2 rows x 10398 columns]"
      ]
     },
     "execution_count": 128,
     "metadata": {},
     "output_type": "execute_result"
    }
   ],
   "source": [
    "encoder = TransactionEncoder()\n",
    "encoder_set = encoder.fit(morning_list).transform(morning_list)\n",
    "df_morning_orders = pd.DataFrame(encoder_set, columns=encoder.columns_)\n",
    "df_morning_orders.head(2)"
   ]
  },
  {
   "cell_type": "code",
   "execution_count": 93,
   "id": "beautiful-approach",
   "metadata": {},
   "outputs": [
    {
     "data": {
      "text/html": [
       "<div>\n",
       "<style scoped>\n",
       "    .dataframe tbody tr th:only-of-type {\n",
       "        vertical-align: middle;\n",
       "    }\n",
       "\n",
       "    .dataframe tbody tr th {\n",
       "        vertical-align: top;\n",
       "    }\n",
       "\n",
       "    .dataframe thead th {\n",
       "        text-align: right;\n",
       "    }\n",
       "</style>\n",
       "<table border=\"1\" class=\"dataframe\">\n",
       "  <thead>\n",
       "    <tr style=\"text-align: right;\">\n",
       "      <th></th>\n",
       "      <th>support</th>\n",
       "      <th>itemsets</th>\n",
       "    </tr>\n",
       "  </thead>\n",
       "  <tbody>\n",
       "  </tbody>\n",
       "</table>\n",
       "</div>"
      ],
      "text/plain": [
       "Empty DataFrame\n",
       "Columns: [support, itemsets]\n",
       "Index: []"
      ]
     },
     "execution_count": 93,
     "metadata": {},
     "output_type": "execute_result"
    }
   ],
   "source": [
    "fpgrowth(df_morning_orders, min_support=0.01)"
   ]
  },
  {
   "cell_type": "markdown",
   "id": "blocked-camera",
   "metadata": {},
   "source": [
    "**All Orders: to_list, onehotencode, find patterns**"
   ]
  },
  {
   "cell_type": "code",
   "execution_count": 122,
   "id": "representative-height",
   "metadata": {},
   "outputs": [],
   "source": [
    "# group products by order_id into a df\n",
    "df_full_orders = all_orders.groupby('order_id')['product_name'].agg([('product_name', ', '.join)]).reset_index()"
   ]
  },
  {
   "cell_type": "code",
   "execution_count": 123,
   "id": "quick-dress",
   "metadata": {},
   "outputs": [],
   "source": [
    "df_full_orders.set_index('order_id', inplace=True)"
   ]
  },
  {
   "cell_type": "code",
   "execution_count": 124,
   "id": "established-peripheral",
   "metadata": {},
   "outputs": [
    {
     "data": {
      "text/html": [
       "<div>\n",
       "<style scoped>\n",
       "    .dataframe tbody tr th:only-of-type {\n",
       "        vertical-align: middle;\n",
       "    }\n",
       "\n",
       "    .dataframe tbody tr th {\n",
       "        vertical-align: top;\n",
       "    }\n",
       "\n",
       "    .dataframe thead th {\n",
       "        text-align: right;\n",
       "    }\n",
       "</style>\n",
       "<table border=\"1\" class=\"dataframe\">\n",
       "  <thead>\n",
       "    <tr style=\"text-align: right;\">\n",
       "      <th></th>\n",
       "      <th>product_name</th>\n",
       "    </tr>\n",
       "    <tr>\n",
       "      <th>order_id</th>\n",
       "      <th></th>\n",
       "    </tr>\n",
       "  </thead>\n",
       "  <tbody>\n",
       "    <tr>\n",
       "      <th>1</th>\n",
       "      <td>Lightly Smoked Sardines in Olive Oil, Bulgaria...</td>\n",
       "    </tr>\n",
       "    <tr>\n",
       "      <th>88</th>\n",
       "      <td>Baby Seedless Cucumbers</td>\n",
       "    </tr>\n",
       "  </tbody>\n",
       "</table>\n",
       "</div>"
      ],
      "text/plain": [
       "                                               product_name\n",
       "order_id                                                   \n",
       "1         Lightly Smoked Sardines in Olive Oil, Bulgaria...\n",
       "88                                  Baby Seedless Cucumbers"
      ]
     },
     "execution_count": 124,
     "metadata": {},
     "output_type": "execute_result"
    }
   ],
   "source": [
    "df_full_orders.head(2)"
   ]
  },
  {
   "cell_type": "code",
   "execution_count": 125,
   "id": "cultural-luxembourg",
   "metadata": {},
   "outputs": [
    {
     "data": {
      "text/plain": [
       "(128723, 1)"
      ]
     },
     "execution_count": 125,
     "metadata": {},
     "output_type": "execute_result"
    }
   ],
   "source": [
    "df_full_orders.shape"
   ]
  },
  {
   "cell_type": "code",
   "execution_count": 126,
   "id": "dirty-railway",
   "metadata": {},
   "outputs": [],
   "source": [
    "full_orders_list = df_full_orders.values.tolist()"
   ]
  },
  {
   "cell_type": "code",
   "execution_count": 130,
   "id": "stone-knitting",
   "metadata": {},
   "outputs": [],
   "source": [
    "encoder_full = TransactionEncoder()\n"
   ]
  },
  {
   "cell_type": "code",
   "execution_count": 131,
   "id": "therapeutic-enemy",
   "metadata": {},
   "outputs": [
    {
     "ename": "AttributeError",
     "evalue": "'TransactionEncoder' object has no attribute 'columns_'",
     "output_type": "error",
     "traceback": [
      "\u001b[1;31m---------------------------------------------------------------------------\u001b[0m",
      "\u001b[1;31mAttributeError\u001b[0m                            Traceback (most recent call last)",
      "\u001b[1;32m<ipython-input-131-2ed0258a817b>\u001b[0m in \u001b[0;36m<module>\u001b[1;34m\u001b[0m\n\u001b[0;32m      1\u001b[0m \u001b[0mencoder_set_full\u001b[0m \u001b[1;33m=\u001b[0m \u001b[0mencoder\u001b[0m\u001b[1;33m.\u001b[0m\u001b[0mfit\u001b[0m\u001b[1;33m(\u001b[0m\u001b[0mfull_orders_list\u001b[0m\u001b[1;33m)\u001b[0m\u001b[1;33m.\u001b[0m\u001b[0mtransform\u001b[0m\u001b[1;33m(\u001b[0m\u001b[0mfull_orders_list\u001b[0m\u001b[1;33m)\u001b[0m\u001b[1;33m\u001b[0m\u001b[1;33m\u001b[0m\u001b[0m\n\u001b[1;32m----> 2\u001b[1;33m \u001b[0mdf_orders\u001b[0m \u001b[1;33m=\u001b[0m \u001b[0mpd\u001b[0m\u001b[1;33m.\u001b[0m\u001b[0mDataFrame\u001b[0m\u001b[1;33m(\u001b[0m\u001b[0mencoder_set_full\u001b[0m\u001b[1;33m,\u001b[0m \u001b[0mcolumns\u001b[0m\u001b[1;33m=\u001b[0m\u001b[0mencoder_full\u001b[0m\u001b[1;33m.\u001b[0m\u001b[0mcolumns_\u001b[0m\u001b[1;33m)\u001b[0m\u001b[1;33m\u001b[0m\u001b[1;33m\u001b[0m\u001b[0m\n\u001b[0m\u001b[0;32m      3\u001b[0m \u001b[0mdf_orders\u001b[0m\u001b[1;33m.\u001b[0m\u001b[0mhead\u001b[0m\u001b[1;33m(\u001b[0m\u001b[1;36m2\u001b[0m\u001b[1;33m)\u001b[0m\u001b[1;33m\u001b[0m\u001b[1;33m\u001b[0m\u001b[0m\n",
      "\u001b[1;31mAttributeError\u001b[0m: 'TransactionEncoder' object has no attribute 'columns_'"
     ]
    }
   ],
   "source": [
    "encoder_set_full = encoder.fit(full_orders_list).transform(full_orders_list)\n",
    "df_orders = pd.DataFrame(encoder_set_full, columns=encoder_full.columns_)\n",
    "df_orders.head(2)"
   ]
  },
  {
   "cell_type": "code",
   "execution_count": null,
   "id": "specialized-battlefield",
   "metadata": {},
   "outputs": [],
   "source": [
    "fpgrowth(df_morning_orders, min_support=0.01)"
   ]
  }
 ],
 "metadata": {
  "kernelspec": {
   "display_name": "Python 3",
   "language": "python",
   "name": "python3"
  },
  "language_info": {
   "codemirror_mode": {
    "name": "ipython",
    "version": 3
   },
   "file_extension": ".py",
   "mimetype": "text/x-python",
   "name": "python",
   "nbconvert_exporter": "python",
   "pygments_lexer": "ipython3",
   "version": "3.8.5"
  }
 },
 "nbformat": 4,
 "nbformat_minor": 5
}
