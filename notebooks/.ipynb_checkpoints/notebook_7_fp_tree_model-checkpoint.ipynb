{
 "cells": [
  {
   "cell_type": "markdown",
   "id": "other-checklist",
   "metadata": {},
   "source": [
    "#### Modeling and Analysis "
   ]
  },
  {
   "cell_type": "code",
   "execution_count": 9,
   "id": "wooden-things",
   "metadata": {},
   "outputs": [],
   "source": [
    "import pandas as pd\n",
    "import numpy as np\n",
    "from fpgrowth_py import fpgrowth\n",
    "import pyfpgrowth\n",
    "import random\n",
    "import matplotlib.pyplot as plt\n",
    "from mlxtend.preprocessing import TransactionEncoder\n",
    "from mlxtend.frequent_patterns import fpgrowth"
   ]
  },
  {
   "cell_type": "code",
   "execution_count": 62,
   "id": "spoken-dividend",
   "metadata": {},
   "outputs": [],
   "source": [
    "# reading aisles dataset\n",
    "aisles = pd.read_csv('data/aisles.csv')"
   ]
  },
  {
   "cell_type": "code",
   "execution_count": 63,
   "id": "latin-equity",
   "metadata": {},
   "outputs": [],
   "source": [
    "# reading department dataset\n",
    "department = pd.read_csv('data/departments.csv')"
   ]
  },
  {
   "cell_type": "code",
   "execution_count": 115,
   "id": "christian-glucose",
   "metadata": {},
   "outputs": [],
   "source": [
    "p = 0.10\n",
    "all_orders = pd.read_csv('data/orders_train_prior.csv', header = 0, skiprows = lambda i: i>0 and random.random() > p)"
   ]
  },
  {
   "cell_type": "code",
   "execution_count": 114,
   "id": "increasing-financing",
   "metadata": {},
   "outputs": [],
   "source": [
    "all_orders_full = pd.read_csv('data/orders_train_prior.csv')"
   ]
  },
  {
   "cell_type": "code",
   "execution_count": 97,
   "id": "exposed-wallpaper",
   "metadata": {},
   "outputs": [],
   "source": [
    "morning_orders = pd.read_csv('data/morning_orders.csv')"
   ]
  },
  {
   "cell_type": "code",
   "execution_count": 182,
   "id": "virgin-logic",
   "metadata": {},
   "outputs": [],
   "source": [
    "daytime_orders = pd.read_csv('data/day_orders.csv')"
   ]
  },
  {
   "cell_type": "code",
   "execution_count": 183,
   "id": "expired-gallery",
   "metadata": {},
   "outputs": [],
   "source": [
    "evening_orders = pd.read_csv('data/evening_orders.csv')"
   ]
  },
  {
   "cell_type": "markdown",
   "id": "helpful-milan",
   "metadata": {},
   "source": [
    "**Morning Orders**"
   ]
  },
  {
   "cell_type": "code",
   "execution_count": 167,
   "id": "objective-database",
   "metadata": {},
   "outputs": [],
   "source": [
    "# group products by order_id into a df\n",
    "df_morning = morning_orders.groupby('order_id')['product_name'].agg([('product_name', ','.join)]).reset_index()"
   ]
  },
  {
   "cell_type": "code",
   "execution_count": 168,
   "id": "incorporated-mistress",
   "metadata": {},
   "outputs": [],
   "source": [
    "# change order_id column into an index\n",
    "df_morning.set_index('order_id', inplace = True)"
   ]
  },
  {
   "cell_type": "code",
   "execution_count": 169,
   "id": "forward-layout",
   "metadata": {},
   "outputs": [],
   "source": [
    "df_morning_split = df_morning.product_name.apply(lambda x: x.split(','))"
   ]
  },
  {
   "cell_type": "code",
   "execution_count": 172,
   "id": "armed-houston",
   "metadata": {},
   "outputs": [
    {
     "data": {
      "text/plain": [
       "order_id\n",
       "174              [organic garlic, island vanilla cereal]\n",
       "217                     [organic short grain brown rice]\n",
       "521                                       [spring water]\n",
       "598                                [breaded fish sticks]\n",
       "750    [multi-seeds cracker, wheat gluten free waffle...\n",
       "Name: product_name, dtype: object"
      ]
     },
     "execution_count": 172,
     "metadata": {},
     "output_type": "execute_result"
    }
   ],
   "source": [
    "df_morning_split.head()"
   ]
  },
  {
   "cell_type": "code",
   "execution_count": 173,
   "id": "congressional-weapon",
   "metadata": {},
   "outputs": [],
   "source": [
    "df_morning_orders = pd.DataFrame(df_morning_split)"
   ]
  },
  {
   "cell_type": "code",
   "execution_count": 174,
   "id": "beneficial-psychology",
   "metadata": {},
   "outputs": [
    {
     "data": {
      "text/html": [
       "<div>\n",
       "<style scoped>\n",
       "    .dataframe tbody tr th:only-of-type {\n",
       "        vertical-align: middle;\n",
       "    }\n",
       "\n",
       "    .dataframe tbody tr th {\n",
       "        vertical-align: top;\n",
       "    }\n",
       "\n",
       "    .dataframe thead th {\n",
       "        text-align: right;\n",
       "    }\n",
       "</style>\n",
       "<table border=\"1\" class=\"dataframe\">\n",
       "  <thead>\n",
       "    <tr style=\"text-align: right;\">\n",
       "      <th></th>\n",
       "      <th>product_name</th>\n",
       "    </tr>\n",
       "    <tr>\n",
       "      <th>order_id</th>\n",
       "      <th></th>\n",
       "    </tr>\n",
       "  </thead>\n",
       "  <tbody>\n",
       "    <tr>\n",
       "      <th>174</th>\n",
       "      <td>[organic garlic, island vanilla cereal]</td>\n",
       "    </tr>\n",
       "    <tr>\n",
       "      <th>217</th>\n",
       "      <td>[organic short grain brown rice]</td>\n",
       "    </tr>\n",
       "    <tr>\n",
       "      <th>521</th>\n",
       "      <td>[spring water]</td>\n",
       "    </tr>\n",
       "    <tr>\n",
       "      <th>598</th>\n",
       "      <td>[breaded fish sticks]</td>\n",
       "    </tr>\n",
       "    <tr>\n",
       "      <th>750</th>\n",
       "      <td>[multi-seeds cracker, wheat gluten free waffle...</td>\n",
       "    </tr>\n",
       "  </tbody>\n",
       "</table>\n",
       "</div>"
      ],
      "text/plain": [
       "                                               product_name\n",
       "order_id                                                   \n",
       "174                 [organic garlic, island vanilla cereal]\n",
       "217                        [organic short grain brown rice]\n",
       "521                                          [spring water]\n",
       "598                                   [breaded fish sticks]\n",
       "750       [multi-seeds cracker, wheat gluten free waffle..."
      ]
     },
     "execution_count": 174,
     "metadata": {},
     "output_type": "execute_result"
    }
   ],
   "source": [
    "df_morning_orders.head()"
   ]
  },
  {
   "cell_type": "code",
   "execution_count": 175,
   "id": "baking-hollow",
   "metadata": {},
   "outputs": [
    {
     "name": "stdout",
     "output_type": "stream",
     "text": [
      "<class 'pandas.core.frame.DataFrame'>\n",
      "Int64Index: 16460 entries, 174 to 3421049\n",
      "Data columns (total 1 columns):\n",
      " #   Column        Non-Null Count  Dtype \n",
      "---  ------        --------------  ----- \n",
      " 0   product_name  16460 non-null  object\n",
      "dtypes: object(1)\n",
      "memory usage: 257.2+ KB\n"
     ]
    }
   ],
   "source": [
    "df_morning.info()"
   ]
  },
  {
   "cell_type": "code",
   "execution_count": 176,
   "id": "treated-onion",
   "metadata": {},
   "outputs": [
    {
     "data": {
      "text/plain": [
       "(16460, 1)"
      ]
     },
     "execution_count": 176,
     "metadata": {},
     "output_type": "execute_result"
    }
   ],
   "source": [
    "df_morning_orders.shape"
   ]
  },
  {
   "cell_type": "code",
   "execution_count": 177,
   "id": "young-finger",
   "metadata": {},
   "outputs": [],
   "source": [
    "patterns = pyfpgrowth.find_frequent_patterns(df_morning_orders['product_name'], 100)"
   ]
  },
  {
   "cell_type": "code",
   "execution_count": 178,
   "id": "saved-cancellation",
   "metadata": {},
   "outputs": [
    {
     "data": {
      "text/plain": [
       "{('clementines',): 101,\n",
       " ('honeycrisp apple',): 103,\n",
       " ('organic lemon',): 107,\n",
       " ('organic gala apples',): 110,\n",
       " ('organic zucchini',): 111,\n",
       " ('organic garlic',): 113,\n",
       " ('organic yellow onion',): 119,\n",
       " ('organic cucumber',): 123,\n",
       " ('seedless red grapes',): 124,\n",
       " ('organic blueberries',): 126,\n",
       " ('limes',): 150,\n",
       " ('organic whole milk',): 153,\n",
       " ('organic raspberries',): 165,\n",
       " ('strawberries',): 167,\n",
       " ('large lemon',): 184,\n",
       " ('organic avocado',): 188,\n",
       " ('organic hass avocado',): 211,\n",
       " ('organic baby spinach',): 261,\n",
       " ('organic strawberries',): 286,\n",
       " ('bag of organic bananas',): 498,\n",
       " ('banana',): 541}"
      ]
     },
     "execution_count": 178,
     "metadata": {},
     "output_type": "execute_result"
    }
   ],
   "source": [
    "patterns"
   ]
  },
  {
   "cell_type": "code",
   "execution_count": 179,
   "id": "adolescent-posting",
   "metadata": {},
   "outputs": [],
   "source": [
    "rules = pyfpgrowth.generate_association_rules(patterns, 0.001)"
   ]
  },
  {
   "cell_type": "code",
   "execution_count": 180,
   "id": "waiting-relaxation",
   "metadata": {},
   "outputs": [
    {
     "data": {
      "text/plain": [
       "{}"
      ]
     },
     "execution_count": 180,
     "metadata": {},
     "output_type": "execute_result"
    }
   ],
   "source": [
    "rules"
   ]
  },
  {
   "cell_type": "markdown",
   "id": "miniature-protein",
   "metadata": {},
   "source": [
    "**Daytime orders**"
   ]
  },
  {
   "cell_type": "code",
   "execution_count": 184,
   "id": "sacred-morris",
   "metadata": {},
   "outputs": [],
   "source": [
    "# group products by order_id into a df\n",
    "df_daytime = daytime_orders.groupby('order_id')['product_name'].agg([('product_name', ','.join)]).reset_index()"
   ]
  },
  {
   "cell_type": "code",
   "execution_count": 185,
   "id": "recognized-heaven",
   "metadata": {},
   "outputs": [],
   "source": [
    "# change order_id column into an index\n",
    "df_daytime.set_index('order_id', inplace = True)"
   ]
  },
  {
   "cell_type": "code",
   "execution_count": 186,
   "id": "chronic-dollar",
   "metadata": {},
   "outputs": [],
   "source": [
    "df_daytime_split = df_daytime.product_name.apply(lambda x: x.split(','))"
   ]
  },
  {
   "cell_type": "code",
   "execution_count": 188,
   "id": "upset-phone",
   "metadata": {},
   "outputs": [
    {
     "data": {
      "text/plain": [
       "order_id\n",
       "254                               [organic strawberries]\n",
       "360                                  [shiitake mushroom]\n",
       "470                         [sparkling water grapefruit]\n",
       "729             [special k chocolatey strawberry cereal]\n",
       "762    [organic strawberries, celery hearts, organic ...\n",
       "Name: product_name, dtype: object"
      ]
     },
     "execution_count": 188,
     "metadata": {},
     "output_type": "execute_result"
    }
   ],
   "source": [
    "df_daytime_split.head()"
   ]
  },
  {
   "cell_type": "code",
   "execution_count": 189,
   "id": "square-norfolk",
   "metadata": {},
   "outputs": [],
   "source": [
    "df_daytime_orders = pd.DataFrame(df_daytime_split)"
   ]
  },
  {
   "cell_type": "code",
   "execution_count": 190,
   "id": "built-special",
   "metadata": {},
   "outputs": [
    {
     "data": {
      "text/plain": [
       "(29208, 1)"
      ]
     },
     "execution_count": 190,
     "metadata": {},
     "output_type": "execute_result"
    }
   ],
   "source": [
    "df_daytime_orders.shape"
   ]
  },
  {
   "cell_type": "code",
   "execution_count": 197,
   "id": "reverse-worker",
   "metadata": {},
   "outputs": [],
   "source": [
    "patterns_daytime = pyfpgrowth.find_frequent_patterns(df_daytime_orders['product_name'], 100)"
   ]
  },
  {
   "cell_type": "code",
   "execution_count": 198,
   "id": "continent-tunnel",
   "metadata": {},
   "outputs": [
    {
     "data": {
      "text/plain": [
       "{('uncured genoa salami',): 101,\n",
       " ('spring water',): 102,\n",
       " ('unsweetened almondmilk',): 102,\n",
       " ('bunched cilantro',): 103,\n",
       " ('roma tomato',): 103,\n",
       " ('jalapeno peppers',): 106,\n",
       " (' bunch',): 106,\n",
       " ('organic navel orange',): 107,\n",
       " ('red vine tomato',): 108,\n",
       " ('organic italian parsley bunch',): 108,\n",
       " ('blueberries',): 108,\n",
       " ('organic tomato cluster',): 112,\n",
       " ('organic unsweetened almond milk',): 113,\n",
       " ('hass avocados',): 113,\n",
       " ('lime sparkling water',): 114,\n",
       " ('organic red bell pepper',): 115,\n",
       " ('organic granny smith apple',): 116,\n",
       " ('boneless skinless chicken breasts',): 124,\n",
       " ('organic garnet sweet potato (yam)',): 125,\n",
       " ('organic peeled whole baby carrots',): 127,\n",
       " ('original hummus',): 127,\n",
       " ('raspberries',): 129,\n",
       " ('half & half',): 133,\n",
       " ('100% whole wheat bread',): 134,\n",
       " ('clementines',): 135,\n",
       " ('michigan organic kale',): 135,\n",
       " ('organic blackberries',): 138,\n",
       " ('green bell pepper',): 139,\n",
       " ('broccoli crown',): 141,\n",
       " ('fresh cauliflower',): 142,\n",
       " ('organic gala apples',): 145,\n",
       " ('red peppers',): 147,\n",
       " ('carrots',): 148,\n",
       " ('organic small bunch celery',): 152,\n",
       " ('small hass avocado',): 154,\n",
       " (' organic',): 154,\n",
       " ('organic large extra fancy fuji apple',): 156,\n",
       " ('honeycrisp apple',): 156,\n",
       " ('organic half & half',): 157,\n",
       " ('apple honeycrisp organic',): 159,\n",
       " ('organic baby arugula',): 159,\n",
       " ('organic cilantro',): 164,\n",
       " ('seedless red grapes',): 171,\n",
       " ('organic fuji apple',): 172,\n",
       " ('organic red onion',): 172,\n",
       " ('asparagus',): 179,\n",
       " ('organic lemon',): 179,\n",
       " ('organic grape tomatoes',): 181,\n",
       " ('organic baby carrots',): 182,\n",
       " ('sparkling water grapefruit',): 184,\n",
       " ('yellow onions',): 184,\n",
       " ('cucumber kirby',): 186,\n",
       " ('organic cucumber',): 203,\n",
       " ('organic garlic',): 231,\n",
       " ('organic yellow onion',): 235,\n",
       " ('organic zucchini',): 245,\n",
       " ('organic blueberries',): 246,\n",
       " ('organic whole milk',): 269,\n",
       " ('limes',): 308,\n",
       " ('strawberries',): 321,\n",
       " ('organic raspberries',): 327,\n",
       " ('large lemon',): 375,\n",
       " ('organic hass avocado',): 393,\n",
       " ('organic avocado',): 403,\n",
       " ('organic baby spinach',): 516,\n",
       " ('organic strawberries',): 540,\n",
       " ('bag of organic bananas',): 803,\n",
       " ('banana',): 976}"
      ]
     },
     "execution_count": 198,
     "metadata": {},
     "output_type": "execute_result"
    }
   ],
   "source": [
    "patterns_daytime"
   ]
  },
  {
   "cell_type": "code",
   "execution_count": 202,
   "id": "controlled-coach",
   "metadata": {},
   "outputs": [],
   "source": [
    "rules = pyfpgrowth.generate_association_rules(patterns_daytime, 0.001)"
   ]
  },
  {
   "cell_type": "code",
   "execution_count": 203,
   "id": "romantic-connectivity",
   "metadata": {},
   "outputs": [
    {
     "data": {
      "text/plain": [
       "{}"
      ]
     },
     "execution_count": 203,
     "metadata": {},
     "output_type": "execute_result"
    }
   ],
   "source": [
    "rules"
   ]
  },
  {
   "cell_type": "markdown",
   "id": "hazardous-flood",
   "metadata": {},
   "source": [
    "**Evening Orders**"
   ]
  },
  {
   "cell_type": "code",
   "execution_count": 205,
   "id": "diagnostic-bachelor",
   "metadata": {},
   "outputs": [],
   "source": [
    "# group products by order_id into a df\n",
    "df_evening = evening_orders.groupby('order_id')['product_name'].agg([('product_name', ','.join)]).reset_index()"
   ]
  },
  {
   "cell_type": "code",
   "execution_count": 206,
   "id": "robust-democracy",
   "metadata": {},
   "outputs": [],
   "source": [
    "# change order_id column into an index\n",
    "df_evening.set_index('order_id', inplace = True)"
   ]
  },
  {
   "cell_type": "code",
   "execution_count": 207,
   "id": "exempt-harassment",
   "metadata": {},
   "outputs": [],
   "source": [
    "df_evening_split = df_evening.product_name.apply(lambda x: x.split(','))"
   ]
  },
  {
   "cell_type": "code",
   "execution_count": 208,
   "id": "protective-benchmark",
   "metadata": {},
   "outputs": [
    {
     "data": {
      "text/plain": [
       "order_id\n",
       "527     [organic jalapeno pepper, flat fillets anchovies]\n",
       "1700    [organic classic rich crackers, strawberry fla...\n",
       "2032               [raspberry blackberry sparkling water]\n",
       "2458    [frozen organic wild blueberries, organic lemo...\n",
       "2468    [original/ranch/bbq/chile picante con limon va...\n",
       "Name: product_name, dtype: object"
      ]
     },
     "execution_count": 208,
     "metadata": {},
     "output_type": "execute_result"
    }
   ],
   "source": [
    "df_evening_split.head()"
   ]
  },
  {
   "cell_type": "code",
   "execution_count": 209,
   "id": "impossible-spanking",
   "metadata": {},
   "outputs": [],
   "source": [
    "df_evening_orders = pd.DataFrame(df_evening_split)"
   ]
  },
  {
   "cell_type": "code",
   "execution_count": 210,
   "id": "judicial-holiday",
   "metadata": {},
   "outputs": [
    {
     "data": {
      "text/plain": [
       "(7704, 1)"
      ]
     },
     "execution_count": 210,
     "metadata": {},
     "output_type": "execute_result"
    }
   ],
   "source": [
    "df_evening_orders.shape"
   ]
  },
  {
   "cell_type": "code",
   "execution_count": 211,
   "id": "obvious-miller",
   "metadata": {},
   "outputs": [],
   "source": [
    "patterns_evening = pyfpgrowth.find_frequent_patterns(df_evening_orders['product_name'], 100)"
   ]
  },
  {
   "cell_type": "code",
   "execution_count": 212,
   "id": "willing-carry",
   "metadata": {},
   "outputs": [
    {
     "data": {
      "text/plain": [
       "{('uncured genoa salami',): 101,\n",
       " ('spring water',): 102,\n",
       " ('unsweetened almondmilk',): 102,\n",
       " ('bunched cilantro',): 103,\n",
       " ('roma tomato',): 103,\n",
       " ('jalapeno peppers',): 106,\n",
       " (' bunch',): 106,\n",
       " ('organic navel orange',): 107,\n",
       " ('red vine tomato',): 108,\n",
       " ('organic italian parsley bunch',): 108,\n",
       " ('blueberries',): 108,\n",
       " ('organic tomato cluster',): 112,\n",
       " ('organic unsweetened almond milk',): 113,\n",
       " ('hass avocados',): 113,\n",
       " ('lime sparkling water',): 114,\n",
       " ('organic red bell pepper',): 115,\n",
       " ('organic granny smith apple',): 116,\n",
       " ('boneless skinless chicken breasts',): 124,\n",
       " ('organic garnet sweet potato (yam)',): 125,\n",
       " ('organic peeled whole baby carrots',): 127,\n",
       " ('original hummus',): 127,\n",
       " ('raspberries',): 129,\n",
       " ('half & half',): 133,\n",
       " ('100% whole wheat bread',): 134,\n",
       " ('clementines',): 135,\n",
       " ('michigan organic kale',): 135,\n",
       " ('organic blackberries',): 138,\n",
       " ('green bell pepper',): 139,\n",
       " ('broccoli crown',): 141,\n",
       " ('fresh cauliflower',): 142,\n",
       " ('organic gala apples',): 145,\n",
       " ('red peppers',): 147,\n",
       " ('carrots',): 148,\n",
       " ('organic small bunch celery',): 152,\n",
       " ('small hass avocado',): 154,\n",
       " (' organic',): 154,\n",
       " ('organic large extra fancy fuji apple',): 156,\n",
       " ('honeycrisp apple',): 156,\n",
       " ('organic half & half',): 157,\n",
       " ('apple honeycrisp organic',): 159,\n",
       " ('organic baby arugula',): 159,\n",
       " ('organic cilantro',): 164,\n",
       " ('seedless red grapes',): 171,\n",
       " ('organic fuji apple',): 172,\n",
       " ('organic red onion',): 172,\n",
       " ('asparagus',): 179,\n",
       " ('organic lemon',): 179,\n",
       " ('organic grape tomatoes',): 181,\n",
       " ('organic baby carrots',): 182,\n",
       " ('sparkling water grapefruit',): 184,\n",
       " ('yellow onions',): 184,\n",
       " ('cucumber kirby',): 186,\n",
       " ('organic cucumber',): 203,\n",
       " ('organic garlic',): 231,\n",
       " ('organic yellow onion',): 235,\n",
       " ('organic zucchini',): 245,\n",
       " ('organic blueberries',): 246,\n",
       " ('organic whole milk',): 269,\n",
       " ('limes',): 308,\n",
       " ('strawberries',): 321,\n",
       " ('organic raspberries',): 327,\n",
       " ('large lemon',): 375,\n",
       " ('organic hass avocado',): 393,\n",
       " ('organic avocado',): 403,\n",
       " ('organic baby spinach',): 516,\n",
       " ('organic strawberries',): 540,\n",
       " ('bag of organic bananas',): 803,\n",
       " ('banana',): 976}"
      ]
     },
     "execution_count": 212,
     "metadata": {},
     "output_type": "execute_result"
    }
   ],
   "source": [
    "patterns_daytime"
   ]
  },
  {
   "cell_type": "code",
   "execution_count": 213,
   "id": "aquatic-glass",
   "metadata": {},
   "outputs": [],
   "source": [
    "rules = pyfpgrowth.generate_association_rules(patterns_evening, 0.001)"
   ]
  },
  {
   "cell_type": "code",
   "execution_count": 214,
   "id": "exciting-cooperative",
   "metadata": {},
   "outputs": [
    {
     "data": {
      "text/plain": [
       "{}"
      ]
     },
     "execution_count": 214,
     "metadata": {},
     "output_type": "execute_result"
    }
   ],
   "source": [
    "rules"
   ]
  },
  {
   "cell_type": "markdown",
   "id": "rough-serbia",
   "metadata": {},
   "source": [
    "**All Orders**"
   ]
  },
  {
   "cell_type": "code",
   "execution_count": 151,
   "id": "naval-coast",
   "metadata": {},
   "outputs": [],
   "source": [
    "# group products by order_id into a df\n",
    "df_all_orders = all_orders_full.groupby('order_id')['product_name'].agg([('product_name', ','.join)]).reset_index()"
   ]
  },
  {
   "cell_type": "code",
   "execution_count": 154,
   "id": "marine-hours",
   "metadata": {},
   "outputs": [],
   "source": [
    "# reset order_id as index\n",
    "df_all_orders.set_index('order_id', inplace=True)"
   ]
  },
  {
   "cell_type": "code",
   "execution_count": 155,
   "id": "assured-blair",
   "metadata": {},
   "outputs": [],
   "source": [
    "df_orders_split = df_all_orders.product_name.apply(lambda x: x.split(','))"
   ]
  },
  {
   "cell_type": "code",
   "execution_count": 156,
   "id": "binding-miami",
   "metadata": {},
   "outputs": [],
   "source": [
    "df_orders = pd.DataFrame(df_orders_split)"
   ]
  },
  {
   "cell_type": "code",
   "execution_count": 201,
   "id": "closing-thinking",
   "metadata": {},
   "outputs": [
    {
     "data": {
      "text/html": [
       "<div>\n",
       "<style scoped>\n",
       "    .dataframe tbody tr th:only-of-type {\n",
       "        vertical-align: middle;\n",
       "    }\n",
       "\n",
       "    .dataframe tbody tr th {\n",
       "        vertical-align: top;\n",
       "    }\n",
       "\n",
       "    .dataframe thead th {\n",
       "        text-align: right;\n",
       "    }\n",
       "</style>\n",
       "<table border=\"1\" class=\"dataframe\">\n",
       "  <thead>\n",
       "    <tr style=\"text-align: right;\">\n",
       "      <th></th>\n",
       "      <th>product_name</th>\n",
       "    </tr>\n",
       "    <tr>\n",
       "      <th>order_id</th>\n",
       "      <th></th>\n",
       "    </tr>\n",
       "  </thead>\n",
       "  <tbody>\n",
       "    <tr>\n",
       "      <th>1</th>\n",
       "      <td>[organic celery hearts, organic 4% milk fat wh...</td>\n",
       "    </tr>\n",
       "    <tr>\n",
       "      <th>4</th>\n",
       "      <td>[tiny twists pretzels, chewy 25% low sugar cho...</td>\n",
       "    </tr>\n",
       "  </tbody>\n",
       "</table>\n",
       "</div>"
      ],
      "text/plain": [
       "                                               product_name\n",
       "order_id                                                   \n",
       "1         [organic celery hearts, organic 4% milk fat wh...\n",
       "4         [tiny twists pretzels, chewy 25% low sugar cho..."
      ]
     },
     "execution_count": 201,
     "metadata": {},
     "output_type": "execute_result"
    }
   ],
   "source": [
    "df_orders.head(2)"
   ]
  },
  {
   "cell_type": "code",
   "execution_count": 158,
   "id": "legislative-bracelet",
   "metadata": {},
   "outputs": [
    {
     "data": {
      "text/plain": [
       "(1305846, 1)"
      ]
     },
     "execution_count": 158,
     "metadata": {},
     "output_type": "execute_result"
    }
   ],
   "source": [
    "df_orders.shape"
   ]
  },
  {
   "cell_type": "code",
   "execution_count": 163,
   "id": "harmful-respondent",
   "metadata": {},
   "outputs": [],
   "source": [
    "patterns_all = pyfpgrowth.find_frequent_patterns(df_orders['product_name'], 8_000)"
   ]
  },
  {
   "cell_type": "code",
   "execution_count": 160,
   "id": "random-newport",
   "metadata": {},
   "outputs": [
    {
     "data": {
      "text/plain": [
       "{('red vine tomato',): 5024,\n",
       " ('spring water',): 5071,\n",
       " ('broccoli crown',): 5080,\n",
       " ('organic garnet sweet potato (yam)',): 5165,\n",
       " ('organic peeled whole baby carrots',): 5178,\n",
       " ('organic unsweetened almond milk',): 5186,\n",
       " ('blueberries',): 5190,\n",
       " ('organic granny smith apple',): 5234,\n",
       " ('organic red bell pepper',): 5335,\n",
       " ('100% whole wheat bread',): 5358,\n",
       " ('green bell pepper',): 5360,\n",
       " ('organic italian parsley bunch',): 5459,\n",
       " ('small hass avocado',): 5498,\n",
       " ('red peppers',): 5659,\n",
       " ('organic tomato cluster',): 5683,\n",
       " ('half & half',): 5868,\n",
       " ('organic small bunch celery',): 5936,\n",
       " ('organic blackberries',): 5963,\n",
       " ('michigan organic kale',): 5995,\n",
       " ('raspberries',): 6143,\n",
       " ('carrots',): 6156,\n",
       " ('fresh cauliflower',): 6238,\n",
       " (' organic',): 6282,\n",
       " ('clementines',): 6323,\n",
       " ('organic half & half',): 6369,\n",
       " ('original hummus',): 6396,\n",
       " ('apple honeycrisp organic',): 6479,\n",
       " ('organic baby arugula',): 6614,\n",
       " ('organic large extra fancy fuji apple',): 6621,\n",
       " ('organic gala apples',): 6826,\n",
       " ('organic cilantro',): 7006,\n",
       " ('organic red onion',): 7228,\n",
       " ('asparagus',): 7240,\n",
       " ('sparkling water grapefruit',): 7241,\n",
       " ('organic baby carrots',): 7373,\n",
       " ('cucumber kirby',): 7411,\n",
       " ('honeycrisp apple',): 7441,\n",
       " ('yellow onions',): 7462,\n",
       " ('organic fuji apple',): 7774,\n",
       " ('organic lemon',): 7898,\n",
       " ('organic grape tomatoes',): 8040,\n",
       " ('seedless red grapes',): 8116,\n",
       " ('organic cucumber',): 8705,\n",
       " ('organic garlic',): 9510,\n",
       " ('organic zucchini',): 9807,\n",
       " ('organic blueberries',): 10014,\n",
       " ('organic yellow onion',): 10097,\n",
       " ('organic whole milk',): 11818,\n",
       " ('organic raspberries',): 12473,\n",
       " ('limes',): 12947,\n",
       " ('strawberries',): 13526,\n",
       " ('large lemon',): 15634,\n",
       " ('organic avocado',): 16188,\n",
       " ('organic hass avocado',): 17740,\n",
       " ('organic baby spinach',): 21851,\n",
       " ('organic strawberries',): 23968,\n",
       " ('bag of organic bananas',): 34462,\n",
       " ('banana',): 42736}"
      ]
     },
     "execution_count": 160,
     "metadata": {},
     "output_type": "execute_result"
    }
   ],
   "source": [
    "patterns_all"
   ]
  },
  {
   "cell_type": "code",
   "execution_count": 148,
   "id": "passive-offering",
   "metadata": {},
   "outputs": [],
   "source": [
    "rules = pyfpgrowth.generate_association_rules(patterns_all, 0.5)"
   ]
  },
  {
   "cell_type": "code",
   "execution_count": 162,
   "id": "obvious-carnival",
   "metadata": {},
   "outputs": [
    {
     "data": {
      "text/plain": [
       "{('organic red radish',): ((' bunch',), 1.0009765625),\n",
       " (' coconut',): ((' strained low-fat',), 0.9631336405529954),\n",
       " (' strained low-fat',): ((' coconut',), 1.0009578544061302),\n",
       " (' sweet baby kale',): ((' baby bok choy',), 1.0013586956521738),\n",
       " (' baby bok choy',): ((' sweet baby kale',), 0.8599766627771295),\n",
       " (' baby bok choy', ' super spinach! baby spinach'): ((' sweet baby kale',),\n",
       "  1.0),\n",
       " (' baby bok choy', ' sweet baby kale'): ((' super spinach! baby spinach',),\n",
       "  0.7116689280868386),\n",
       " (' super spinach! baby spinach', ' sweet baby kale'): ((' baby bok choy',),\n",
       "  1.0019102196752627),\n",
       " (' calorie free',): ((' jersey sweet onion',), 1.0),\n",
       " (' jersey sweet onion',): ((' calorie free',), 1.0),\n",
       " (' bibb) lettuce',): ((' butter',), 1.0),\n",
       " (' butter',): ((' bibb) lettuce',), 0.7710344827586207),\n",
       " (' organic red radish',): ((' bunch',), 1.0293470286133528),\n",
       " (' vitamin d',): ((' organic',), 0.6855138258357408),\n",
       " ('milk',): ((' vitamin d',), 0.5391899000526039),\n",
       " (' bag',): ((' clementines',), 0.509212730318258),\n",
       " (' clementines',): ((' bag',), 0.7777777777777778)}"
      ]
     },
     "execution_count": 162,
     "metadata": {},
     "output_type": "execute_result"
    }
   ],
   "source": [
    "rules"
   ]
  },
  {
   "cell_type": "code",
   "execution_count": null,
   "id": "waiting-demographic",
   "metadata": {},
   "outputs": [],
   "source": []
  }
 ],
 "metadata": {
  "kernelspec": {
   "display_name": "Python 3",
   "language": "python",
   "name": "python3"
  },
  "language_info": {
   "codemirror_mode": {
    "name": "ipython",
    "version": 3
   },
   "file_extension": ".py",
   "mimetype": "text/x-python",
   "name": "python",
   "nbconvert_exporter": "python",
   "pygments_lexer": "ipython3",
   "version": "3.8.5"
  }
 },
 "nbformat": 4,
 "nbformat_minor": 5
}
