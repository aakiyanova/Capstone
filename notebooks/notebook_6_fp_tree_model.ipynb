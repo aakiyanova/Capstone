{
 "cells": [
  {
   "cell_type": "markdown",
   "id": "substantial-latter",
   "metadata": {},
   "source": [
    "#### Modeling and Analysis "
   ]
  },
  {
   "cell_type": "code",
   "execution_count": null,
   "id": "large-reverse",
   "metadata": {},
   "outputs": [],
   "source": [
    "import pandas as pd\n",
    "import numpy as np\n",
    "from fpgrowth_py import fpgrowth\n",
    "import pyfpgrowth\n",
    "import random\n",
    "import matplotlib.pyplot as plt\n",
    "from mlxtend.preprocessing import TransactionEncoder\n",
    "from mlxtend.frequent_patterns import fpgrowth"
   ]
  },
  {
   "cell_type": "code",
   "execution_count": 7,
   "id": "rotary-folder",
   "metadata": {},
   "outputs": [],
   "source": [
    "# reading aisles dataset\n",
    "aisles = pd.read_csv('data/aisles.csv')"
   ]
  },
  {
   "cell_type": "code",
   "execution_count": 8,
   "id": "unusual-combine",
   "metadata": {},
   "outputs": [],
   "source": [
    "# reading department dataset\n",
    "department = pd.read_csv('data/departments.csv')"
   ]
  },
  {
   "cell_type": "code",
   "execution_count": 162,
   "id": "august-certificate",
   "metadata": {},
   "outputs": [],
   "source": [
    "p = 0.10\n",
    "all_orders = pd.read_csv('data/orders_train_prior.csv', header = 0, skiprows = lambda i: i>0 and random.random() > p)"
   ]
  },
  {
   "cell_type": "code",
   "execution_count": 96,
   "id": "improved-pastor",
   "metadata": {},
   "outputs": [],
   "source": [
    "all_orders_full = pd.read_csv('data/orders_train_prior.csv')"
   ]
  },
  {
   "cell_type": "code",
   "execution_count": 80,
   "id": "about-adapter",
   "metadata": {},
   "outputs": [],
   "source": [
    "morning_orders = pd.read_csv('data/morning_orders.csv')"
   ]
  },
  {
   "cell_type": "markdown",
   "id": "complete-hardware",
   "metadata": {},
   "source": [
    "**Morning Orders: preprocessing, onehotencode, find patterns**"
   ]
  },
  {
   "cell_type": "code",
   "execution_count": 81,
   "id": "challenging-premises",
   "metadata": {},
   "outputs": [],
   "source": [
    "# group products by order_id into a df\n",
    "df_morning = morning_orders.groupby('order_id')['product_name'].agg([('product_name', ', '.join)]).reset_index()"
   ]
  },
  {
   "cell_type": "code",
   "execution_count": 82,
   "id": "streaming-utilization",
   "metadata": {},
   "outputs": [],
   "source": [
    "df_morning.set_index('order_id', inplace = True)"
   ]
  },
  {
   "cell_type": "code",
   "execution_count": 83,
   "id": "strange-tragedy",
   "metadata": {},
   "outputs": [
    {
     "data": {
      "text/html": [
       "<div>\n",
       "<style scoped>\n",
       "    .dataframe tbody tr th:only-of-type {\n",
       "        vertical-align: middle;\n",
       "    }\n",
       "\n",
       "    .dataframe tbody tr th {\n",
       "        vertical-align: top;\n",
       "    }\n",
       "\n",
       "    .dataframe thead th {\n",
       "        text-align: right;\n",
       "    }\n",
       "</style>\n",
       "<table border=\"1\" class=\"dataframe\">\n",
       "  <thead>\n",
       "    <tr style=\"text-align: right;\">\n",
       "      <th></th>\n",
       "      <th>product_name</th>\n",
       "    </tr>\n",
       "    <tr>\n",
       "      <th>order_id</th>\n",
       "      <th></th>\n",
       "    </tr>\n",
       "  </thead>\n",
       "  <tbody>\n",
       "    <tr>\n",
       "      <th>183</th>\n",
       "      <td>Black Tea Variety Pack</td>\n",
       "    </tr>\n",
       "    <tr>\n",
       "      <th>275</th>\n",
       "      <td>Grated Parmesan, Organic Broccoli Florets</td>\n",
       "    </tr>\n",
       "  </tbody>\n",
       "</table>\n",
       "</div>"
      ],
      "text/plain": [
       "                                       product_name\n",
       "order_id                                           \n",
       "183                          Black Tea Variety Pack\n",
       "275       Grated Parmesan, Organic Broccoli Florets"
      ]
     },
     "execution_count": 83,
     "metadata": {},
     "output_type": "execute_result"
    }
   ],
   "source": [
    "df_morning.head(2)"
   ]
  },
  {
   "cell_type": "code",
   "execution_count": 84,
   "id": "adjacent-geography",
   "metadata": {},
   "outputs": [
    {
     "name": "stdout",
     "output_type": "stream",
     "text": [
      "<class 'pandas.core.frame.DataFrame'>\n",
      "Int64Index: 16354 entries, 183 to 3420948\n",
      "Data columns (total 1 columns):\n",
      " #   Column        Non-Null Count  Dtype \n",
      "---  ------        --------------  ----- \n",
      " 0   product_name  16354 non-null  object\n",
      "dtypes: object(1)\n",
      "memory usage: 255.5+ KB\n"
     ]
    }
   ],
   "source": [
    "df_morning.info()"
   ]
  },
  {
   "cell_type": "code",
   "execution_count": 55,
   "id": "structured-conflict",
   "metadata": {},
   "outputs": [
    {
     "data": {
      "text/plain": [
       "(16354, 1)"
      ]
     },
     "execution_count": 55,
     "metadata": {},
     "output_type": "execute_result"
    }
   ],
   "source": [
    "df_morning.shape"
   ]
  },
  {
   "cell_type": "code",
   "execution_count": 85,
   "id": "norwegian-keeping",
   "metadata": {},
   "outputs": [],
   "source": [
    "morning_list = df_morning.values.tolist()"
   ]
  },
  {
   "cell_type": "code",
   "execution_count": 128,
   "id": "little-squad",
   "metadata": {},
   "outputs": [
    {
     "data": {
      "text/html": [
       "<div>\n",
       "<style scoped>\n",
       "    .dataframe tbody tr th:only-of-type {\n",
       "        vertical-align: middle;\n",
       "    }\n",
       "\n",
       "    .dataframe tbody tr th {\n",
       "        vertical-align: top;\n",
       "    }\n",
       "\n",
       "    .dataframe thead th {\n",
       "        text-align: right;\n",
       "    }\n",
       "</style>\n",
       "<table border=\"1\" class=\"dataframe\">\n",
       "  <thead>\n",
       "    <tr style=\"text-align: right;\">\n",
       "      <th></th>\n",
       "      <th>0 Calorie Strawberry Dragonfruit Water Beverage</th>\n",
       "      <th>0% Fat Blueberry Greek Yogurt</th>\n",
       "      <th>0% Fat Free Organic Milk</th>\n",
       "      <th>0% Fat Organic Greek Vanilla Yogurt</th>\n",
       "      <th>0% Fat Organic Greek Vanilla Yogurt, Organic Beef Uncured Hot Dogs</th>\n",
       "      <th>0% Fat Strawberry Greek Yogurt</th>\n",
       "      <th>0% Greek Strained Yogurt</th>\n",
       "      <th>0% Milkfat Greek Plain Yogurt</th>\n",
       "      <th>1 Apple + 1 Mango Fruit Bar</th>\n",
       "      <th>1 Apple + 1 Mango Fruit Bar, Nonfat Icelandic Style Strawberry Yogurt</th>\n",
       "      <th>...</th>\n",
       "      <th>ZzzQuil Nighttime Sleep-Aid LiquiCaps, Slow Kettle Kickin' Crab &amp; Sweet Corn Chowder Soup</th>\n",
       "      <th>\\\"Mokaccino\\\" Milk + Blue Bottle Coffee Chocolate, Organic Hass Avocado, Chopped Onions, Organic Raspberries, Diced Red Onions, Organic Garlic, Organic Shredded Parmesan, Organic Large Grade AA Brown Eggs, Crunchy Almond Butter, Organic Sweetened Condensed Milk</th>\n",
       "      <th>for Tots Apple Juice</th>\n",
       "      <th>gelato Coffee Toffee</th>\n",
       "      <th>of Hanover 100 Calorie Pretzels Mini</th>\n",
       "      <th>of Hanover 100 Calorie Pretzels Mini, Organic Cinnamon Apple Chips, Organic Lightly Salted Brown Rice Cakes, Crisp 'n Light Wholesome Wheat Crackerbread, Multi Grain Crispbread, Peppermint Sugar Free Gum, Organic Mango Acai Fruit Leather, 12 Ct, Green Seedless Grapes, Banana, Organic Blackberries, Organic Fuji Apple, Organic Granny Smith Apple, Multi Grain Cheerios Cereal, Mozzarella Ciliegine Fresh, Grade A Large White Eggs, Organic Grade A Free Range Large Brown Eggs, Original Whole Grain English Muffins, Original Nooks &amp; Crannies English Muffins, Large Burrito Flour Tortillas, Pure Coconut Water, No Pulp Calcium &amp; Vitamin D Pure Premium 100% Pure Orange Juice, Uncured Genoa Salami, Fusilli No. 34, Organic Turkey Bacon, White Giant Paper Towel Rolls</th>\n",
       "      <th>of Hanover 100 Calorie Pretzels Mini, Original No Pulp 100% Florida Orange Juice</th>\n",
       "      <th>smartwater® Electrolyte Enhanced Water</th>\n",
       "      <th>vitaminwater® XXX Acai Blueberry Pomegranate</th>\n",
       "      <th>with Crispy Almonds Cereal</th>\n",
       "    </tr>\n",
       "  </thead>\n",
       "  <tbody>\n",
       "    <tr>\n",
       "      <th>0</th>\n",
       "      <td>False</td>\n",
       "      <td>False</td>\n",
       "      <td>False</td>\n",
       "      <td>False</td>\n",
       "      <td>False</td>\n",
       "      <td>False</td>\n",
       "      <td>False</td>\n",
       "      <td>False</td>\n",
       "      <td>False</td>\n",
       "      <td>False</td>\n",
       "      <td>...</td>\n",
       "      <td>False</td>\n",
       "      <td>False</td>\n",
       "      <td>False</td>\n",
       "      <td>False</td>\n",
       "      <td>False</td>\n",
       "      <td>False</td>\n",
       "      <td>False</td>\n",
       "      <td>False</td>\n",
       "      <td>False</td>\n",
       "      <td>False</td>\n",
       "    </tr>\n",
       "    <tr>\n",
       "      <th>1</th>\n",
       "      <td>False</td>\n",
       "      <td>False</td>\n",
       "      <td>False</td>\n",
       "      <td>False</td>\n",
       "      <td>False</td>\n",
       "      <td>False</td>\n",
       "      <td>False</td>\n",
       "      <td>False</td>\n",
       "      <td>False</td>\n",
       "      <td>False</td>\n",
       "      <td>...</td>\n",
       "      <td>False</td>\n",
       "      <td>False</td>\n",
       "      <td>False</td>\n",
       "      <td>False</td>\n",
       "      <td>False</td>\n",
       "      <td>False</td>\n",
       "      <td>False</td>\n",
       "      <td>False</td>\n",
       "      <td>False</td>\n",
       "      <td>False</td>\n",
       "    </tr>\n",
       "  </tbody>\n",
       "</table>\n",
       "<p>2 rows × 10398 columns</p>\n",
       "</div>"
      ],
      "text/plain": [
       "   0 Calorie Strawberry Dragonfruit Water Beverage  \\\n",
       "0                                            False   \n",
       "1                                            False   \n",
       "\n",
       "   0% Fat Blueberry Greek Yogurt  0% Fat Free Organic Milk  \\\n",
       "0                          False                     False   \n",
       "1                          False                     False   \n",
       "\n",
       "   0% Fat Organic Greek Vanilla Yogurt  \\\n",
       "0                                False   \n",
       "1                                False   \n",
       "\n",
       "   0% Fat Organic Greek Vanilla Yogurt, Organic Beef Uncured Hot Dogs  \\\n",
       "0                                              False                    \n",
       "1                                              False                    \n",
       "\n",
       "   0% Fat Strawberry Greek Yogurt  0% Greek Strained Yogurt  \\\n",
       "0                           False                     False   \n",
       "1                           False                     False   \n",
       "\n",
       "   0% Milkfat Greek Plain Yogurt  1 Apple + 1 Mango Fruit Bar  \\\n",
       "0                          False                        False   \n",
       "1                          False                        False   \n",
       "\n",
       "   1 Apple + 1 Mango Fruit Bar, Nonfat Icelandic Style Strawberry Yogurt  ...  \\\n",
       "0                                              False                      ...   \n",
       "1                                              False                      ...   \n",
       "\n",
       "   ZzzQuil Nighttime Sleep-Aid LiquiCaps, Slow Kettle Kickin' Crab & Sweet Corn Chowder Soup  \\\n",
       "0                                              False                                           \n",
       "1                                              False                                           \n",
       "\n",
       "   \\\"Mokaccino\\\" Milk + Blue Bottle Coffee Chocolate, Organic Hass Avocado, Chopped Onions, Organic Raspberries, Diced Red Onions, Organic Garlic, Organic Shredded Parmesan, Organic Large Grade AA Brown Eggs, Crunchy Almond Butter, Organic Sweetened Condensed Milk  \\\n",
       "0                                              False                                                                                                                                                                                                                       \n",
       "1                                              False                                                                                                                                                                                                                       \n",
       "\n",
       "   for Tots Apple Juice  gelato Coffee Toffee  \\\n",
       "0                 False                 False   \n",
       "1                 False                 False   \n",
       "\n",
       "   of Hanover 100 Calorie Pretzels Mini  \\\n",
       "0                                 False   \n",
       "1                                 False   \n",
       "\n",
       "   of Hanover 100 Calorie Pretzels Mini, Organic Cinnamon Apple Chips, Organic Lightly Salted Brown Rice Cakes, Crisp 'n Light Wholesome Wheat Crackerbread, Multi Grain Crispbread, Peppermint Sugar Free Gum, Organic Mango Acai Fruit Leather, 12 Ct, Green Seedless Grapes, Banana, Organic Blackberries, Organic Fuji Apple, Organic Granny Smith Apple, Multi Grain Cheerios Cereal, Mozzarella Ciliegine Fresh, Grade A Large White Eggs, Organic Grade A Free Range Large Brown Eggs, Original Whole Grain English Muffins, Original Nooks & Crannies English Muffins, Large Burrito Flour Tortillas, Pure Coconut Water, No Pulp Calcium & Vitamin D Pure Premium 100% Pure Orange Juice, Uncured Genoa Salami, Fusilli No. 34, Organic Turkey Bacon, White Giant Paper Towel Rolls  \\\n",
       "0                                              False                                                                                                                                                                                                                                                                                                                                                                                                                                                                                                                                                                                                                                                                                                                                           \n",
       "1                                              False                                                                                                                                                                                                                                                                                                                                                                                                                                                                                                                                                                                                                                                                                                                                           \n",
       "\n",
       "   of Hanover 100 Calorie Pretzels Mini, Original No Pulp 100% Florida Orange Juice  \\\n",
       "0                                              False                                  \n",
       "1                                              False                                  \n",
       "\n",
       "   smartwater® Electrolyte Enhanced Water  \\\n",
       "0                                   False   \n",
       "1                                   False   \n",
       "\n",
       "   vitaminwater® XXX Acai Blueberry Pomegranate  with Crispy Almonds Cereal  \n",
       "0                                         False                       False  \n",
       "1                                         False                       False  \n",
       "\n",
       "[2 rows x 10398 columns]"
      ]
     },
     "execution_count": 128,
     "metadata": {},
     "output_type": "execute_result"
    }
   ],
   "source": [
    "encoder = TransactionEncoder()\n",
    "encoder_set = encoder.fit(morning_list).transform(morning_list)\n",
    "df_morning_orders = pd.DataFrame(encoder_set, columns=encoder.columns_)\n",
    "df_morning_orders.head(2)"
   ]
  },
  {
   "cell_type": "code",
   "execution_count": 93,
   "id": "focal-plain",
   "metadata": {},
   "outputs": [
    {
     "data": {
      "text/html": [
       "<div>\n",
       "<style scoped>\n",
       "    .dataframe tbody tr th:only-of-type {\n",
       "        vertical-align: middle;\n",
       "    }\n",
       "\n",
       "    .dataframe tbody tr th {\n",
       "        vertical-align: top;\n",
       "    }\n",
       "\n",
       "    .dataframe thead th {\n",
       "        text-align: right;\n",
       "    }\n",
       "</style>\n",
       "<table border=\"1\" class=\"dataframe\">\n",
       "  <thead>\n",
       "    <tr style=\"text-align: right;\">\n",
       "      <th></th>\n",
       "      <th>support</th>\n",
       "      <th>itemsets</th>\n",
       "    </tr>\n",
       "  </thead>\n",
       "  <tbody>\n",
       "  </tbody>\n",
       "</table>\n",
       "</div>"
      ],
      "text/plain": [
       "Empty DataFrame\n",
       "Columns: [support, itemsets]\n",
       "Index: []"
      ]
     },
     "execution_count": 93,
     "metadata": {},
     "output_type": "execute_result"
    }
   ],
   "source": [
    "fpgrowth(df_morning_orders, min_support=0.01)"
   ]
  },
  {
   "cell_type": "markdown",
   "id": "yellow-claim",
   "metadata": {},
   "source": [
    "**All Orders**"
   ]
  },
  {
   "cell_type": "code",
   "execution_count": 163,
   "id": "excited-court",
   "metadata": {},
   "outputs": [],
   "source": [
    "# group products by order_id into a df\n",
    "df_all_orders = all_orders.groupby('order_id')['product_name'].agg([('product_name', ', '.join)]).reset_index()"
   ]
  },
  {
   "cell_type": "code",
   "execution_count": 164,
   "id": "northern-nirvana",
   "metadata": {},
   "outputs": [],
   "source": [
    "# reset order_id as index\n",
    "df_all_orders.set_index('order_id', inplace=True)"
   ]
  },
  {
   "cell_type": "code",
   "execution_count": 165,
   "id": "italian-pearl",
   "metadata": {},
   "outputs": [
    {
     "data": {
      "text/html": [
       "<div>\n",
       "<style scoped>\n",
       "    .dataframe tbody tr th:only-of-type {\n",
       "        vertical-align: middle;\n",
       "    }\n",
       "\n",
       "    .dataframe tbody tr th {\n",
       "        vertical-align: top;\n",
       "    }\n",
       "\n",
       "    .dataframe thead th {\n",
       "        text-align: right;\n",
       "    }\n",
       "</style>\n",
       "<table border=\"1\" class=\"dataframe\">\n",
       "  <thead>\n",
       "    <tr style=\"text-align: right;\">\n",
       "      <th></th>\n",
       "      <th>product_name</th>\n",
       "    </tr>\n",
       "    <tr>\n",
       "      <th>order_id</th>\n",
       "      <th></th>\n",
       "    </tr>\n",
       "  </thead>\n",
       "  <tbody>\n",
       "    <tr>\n",
       "      <th>1</th>\n",
       "      <td>Bulgarian Yogurt</td>\n",
       "    </tr>\n",
       "    <tr>\n",
       "      <th>36</th>\n",
       "      <td>Spring Water</td>\n",
       "    </tr>\n",
       "    <tr>\n",
       "      <th>38</th>\n",
       "      <td>Organic Hot House Tomato</td>\n",
       "    </tr>\n",
       "    <tr>\n",
       "      <th>67</th>\n",
       "      <td>Thick &amp; Crispy Tortilla Chips</td>\n",
       "    </tr>\n",
       "    <tr>\n",
       "      <th>95</th>\n",
       "      <td>Organic Avocado</td>\n",
       "    </tr>\n",
       "    <tr>\n",
       "      <th>98</th>\n",
       "      <td>Pinto Beans No Salt Added, Organic Garlic, Org...</td>\n",
       "    </tr>\n",
       "    <tr>\n",
       "      <th>125</th>\n",
       "      <td>Organic Whole String Cheese</td>\n",
       "    </tr>\n",
       "    <tr>\n",
       "      <th>129</th>\n",
       "      <td>Bag of Organic Bananas</td>\n",
       "    </tr>\n",
       "    <tr>\n",
       "      <th>170</th>\n",
       "      <td>Carrots</td>\n",
       "    </tr>\n",
       "    <tr>\n",
       "      <th>187</th>\n",
       "      <td>Tiny Twists Pretzels</td>\n",
       "    </tr>\n",
       "  </tbody>\n",
       "</table>\n",
       "</div>"
      ],
      "text/plain": [
       "                                               product_name\n",
       "order_id                                                   \n",
       "1                                          Bulgarian Yogurt\n",
       "36                                             Spring Water\n",
       "38                                 Organic Hot House Tomato\n",
       "67                            Thick & Crispy Tortilla Chips\n",
       "95                                          Organic Avocado\n",
       "98        Pinto Beans No Salt Added, Organic Garlic, Org...\n",
       "125                             Organic Whole String Cheese\n",
       "129                                  Bag of Organic Bananas\n",
       "170                                                 Carrots\n",
       "187                                    Tiny Twists Pretzels"
      ]
     },
     "execution_count": 165,
     "metadata": {},
     "output_type": "execute_result"
    }
   ],
   "source": [
    "df_all_orders.head(10)"
   ]
  },
  {
   "cell_type": "code",
   "execution_count": 166,
   "id": "continuous-shelter",
   "metadata": {},
   "outputs": [
    {
     "data": {
      "text/plain": [
       "(128723, 1)"
      ]
     },
     "execution_count": 166,
     "metadata": {},
     "output_type": "execute_result"
    }
   ],
   "source": [
    "df_full_orders.shape"
   ]
  },
  {
   "cell_type": "code",
   "execution_count": null,
   "id": "compliant-singer",
   "metadata": {},
   "outputs": [],
   "source": [
    "patterns = pyfpgrowth.find_frequent_patterns(df_all_orders['product_name'],1000)"
   ]
  },
  {
   "cell_type": "code",
   "execution_count": 151,
   "id": "ongoing-broadcast",
   "metadata": {
    "collapsed": true,
    "jupyter": {
     "outputs_hidden": true
    }
   },
   "outputs": [
    {
     "data": {
      "text/plain": [
       "{('Spring',): 1006,\n",
       " ('Mini',): 1006,\n",
       " ('Beef',): 1011,\n",
       " ('Bunch',): 1017,\n",
       " ('Cucumber',): 1020,\n",
       " ('Baked',): 1021,\n",
       " ('Light',): 1035,\n",
       " ('Ginger',): 1065,\n",
       " ('Oil',): 1076,\n",
       " ('Tea',): 1081,\n",
       " ('Italian',): 1084,\n",
       " ('Food',): 1091,\n",
       " ('Sliced',): 1096,\n",
       " ('Coffee',): 1099,\n",
       " ('Ground',): 1101,\n",
       " ('Classic',): 1134,\n",
       " ('and',): 1146,\n",
       " ('Bell',): 1155,\n",
       " ('Frozen',): 1208,\n",
       " ('Pasta',): 1210,\n",
       " ('Kale',): 1215,\n",
       " ('Style',): 1216,\n",
       " ('Breast',): 1227,\n",
       " ('Lowfat',): 1231,\n",
       " ('With',): 1236,\n",
       " ('Low',): 1239,\n",
       " ('Cereal',): 1256,\n",
       " ('Sea',): 1266,\n",
       " ('Salt', 'Sea'): 1196,\n",
       " ('Seedless',): 1276,\n",
       " ('Dark',): 1299,\n",
       " ('Chocolate', 'Dark'): 1003,\n",
       " ('Shredded',): 1306,\n",
       " ('Onion',): 1313,\n",
       " ('Total', 'Yogurt'): 1223,\n",
       " ('Greek', 'Total', 'Yogurt'): 1158,\n",
       " ('Greek', 'Total'): 1226,\n",
       " ('Bar',): 1344,\n",
       " ('Mix',): 1353,\n",
       " ('Blueberry',): 1355,\n",
       " ('Eggs', 'Grade'): 1071,\n",
       " ('Eggs', 'Grade', 'Large'): 1038,\n",
       " ('Grade', 'Large'): 1189,\n",
       " ('Garlic',): 1384,\n",
       " ('Broccoli',): 1401,\n",
       " ('Crackers',): 1406,\n",
       " ('Ice',): 1411,\n",
       " ('Cream', 'Ice'): 1215,\n",
       " ('Tomatoes',): 1416,\n",
       " ('Corn',): 1419,\n",
       " ('Peanut',): 1429,\n",
       " ('Butter', 'Peanut'): 1246,\n",
       " ('Turkey',): 1439,\n",
       " ('Plain',): 1439,\n",
       " ('Black',): 1470,\n",
       " ('Pepper',): 1477,\n",
       " ('Carrots',): 1477,\n",
       " ('Carrots', 'Organic'): 1188,\n",
       " ('Beans',): 1479,\n",
       " ('Bananas', 'of'): 1403,\n",
       " ('Bananas', 'Organic', 'of'): 1433,\n",
       " ('Bag', 'Bananas', 'of'): 1403,\n",
       " ('Bag', 'Bananas', 'Organic', 'of'): 1433,\n",
       " ('Bag', 'Bananas', 'Organic'): 1433,\n",
       " ('Bananas', 'Organic'): 1474,\n",
       " ('Yellow',): 1543,\n",
       " ('Extra',): 1551,\n",
       " ('Honey',): 1561,\n",
       " ('2%', 'Reduced'): 1018,\n",
       " ('2%', 'Fat', 'Reduced'): 1067,\n",
       " ('Milk', 'Reduced'): 1143,\n",
       " ('Fat', 'Milk', 'Reduced'): 1188,\n",
       " ('Fat', 'Reduced'): 1542,\n",
       " ('Hass', 'Organic'): 1120,\n",
       " ('Avocado', 'Hass', 'Organic'): 1029,\n",
       " ('Avocado', 'Hass'): 1224,\n",
       " ('Pure',): 1578,\n",
       " ('Grain',): 1591,\n",
       " ('Eggs',): 1616,\n",
       " ('Eggs', 'Large'): 1436,\n",
       " ('Unsweetened',): 1617,\n",
       " ('Half',): 1635,\n",
       " ('&', 'Half'): 1455,\n",
       " ('Fruit',): 1654,\n",
       " ('Roasted',): 1711,\n",
       " ('Fresh',): 1724,\n",
       " ('Sauce',): 1751,\n",
       " ('Wheat',): 1752,\n",
       " ('Wheat', 'Whole'): 1186,\n",
       " ('2%',): 1885,\n",
       " ('2%', 'Fat'): 1090,\n",
       " ('Orange',): 1899,\n",
       " ('Potato',): 1901,\n",
       " ('Baby', 'Spinach'): 1279,\n",
       " ('Baby', 'Organic', 'Spinach'): 1152,\n",
       " ('Organic', 'Spinach'): 1331,\n",
       " ('Strawberries',): 1913,\n",
       " ('Organic', 'Strawberries'): 1290,\n",
       " ('Strawberry',): 1921,\n",
       " ('Salt',): 1924,\n",
       " ('Gluten',): 1946,\n",
       " ('Free', 'Gluten'): 2031,\n",
       " ('Tomato',): 2023,\n",
       " ('Organic', 'Tomato'): 1109,\n",
       " ('Chips',): 2053,\n",
       " ('Rice',): 2075,\n",
       " ('100%',): 2102,\n",
       " ('Brown', 'Large'): 1056,\n",
       " ('Brown', 'Organic'): 1474,\n",
       " ('Bag', 'of'): 1856,\n",
       " ('Bag', 'Organic', 'of'): 1993,\n",
       " ('Organic', 'of'): 2047,\n",
       " ('Green',): 2159,\n",
       " ('Juice',): 2170,\n",
       " ('Avocado',): 2222,\n",
       " ('Avocado', 'Organic'): 1971,\n",
       " ('Bread',): 2251,\n",
       " ('Coconut',): 2254,\n",
       " ('with',): 2321,\n",
       " ('Lemon',): 2332,\n",
       " ('Bag',): 2371,\n",
       " ('Bag', 'Organic'): 2081,\n",
       " ('Sweet',): 2402,\n",
       " ('Banana',): 2454,\n",
       " ('Cheddar',): 2617,\n",
       " ('Cheddar', 'Cheese'): 1242,\n",
       " ('Greek',): 2691,\n",
       " ('Greek', 'Yogurt'): 2448,\n",
       " ('White',): 2719,\n",
       " ('Sparkling',): 2751,\n",
       " ('Sparkling', 'Water'): 2130,\n",
       " ('Vanilla',): 2857,\n",
       " ('Natural',): 2883,\n",
       " ('Butter',): 2884,\n",
       " ('Almond',): 2980,\n",
       " ('Almond', 'Milk'): 1716,\n",
       " ('Cream',): 3110,\n",
       " ('Apple',): 3183,\n",
       " ('Apple', 'Organic'): 2005,\n",
       " ('Fat', 'Free'): 1003,\n",
       " ('Fat', 'Organic'): 1250,\n",
       " ('Fat', 'Milk'): 1714,\n",
       " ('Large',): 3309,\n",
       " ('Large', 'Organic'): 1828,\n",
       " ('Chicken',): 3710,\n",
       " ('Chicken', 'Organic'): 1269,\n",
       " ('Red',): 3716,\n",
       " ('Organic', 'Red'): 1932,\n",
       " ('Chocolate',): 3994,\n",
       " ('Water',): 4076,\n",
       " ('Baby',): 4597,\n",
       " ('Baby', 'Organic'): 3733,\n",
       " ('Original',): 4677,\n",
       " ('Free',): 5141,\n",
       " ('Free', 'Organic'): 1576,\n",
       " ('Yogurt',): 5195,\n",
       " ('Organic', 'Yogurt'): 1483,\n",
       " ('Milk', 'Whole'): 1826,\n",
       " ('Milk', 'Organic', 'Whole'): 1473,\n",
       " ('Organic', 'Whole'): 3599,\n",
       " ('&', 'Cheese'): 1082,\n",
       " ('Cheese', 'Organic'): 1503,\n",
       " ('Milk',): 6842,\n",
       " ('Milk', 'Organic'): 3411,\n",
       " ('&',): 8661,\n",
       " ('&', 'Organic'): 2636,\n",
       " ('Organic',): 45718,\n",
       " ('Organic', 'Organic'): 3627}"
      ]
     },
     "execution_count": 151,
     "metadata": {},
     "output_type": "execute_result"
    }
   ],
   "source": [
    "patterns"
   ]
  }
 ],
 "metadata": {
  "kernelspec": {
   "display_name": "Python 3",
   "language": "python",
   "name": "python3"
  },
  "language_info": {
   "codemirror_mode": {
    "name": "ipython",
    "version": 3
   },
   "file_extension": ".py",
   "mimetype": "text/x-python",
   "name": "python",
   "nbconvert_exporter": "python",
   "pygments_lexer": "ipython3",
   "version": "3.8.5"
  }
 },
 "nbformat": 4,
 "nbformat_minor": 5
}
