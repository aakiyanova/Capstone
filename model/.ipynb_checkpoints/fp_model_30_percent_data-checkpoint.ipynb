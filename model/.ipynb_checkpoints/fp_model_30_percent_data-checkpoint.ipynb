{
 "cells": [
  {
   "cell_type": "markdown",
   "id": "informational-password",
   "metadata": {},
   "source": [
    "#### FP-Growth Algorithm Model on 30% of the Data"
   ]
  },
  {
   "cell_type": "code",
   "execution_count": 7,
   "id": "previous-hughes",
   "metadata": {},
   "outputs": [],
   "source": [
    "# imports\n",
    "import numpy as np\n",
    "import matplotlib.pyplot as plt\n",
    "import pandas as pd\n",
    "import random\n",
    "from fpgrowth_py import fpgrowth\n",
    "import pyfpgrowth\n",
    "import random\n",
    "import matplotlib.pyplot as plt"
   ]
  },
  {
   "cell_type": "code",
   "execution_count": 21,
   "id": "iraqi-reduction",
   "metadata": {},
   "outputs": [],
   "source": [
    "# reading random 30% of the prior orders data\n",
    "p = 0.30\n",
    "order_prior = pd.read_csv('data/order_products__prior.csv', header = 0,  skiprows=lambda i: i>0 and random.random() > p)"
   ]
  },
  {
   "cell_type": "code",
   "execution_count": 22,
   "id": "stuck-techno",
   "metadata": {},
   "outputs": [],
   "source": [
    "# reading random 30% of train orders data\n",
    "p = 0.30\n",
    "order_train = pd.read_csv('data/order_products__train.csv', header = 0,  skiprows=lambda i: i>0 and random.random() > p)"
   ]
  },
  {
   "cell_type": "code",
   "execution_count": 23,
   "id": "specific-tattoo",
   "metadata": {},
   "outputs": [],
   "source": [
    "# reading in products data\n",
    "products = pd.read_csv('data/products.csv')"
   ]
  },
  {
   "cell_type": "markdown",
   "id": "reserved-official",
   "metadata": {},
   "source": [
    "**Merge products and prior Orders**"
   ]
  },
  {
   "cell_type": "code",
   "execution_count": 58,
   "id": "muslim-assessment",
   "metadata": {},
   "outputs": [],
   "source": [
    "prod_orders_prior = pd.merge(products, order_prior,  on = 'product_id') # marge products and orders"
   ]
  },
  {
   "cell_type": "markdown",
   "id": "accepting-display",
   "metadata": {},
   "source": [
    "**Merge products and train Orders**"
   ]
  },
  {
   "cell_type": "code",
   "execution_count": 59,
   "id": "chubby-tobago",
   "metadata": {},
   "outputs": [],
   "source": [
    "prod_orders_train = pd.merge(products, order_train,  on = 'product_id') # merge products and train orders"
   ]
  },
  {
   "cell_type": "markdown",
   "id": "catholic-found",
   "metadata": {},
   "source": [
    "**Concatenate and preprocess prior and train Orders**"
   ]
  },
  {
   "cell_type": "code",
   "execution_count": 26,
   "id": "following-steps",
   "metadata": {},
   "outputs": [],
   "source": [
    "# concatenate prior and train orders\n",
    "orders_train_prior = pd.concat([prod_orders_train, prod_orders_prior], ignore_index = True, sort = False)"
   ]
  },
  {
   "cell_type": "code",
   "execution_count": 27,
   "id": "corporate-bronze",
   "metadata": {},
   "outputs": [],
   "source": [
    "# lower case product names\n",
    "orders_train_prior['product_name'] = orders_train_prior['product_name'].str.lower()"
   ]
  },
  {
   "cell_type": "code",
   "execution_count": 28,
   "id": "electric-satisfaction",
   "metadata": {},
   "outputs": [],
   "source": [
    "# take out commas in product names\n",
    "orders_train_prior['product_name'] = orders_train_prior['product_name'].str.replace(\",\",\"\")"
   ]
  },
  {
   "cell_type": "code",
   "execution_count": 29,
   "id": "irish-persian",
   "metadata": {},
   "outputs": [],
   "source": [
    "# group products by order_id into a df\n",
    "df_all_orders = orders_train_prior.groupby('order_id')['product_name'].agg([('product_name', ','.join)]).reset_index()"
   ]
  },
  {
   "cell_type": "code",
   "execution_count": 30,
   "id": "endless-avatar",
   "metadata": {},
   "outputs": [],
   "source": [
    "# reset order_id as index\n",
    "df_all_orders.set_index('order_id', inplace=True)"
   ]
  },
  {
   "cell_type": "code",
   "execution_count": 31,
   "id": "secondary-evidence",
   "metadata": {},
   "outputs": [],
   "source": [
    "# split results product sets by comma\n",
    "df_orders_split = df_all_orders.product_name.apply(lambda x: x.split(','))"
   ]
  },
  {
   "cell_type": "code",
   "execution_count": 32,
   "id": "eight-vatican",
   "metadata": {},
   "outputs": [],
   "source": [
    "# create a dataframe\n",
    "df_orders = pd.DataFrame(df_orders_split) "
   ]
  },
  {
   "cell_type": "code",
   "execution_count": 33,
   "id": "veterinary-partition",
   "metadata": {},
   "outputs": [],
   "source": [
    "# Identify products with minimum support level\n",
    "patterns_all = pyfpgrowth.find_frequent_patterns(df_orders['product_name'], 1000)"
   ]
  },
  {
   "cell_type": "code",
   "execution_count": 37,
   "id": "heated-ferry",
   "metadata": {},
   "outputs": [],
   "source": [
    "# Identify itemsets with minimum confidence level\n",
    "rules = pyfpgrowth.generate_association_rules(patterns_all, 0.05)"
   ]
  },
  {
   "cell_type": "code",
   "execution_count": 46,
   "id": "owned-least",
   "metadata": {},
   "outputs": [],
   "source": [
    "# Create a dataframe of frequent patterns and transpose the dataframe\n",
    "df_rules = pd.DataFrame(rules).T"
   ]
  },
  {
   "cell_type": "code",
   "execution_count": 48,
   "id": "military-subscription",
   "metadata": {},
   "outputs": [],
   "source": [
    "# sort a dataframe in descending orders\n",
    "df_rules_sorted = df_rules.sort_values(ascending = False, by = 1)"
   ]
  },
  {
   "cell_type": "code",
   "execution_count": 49,
   "id": "corresponding-valuation",
   "metadata": {},
   "outputs": [],
   "source": [
    "# reset index to display pair products\n",
    "df_rules_sorted.reset_index(level = 0, inplace = True)"
   ]
  },
  {
   "cell_type": "code",
   "execution_count": 53,
   "id": "unauthorized-electron",
   "metadata": {},
   "outputs": [],
   "source": [
    "# rename columns to antecedent, consequent, and calculated confidence level\n",
    "df_rules_sorted.rename(columns = {'level_0':'consequent', 0:'antecedent', 1: 'confidence_level'}, inplace = True)"
   ]
  },
  {
   "cell_type": "code",
   "execution_count": 54,
   "id": "vertical-jenny",
   "metadata": {},
   "outputs": [],
   "source": [
    "# take out brackets and commas in the consequent column\n",
    "df_rules_sorted['antecedent'] = df_rules_sorted['antecedent'].astype(str).str.replace(r'\\(|\\)|,', '')\n",
    "# reorder columns\n",
    "cols = ['antecedent', 'consequent', 'confidence_level']\n",
    "df_rules_sorted = df_rules_sorted.reindex(columns=cols)"
   ]
  },
  {
   "cell_type": "code",
   "execution_count": 61,
   "id": "typical-crash",
   "metadata": {},
   "outputs": [
    {
     "data": {
      "text/html": [
       "<div>\n",
       "<style scoped>\n",
       "    .dataframe tbody tr th:only-of-type {\n",
       "        vertical-align: middle;\n",
       "    }\n",
       "\n",
       "    .dataframe tbody tr th {\n",
       "        vertical-align: top;\n",
       "    }\n",
       "\n",
       "    .dataframe thead th {\n",
       "        text-align: right;\n",
       "    }\n",
       "</style>\n",
       "<table border=\"1\" class=\"dataframe\">\n",
       "  <thead>\n",
       "    <tr style=\"text-align: right;\">\n",
       "      <th></th>\n",
       "      <th>antecedent</th>\n",
       "      <th>consequent</th>\n",
       "      <th>confidence_level</th>\n",
       "    </tr>\n",
       "  </thead>\n",
       "  <tbody>\n",
       "    <tr>\n",
       "      <th>0</th>\n",
       "      <td>'banana'</td>\n",
       "      <td>bartlett pears</td>\n",
       "      <td>0.123199</td>\n",
       "    </tr>\n",
       "    <tr>\n",
       "      <th>1</th>\n",
       "      <td>'banana'</td>\n",
       "      <td>broccoli crown</td>\n",
       "      <td>0.103162</td>\n",
       "    </tr>\n",
       "  </tbody>\n",
       "</table>\n",
       "</div>"
      ],
      "text/plain": [
       "  antecedent      consequent confidence_level\n",
       "0   'banana'  bartlett pears         0.123199\n",
       "1   'banana'  broccoli crown         0.103162"
      ]
     },
     "execution_count": 61,
     "metadata": {},
     "output_type": "execute_result"
    }
   ],
   "source": [
    "df_rules_sorted.head(2)"
   ]
  },
  {
   "cell_type": "code",
   "execution_count": 56,
   "id": "anonymous-beads",
   "metadata": {},
   "outputs": [],
   "source": [
    "# save results to a .csv file in data folder\n",
    "df_rules_sorted.to_csv('data/rules_30_percent.csv', index = False)"
   ]
  }
 ],
 "metadata": {
  "kernelspec": {
   "display_name": "conda_python3",
   "language": "python",
   "name": "conda_python3"
  },
  "language_info": {
   "codemirror_mode": {
    "name": "ipython",
    "version": 3
   },
   "file_extension": ".py",
   "mimetype": "text/x-python",
   "name": "python",
   "nbconvert_exporter": "python",
   "pygments_lexer": "ipython3",
   "version": "3.6.10"
  }
 },
 "nbformat": 4,
 "nbformat_minor": 5
}
