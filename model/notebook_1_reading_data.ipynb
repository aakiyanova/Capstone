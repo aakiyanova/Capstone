{
 "cells": [
  {
   "cell_type": "markdown",
   "id": "sacred-listening",
   "metadata": {},
   "source": [
    "#### Data Reading and EDA "
   ]
  },
  {
   "cell_type": "markdown",
   "id": "cutting-parcel",
   "metadata": {},
   "source": [
    "#### Problem Statement\n",
    "\n",
    "Analyze Instacart dataset and determine customer basket mix based on previous order history. "
   ]
  },
  {
   "cell_type": "code",
   "execution_count": 68,
   "id": "likely-english",
   "metadata": {},
   "outputs": [],
   "source": [
    "# imports\n",
    "import numpy as np\n",
    "import matplotlib.pyplot as plt\n",
    "import pandas as pd\n",
    "import random"
   ]
  },
  {
   "cell_type": "markdown",
   "id": "dirty-student",
   "metadata": {},
   "source": [
    "**Reading the Data**"
   ]
  },
  {
   "cell_type": "code",
   "execution_count": 69,
   "id": "intended-syria",
   "metadata": {},
   "outputs": [],
   "source": [
    "# reading aisles dataset\n",
    "aisles = pd.read_csv('data/aisles.csv')"
   ]
  },
  {
   "cell_type": "code",
   "execution_count": 70,
   "id": "sporting-connection",
   "metadata": {},
   "outputs": [],
   "source": [
    "# reading department dataset\n",
    "department = pd.read_csv('data/departments.csv')"
   ]
  },
  {
   "cell_type": "code",
   "execution_count": 71,
   "id": "delayed-signal",
   "metadata": {},
   "outputs": [],
   "source": [
    "# reaading random 5% of order_prior dataset \n",
    "p = 0.05\n",
    "order_prior = pd.read_csv('data/order_products__prior.csv', header = 0,  skiprows=lambda i: i>0 and random.random() > p)"
   ]
  },
  {
   "cell_type": "code",
   "execution_count": 72,
   "id": "religious-scoop",
   "metadata": {},
   "outputs": [],
   "source": [
    "# reading random 5% of the order dataset\n",
    "p = 0.05\n",
    "orders = pd.read_csv('data/orders.csv', header = 0,  skiprows=lambda i: i>0 and random.random() > p)"
   ]
  },
  {
   "cell_type": "code",
   "execution_count": 73,
   "id": "appointed-extraction",
   "metadata": {},
   "outputs": [],
   "source": [
    "# reading in products data\n",
    "products = pd.read_csv('data/products.csv')"
   ]
  },
  {
   "cell_type": "code",
   "execution_count": 74,
   "id": "dental-indonesia",
   "metadata": {},
   "outputs": [],
   "source": [
    "order_train = pd.read_csv('data/order_products__train.csv')"
   ]
  },
  {
   "cell_type": "code",
   "execution_count": 75,
   "id": "characteristic-brooklyn",
   "metadata": {},
   "outputs": [
    {
     "data": {
      "text/html": [
       "<div>\n",
       "<style scoped>\n",
       "    .dataframe tbody tr th:only-of-type {\n",
       "        vertical-align: middle;\n",
       "    }\n",
       "\n",
       "    .dataframe tbody tr th {\n",
       "        vertical-align: top;\n",
       "    }\n",
       "\n",
       "    .dataframe thead th {\n",
       "        text-align: right;\n",
       "    }\n",
       "</style>\n",
       "<table border=\"1\" class=\"dataframe\">\n",
       "  <thead>\n",
       "    <tr style=\"text-align: right;\">\n",
       "      <th></th>\n",
       "      <th>aisle_id</th>\n",
       "      <th>aisle</th>\n",
       "    </tr>\n",
       "  </thead>\n",
       "  <tbody>\n",
       "    <tr>\n",
       "      <th>0</th>\n",
       "      <td>1</td>\n",
       "      <td>prepared soups salads</td>\n",
       "    </tr>\n",
       "    <tr>\n",
       "      <th>1</th>\n",
       "      <td>2</td>\n",
       "      <td>specialty cheeses</td>\n",
       "    </tr>\n",
       "  </tbody>\n",
       "</table>\n",
       "</div>"
      ],
      "text/plain": [
       "   aisle_id                  aisle\n",
       "0         1  prepared soups salads\n",
       "1         2      specialty cheeses"
      ]
     },
     "execution_count": 75,
     "metadata": {},
     "output_type": "execute_result"
    }
   ],
   "source": [
    "aisles.head(2)"
   ]
  },
  {
   "cell_type": "code",
   "execution_count": 76,
   "id": "mediterranean-morris",
   "metadata": {},
   "outputs": [
    {
     "data": {
      "text/html": [
       "<div>\n",
       "<style scoped>\n",
       "    .dataframe tbody tr th:only-of-type {\n",
       "        vertical-align: middle;\n",
       "    }\n",
       "\n",
       "    .dataframe tbody tr th {\n",
       "        vertical-align: top;\n",
       "    }\n",
       "\n",
       "    .dataframe thead th {\n",
       "        text-align: right;\n",
       "    }\n",
       "</style>\n",
       "<table border=\"1\" class=\"dataframe\">\n",
       "  <thead>\n",
       "    <tr style=\"text-align: right;\">\n",
       "      <th></th>\n",
       "      <th>department_id</th>\n",
       "      <th>department</th>\n",
       "    </tr>\n",
       "  </thead>\n",
       "  <tbody>\n",
       "    <tr>\n",
       "      <th>0</th>\n",
       "      <td>1</td>\n",
       "      <td>frozen</td>\n",
       "    </tr>\n",
       "    <tr>\n",
       "      <th>1</th>\n",
       "      <td>2</td>\n",
       "      <td>other</td>\n",
       "    </tr>\n",
       "  </tbody>\n",
       "</table>\n",
       "</div>"
      ],
      "text/plain": [
       "   department_id department\n",
       "0              1     frozen\n",
       "1              2      other"
      ]
     },
     "execution_count": 76,
     "metadata": {},
     "output_type": "execute_result"
    }
   ],
   "source": [
    "department.head(2)"
   ]
  },
  {
   "cell_type": "code",
   "execution_count": 77,
   "id": "knowing-jackson",
   "metadata": {},
   "outputs": [
    {
     "data": {
      "text/html": [
       "<div>\n",
       "<style scoped>\n",
       "    .dataframe tbody tr th:only-of-type {\n",
       "        vertical-align: middle;\n",
       "    }\n",
       "\n",
       "    .dataframe tbody tr th {\n",
       "        vertical-align: top;\n",
       "    }\n",
       "\n",
       "    .dataframe thead th {\n",
       "        text-align: right;\n",
       "    }\n",
       "</style>\n",
       "<table border=\"1\" class=\"dataframe\">\n",
       "  <thead>\n",
       "    <tr style=\"text-align: right;\">\n",
       "      <th></th>\n",
       "      <th>order_id</th>\n",
       "      <th>product_id</th>\n",
       "      <th>add_to_cart_order</th>\n",
       "      <th>reordered</th>\n",
       "    </tr>\n",
       "  </thead>\n",
       "  <tbody>\n",
       "    <tr>\n",
       "      <th>0</th>\n",
       "      <td>4</td>\n",
       "      <td>39758</td>\n",
       "      <td>3</td>\n",
       "      <td>1</td>\n",
       "    </tr>\n",
       "    <tr>\n",
       "      <th>1</th>\n",
       "      <td>4</td>\n",
       "      <td>34862</td>\n",
       "      <td>8</td>\n",
       "      <td>1</td>\n",
       "    </tr>\n",
       "  </tbody>\n",
       "</table>\n",
       "</div>"
      ],
      "text/plain": [
       "   order_id  product_id  add_to_cart_order  reordered\n",
       "0         4       39758                  3          1\n",
       "1         4       34862                  8          1"
      ]
     },
     "execution_count": 77,
     "metadata": {},
     "output_type": "execute_result"
    }
   ],
   "source": [
    "order_prior.head(2)"
   ]
  },
  {
   "cell_type": "code",
   "execution_count": 78,
   "id": "genetic-helena",
   "metadata": {},
   "outputs": [
    {
     "data": {
      "text/plain": [
       "(1619550, 4)"
      ]
     },
     "execution_count": 78,
     "metadata": {},
     "output_type": "execute_result"
    }
   ],
   "source": [
    "order_prior.shape"
   ]
  },
  {
   "cell_type": "code",
   "execution_count": 80,
   "id": "decent-mention",
   "metadata": {},
   "outputs": [
    {
     "data": {
      "text/html": [
       "<div>\n",
       "<style scoped>\n",
       "    .dataframe tbody tr th:only-of-type {\n",
       "        vertical-align: middle;\n",
       "    }\n",
       "\n",
       "    .dataframe tbody tr th {\n",
       "        vertical-align: top;\n",
       "    }\n",
       "\n",
       "    .dataframe thead th {\n",
       "        text-align: right;\n",
       "    }\n",
       "</style>\n",
       "<table border=\"1\" class=\"dataframe\">\n",
       "  <thead>\n",
       "    <tr style=\"text-align: right;\">\n",
       "      <th></th>\n",
       "      <th>order_id</th>\n",
       "      <th>user_id</th>\n",
       "      <th>eval_set</th>\n",
       "      <th>order_number</th>\n",
       "      <th>order_dow</th>\n",
       "      <th>order_hour_of_day</th>\n",
       "      <th>days_since_prior_order</th>\n",
       "    </tr>\n",
       "  </thead>\n",
       "  <tbody>\n",
       "    <tr>\n",
       "      <th>0</th>\n",
       "      <td>3194192</td>\n",
       "      <td>2</td>\n",
       "      <td>prior</td>\n",
       "      <td>7</td>\n",
       "      <td>2</td>\n",
       "      <td>12</td>\n",
       "      <td>14.0</td>\n",
       "    </tr>\n",
       "    <tr>\n",
       "      <th>1</th>\n",
       "      <td>788338</td>\n",
       "      <td>2</td>\n",
       "      <td>prior</td>\n",
       "      <td>8</td>\n",
       "      <td>1</td>\n",
       "      <td>15</td>\n",
       "      <td>27.0</td>\n",
       "    </tr>\n",
       "  </tbody>\n",
       "</table>\n",
       "</div>"
      ],
      "text/plain": [
       "   order_id  user_id eval_set  order_number  order_dow  order_hour_of_day  \\\n",
       "0   3194192        2    prior             7          2                 12   \n",
       "1    788338        2    prior             8          1                 15   \n",
       "\n",
       "   days_since_prior_order  \n",
       "0                    14.0  \n",
       "1                    27.0  "
      ]
     },
     "execution_count": 80,
     "metadata": {},
     "output_type": "execute_result"
    }
   ],
   "source": [
    "orders.head(2)"
   ]
  },
  {
   "cell_type": "code",
   "execution_count": 81,
   "id": "continental-payroll",
   "metadata": {},
   "outputs": [
    {
     "data": {
      "text/plain": [
       "(171845, 7)"
      ]
     },
     "execution_count": 81,
     "metadata": {},
     "output_type": "execute_result"
    }
   ],
   "source": [
    "orders.shape"
   ]
  },
  {
   "cell_type": "code",
   "execution_count": 82,
   "id": "empirical-certification",
   "metadata": {},
   "outputs": [
    {
     "data": {
      "text/plain": [
       "(1384617, 4)"
      ]
     },
     "execution_count": 82,
     "metadata": {},
     "output_type": "execute_result"
    }
   ],
   "source": [
    "order_train.shape"
   ]
  },
  {
   "cell_type": "code",
   "execution_count": 83,
   "id": "norwegian-india",
   "metadata": {},
   "outputs": [
    {
     "data": {
      "text/html": [
       "<div>\n",
       "<style scoped>\n",
       "    .dataframe tbody tr th:only-of-type {\n",
       "        vertical-align: middle;\n",
       "    }\n",
       "\n",
       "    .dataframe tbody tr th {\n",
       "        vertical-align: top;\n",
       "    }\n",
       "\n",
       "    .dataframe thead th {\n",
       "        text-align: right;\n",
       "    }\n",
       "</style>\n",
       "<table border=\"1\" class=\"dataframe\">\n",
       "  <thead>\n",
       "    <tr style=\"text-align: right;\">\n",
       "      <th></th>\n",
       "      <th>product_id</th>\n",
       "      <th>product_name</th>\n",
       "      <th>aisle_id</th>\n",
       "      <th>department_id</th>\n",
       "    </tr>\n",
       "  </thead>\n",
       "  <tbody>\n",
       "    <tr>\n",
       "      <th>0</th>\n",
       "      <td>1</td>\n",
       "      <td>Chocolate Sandwich Cookies</td>\n",
       "      <td>61</td>\n",
       "      <td>19</td>\n",
       "    </tr>\n",
       "    <tr>\n",
       "      <th>1</th>\n",
       "      <td>2</td>\n",
       "      <td>All-Seasons Salt</td>\n",
       "      <td>104</td>\n",
       "      <td>13</td>\n",
       "    </tr>\n",
       "  </tbody>\n",
       "</table>\n",
       "</div>"
      ],
      "text/plain": [
       "   product_id                product_name  aisle_id  department_id\n",
       "0           1  Chocolate Sandwich Cookies        61             19\n",
       "1           2            All-Seasons Salt       104             13"
      ]
     },
     "execution_count": 83,
     "metadata": {},
     "output_type": "execute_result"
    }
   ],
   "source": [
    "products.head(2)"
   ]
  },
  {
   "cell_type": "code",
   "execution_count": 84,
   "id": "welsh-edgar",
   "metadata": {},
   "outputs": [
    {
     "data": {
      "text/html": [
       "<div>\n",
       "<style scoped>\n",
       "    .dataframe tbody tr th:only-of-type {\n",
       "        vertical-align: middle;\n",
       "    }\n",
       "\n",
       "    .dataframe tbody tr th {\n",
       "        vertical-align: top;\n",
       "    }\n",
       "\n",
       "    .dataframe thead th {\n",
       "        text-align: right;\n",
       "    }\n",
       "</style>\n",
       "<table border=\"1\" class=\"dataframe\">\n",
       "  <thead>\n",
       "    <tr style=\"text-align: right;\">\n",
       "      <th></th>\n",
       "      <th>order_id</th>\n",
       "      <th>product_id</th>\n",
       "      <th>add_to_cart_order</th>\n",
       "      <th>reordered</th>\n",
       "    </tr>\n",
       "  </thead>\n",
       "  <tbody>\n",
       "    <tr>\n",
       "      <th>0</th>\n",
       "      <td>1</td>\n",
       "      <td>49302</td>\n",
       "      <td>1</td>\n",
       "      <td>1</td>\n",
       "    </tr>\n",
       "    <tr>\n",
       "      <th>1</th>\n",
       "      <td>1</td>\n",
       "      <td>11109</td>\n",
       "      <td>2</td>\n",
       "      <td>1</td>\n",
       "    </tr>\n",
       "  </tbody>\n",
       "</table>\n",
       "</div>"
      ],
      "text/plain": [
       "   order_id  product_id  add_to_cart_order  reordered\n",
       "0         1       49302                  1          1\n",
       "1         1       11109                  2          1"
      ]
     },
     "execution_count": 84,
     "metadata": {},
     "output_type": "execute_result"
    }
   ],
   "source": [
    "order_train.head(2)"
   ]
  },
  {
   "cell_type": "code",
   "execution_count": 85,
   "id": "equal-market",
   "metadata": {},
   "outputs": [
    {
     "data": {
      "text/plain": [
       "(1619550, 4)"
      ]
     },
     "execution_count": 85,
     "metadata": {},
     "output_type": "execute_result"
    }
   ],
   "source": [
    "order_prior.shape"
   ]
  },
  {
   "cell_type": "code",
   "execution_count": 86,
   "id": "center-transcription",
   "metadata": {},
   "outputs": [
    {
     "data": {
      "text/plain": [
       "order_id                      0\n",
       "user_id                       0\n",
       "eval_set                      0\n",
       "order_number                  0\n",
       "order_dow                     0\n",
       "order_hour_of_day             0\n",
       "days_since_prior_order    10383\n",
       "dtype: int64"
      ]
     },
     "execution_count": 86,
     "metadata": {},
     "output_type": "execute_result"
    }
   ],
   "source": [
    "# check the orders dataset for null values\n",
    "orders.isnull().sum()"
   ]
  },
  {
   "cell_type": "markdown",
   "id": "isolated-verification",
   "metadata": {},
   "source": [
    "Missing values in the 'days since prior order' column mean that these customers did not make prior purchases."
   ]
  },
  {
   "cell_type": "code",
   "execution_count": 87,
   "id": "found-wildlife",
   "metadata": {},
   "outputs": [],
   "source": [
    "orders.dropna(axis = 0, inplace = True) # delete rows with missing values"
   ]
  },
  {
   "cell_type": "markdown",
   "id": "sporting-cookbook",
   "metadata": {},
   "source": [
    "**Split Orders Dataframe into Prior, Train, and Test Dataframes**"
   ]
  },
  {
   "cell_type": "code",
   "execution_count": 88,
   "id": "meaningful-mixer",
   "metadata": {},
   "outputs": [
    {
     "data": {
      "text/plain": [
       "prior    0.934938\n",
       "train    0.041075\n",
       "test     0.023987\n",
       "Name: eval_set, dtype: float64"
      ]
     },
     "execution_count": 88,
     "metadata": {},
     "output_type": "execute_result"
    }
   ],
   "source": [
    "orders['eval_set'].value_counts(normalize = True) # breakdown of orders dataframe"
   ]
  },
  {
   "cell_type": "code",
   "execution_count": 89,
   "id": "protected-wayne",
   "metadata": {},
   "outputs": [],
   "source": [
    "# create filter to separate test orders\n",
    "orders_test_filtered = orders['eval_set'] == 'test'"
   ]
  },
  {
   "cell_type": "code",
   "execution_count": 90,
   "id": "green-notebook",
   "metadata": {},
   "outputs": [],
   "source": [
    "# apply filter to orders dataframe \n",
    "orders_test = orders[orders_test_filtered]"
   ]
  },
  {
   "cell_type": "code",
   "execution_count": 91,
   "id": "technical-champagne",
   "metadata": {},
   "outputs": [],
   "source": [
    "# save test orders to csv file for modeling \n",
    "orders_test.to_csv('data/orders_test.csv')"
   ]
  },
  {
   "cell_type": "code",
   "execution_count": 92,
   "id": "changed-hanging",
   "metadata": {},
   "outputs": [],
   "source": [
    "# create filter to separate prior orders\n",
    "orders_filtered_prior = orders['eval_set'] == 'prior'"
   ]
  },
  {
   "cell_type": "code",
   "execution_count": 93,
   "id": "specific-grocery",
   "metadata": {},
   "outputs": [],
   "source": [
    "# apply filter to a dataframe\n",
    "orders_prior_details = orders[orders_filtered_prior]"
   ]
  },
  {
   "cell_type": "code",
   "execution_count": 94,
   "id": "aggregate-priority",
   "metadata": {},
   "outputs": [],
   "source": [
    "# create filter to separate train orders\n",
    "orders_filtered_train = orders['eval_set'] == 'train' "
   ]
  },
  {
   "cell_type": "code",
   "execution_count": 95,
   "id": "labeled-freight",
   "metadata": {},
   "outputs": [],
   "source": [
    "# apply filter to a dataframe\n",
    "orders_train_details = orders[orders_filtered_train]"
   ]
  },
  {
   "cell_type": "code",
   "execution_count": 96,
   "id": "clinical-lesbian",
   "metadata": {},
   "outputs": [
    {
     "data": {
      "text/plain": [
       "(6632, 7)"
      ]
     },
     "execution_count": 96,
     "metadata": {},
     "output_type": "execute_result"
    }
   ],
   "source": [
    "orders_train_details.shape"
   ]
  },
  {
   "cell_type": "code",
   "execution_count": 97,
   "id": "german-blast",
   "metadata": {},
   "outputs": [
    {
     "data": {
      "text/plain": [
       "(1384617, 4)"
      ]
     },
     "execution_count": 97,
     "metadata": {},
     "output_type": "execute_result"
    }
   ],
   "source": [
    "order_train.shape"
   ]
  },
  {
   "cell_type": "code",
   "execution_count": 98,
   "id": "improved-galaxy",
   "metadata": {},
   "outputs": [
    {
     "data": {
      "text/plain": [
       "(1619550, 4)"
      ]
     },
     "execution_count": 98,
     "metadata": {},
     "output_type": "execute_result"
    }
   ],
   "source": [
    "order_prior.shape"
   ]
  },
  {
   "cell_type": "code",
   "execution_count": 99,
   "id": "federal-outdoors",
   "metadata": {},
   "outputs": [
    {
     "data": {
      "text/plain": [
       "(150957, 7)"
      ]
     },
     "execution_count": 99,
     "metadata": {},
     "output_type": "execute_result"
    }
   ],
   "source": [
    "orders_prior_details.shape"
   ]
  },
  {
   "cell_type": "markdown",
   "id": "shared-machine",
   "metadata": {},
   "source": [
    "**Merge products and order_prior dataframes**"
   ]
  },
  {
   "cell_type": "code",
   "execution_count": 100,
   "id": "digital-muslim",
   "metadata": {},
   "outputs": [],
   "source": [
    "prod_orders_prior = pd.merge(products, order_prior,  on = 'product_id') # marge products and orders"
   ]
  },
  {
   "cell_type": "code",
   "execution_count": 101,
   "id": "promising-blend",
   "metadata": {},
   "outputs": [
    {
     "data": {
      "text/html": [
       "<div>\n",
       "<style scoped>\n",
       "    .dataframe tbody tr th:only-of-type {\n",
       "        vertical-align: middle;\n",
       "    }\n",
       "\n",
       "    .dataframe tbody tr th {\n",
       "        vertical-align: top;\n",
       "    }\n",
       "\n",
       "    .dataframe thead th {\n",
       "        text-align: right;\n",
       "    }\n",
       "</style>\n",
       "<table border=\"1\" class=\"dataframe\">\n",
       "  <thead>\n",
       "    <tr style=\"text-align: right;\">\n",
       "      <th></th>\n",
       "      <th>product_id</th>\n",
       "      <th>product_name</th>\n",
       "      <th>aisle_id</th>\n",
       "      <th>department_id</th>\n",
       "      <th>order_id</th>\n",
       "      <th>add_to_cart_order</th>\n",
       "      <th>reordered</th>\n",
       "    </tr>\n",
       "  </thead>\n",
       "  <tbody>\n",
       "    <tr>\n",
       "      <th>0</th>\n",
       "      <td>1</td>\n",
       "      <td>Chocolate Sandwich Cookies</td>\n",
       "      <td>61</td>\n",
       "      <td>19</td>\n",
       "      <td>19479</td>\n",
       "      <td>5</td>\n",
       "      <td>0</td>\n",
       "    </tr>\n",
       "    <tr>\n",
       "      <th>1</th>\n",
       "      <td>1</td>\n",
       "      <td>Chocolate Sandwich Cookies</td>\n",
       "      <td>61</td>\n",
       "      <td>19</td>\n",
       "      <td>82631</td>\n",
       "      <td>2</td>\n",
       "      <td>1</td>\n",
       "    </tr>\n",
       "  </tbody>\n",
       "</table>\n",
       "</div>"
      ],
      "text/plain": [
       "   product_id                product_name  aisle_id  department_id  order_id  \\\n",
       "0           1  Chocolate Sandwich Cookies        61             19     19479   \n",
       "1           1  Chocolate Sandwich Cookies        61             19     82631   \n",
       "\n",
       "   add_to_cart_order  reordered  \n",
       "0                  5          0  \n",
       "1                  2          1  "
      ]
     },
     "execution_count": 101,
     "metadata": {},
     "output_type": "execute_result"
    }
   ],
   "source": [
    "prod_orders_prior.head(2)"
   ]
  },
  {
   "cell_type": "code",
   "execution_count": 102,
   "id": "wrong-costs",
   "metadata": {},
   "outputs": [
    {
     "data": {
      "text/plain": [
       "(1619550, 7)"
      ]
     },
     "execution_count": 102,
     "metadata": {},
     "output_type": "execute_result"
    }
   ],
   "source": [
    "prod_orders_prior.shape # check if all rows remain"
   ]
  },
  {
   "cell_type": "code",
   "execution_count": 103,
   "id": "academic-apollo",
   "metadata": {},
   "outputs": [
    {
     "data": {
      "text/plain": [
       "1174637"
      ]
     },
     "execution_count": 103,
     "metadata": {},
     "output_type": "execute_result"
    }
   ],
   "source": [
    "len(prod_orders_prior['order_id'].unique())"
   ]
  },
  {
   "cell_type": "markdown",
   "id": "elder-campbell",
   "metadata": {},
   "source": [
    "**Merge products and train, prior order dataframes**"
   ]
  },
  {
   "cell_type": "code",
   "execution_count": 105,
   "id": "greek-butler",
   "metadata": {},
   "outputs": [],
   "source": [
    "prod_orders_train = pd.merge(products, order_train,  on = 'product_id') # merge products and train orders"
   ]
  },
  {
   "cell_type": "code",
   "execution_count": 106,
   "id": "documentary-denver",
   "metadata": {},
   "outputs": [
    {
     "data": {
      "text/html": [
       "<div>\n",
       "<style scoped>\n",
       "    .dataframe tbody tr th:only-of-type {\n",
       "        vertical-align: middle;\n",
       "    }\n",
       "\n",
       "    .dataframe tbody tr th {\n",
       "        vertical-align: top;\n",
       "    }\n",
       "\n",
       "    .dataframe thead th {\n",
       "        text-align: right;\n",
       "    }\n",
       "</style>\n",
       "<table border=\"1\" class=\"dataframe\">\n",
       "  <thead>\n",
       "    <tr style=\"text-align: right;\">\n",
       "      <th></th>\n",
       "      <th>product_id</th>\n",
       "      <th>product_name</th>\n",
       "      <th>aisle_id</th>\n",
       "      <th>department_id</th>\n",
       "      <th>order_id</th>\n",
       "      <th>add_to_cart_order</th>\n",
       "      <th>reordered</th>\n",
       "    </tr>\n",
       "  </thead>\n",
       "  <tbody>\n",
       "    <tr>\n",
       "      <th>0</th>\n",
       "      <td>1</td>\n",
       "      <td>Chocolate Sandwich Cookies</td>\n",
       "      <td>61</td>\n",
       "      <td>19</td>\n",
       "      <td>6695</td>\n",
       "      <td>7</td>\n",
       "      <td>1</td>\n",
       "    </tr>\n",
       "    <tr>\n",
       "      <th>1</th>\n",
       "      <td>1</td>\n",
       "      <td>Chocolate Sandwich Cookies</td>\n",
       "      <td>61</td>\n",
       "      <td>19</td>\n",
       "      <td>48361</td>\n",
       "      <td>9</td>\n",
       "      <td>0</td>\n",
       "    </tr>\n",
       "  </tbody>\n",
       "</table>\n",
       "</div>"
      ],
      "text/plain": [
       "   product_id                product_name  aisle_id  department_id  order_id  \\\n",
       "0           1  Chocolate Sandwich Cookies        61             19      6695   \n",
       "1           1  Chocolate Sandwich Cookies        61             19     48361   \n",
       "\n",
       "   add_to_cart_order  reordered  \n",
       "0                  7          1  \n",
       "1                  9          0  "
      ]
     },
     "execution_count": 106,
     "metadata": {},
     "output_type": "execute_result"
    }
   ],
   "source": [
    "prod_orders_train.head(2)"
   ]
  },
  {
   "cell_type": "code",
   "execution_count": 107,
   "id": "destroyed-syndrome",
   "metadata": {},
   "outputs": [
    {
     "data": {
      "text/plain": [
       "(1384617, 7)"
      ]
     },
     "execution_count": 107,
     "metadata": {},
     "output_type": "execute_result"
    }
   ],
   "source": [
    "prod_orders_train.shape"
   ]
  },
  {
   "cell_type": "markdown",
   "id": "literary-philadelphia",
   "metadata": {},
   "source": [
    "**Concat prod_orders_train and prod_order_prior dataframes**"
   ]
  },
  {
   "cell_type": "code",
   "execution_count": 108,
   "id": "decreased-dispute",
   "metadata": {},
   "outputs": [],
   "source": [
    "orders_train_prior = pd.concat([prod_orders_train, prod_orders_prior], ignore_index = True, sort = False)"
   ]
  },
  {
   "cell_type": "code",
   "execution_count": 109,
   "id": "closing-cycle",
   "metadata": {},
   "outputs": [
    {
     "data": {
      "text/plain": [
       "(3004167, 7)"
      ]
     },
     "execution_count": 109,
     "metadata": {},
     "output_type": "execute_result"
    }
   ],
   "source": [
    "orders_train_prior.shape"
   ]
  },
  {
   "cell_type": "markdown",
   "id": "concerned-acquisition",
   "metadata": {},
   "source": [
    "**Add quantity column**"
   ]
  },
  {
   "cell_type": "code",
   "execution_count": 110,
   "id": "reported-venture",
   "metadata": {},
   "outputs": [],
   "source": [
    "# create quantity column reflecting number of products\n",
    "orders_train_prior.loc[orders_train_prior['product_name'].notna(), 'quantity'] = 1"
   ]
  },
  {
   "cell_type": "code",
   "execution_count": 141,
   "id": "hourly-paint",
   "metadata": {},
   "outputs": [],
   "source": [
    "orders_train_prior['product_name'] = orders_train_prior['product_name'].str.lower()"
   ]
  },
  {
   "cell_type": "code",
   "execution_count": 146,
   "id": "alpine-shore",
   "metadata": {},
   "outputs": [],
   "source": [
    "orders_train_prior['product_name'] = orders_train_prior['product_name'].str.replace(\",\",\"\")"
   ]
  },
  {
   "cell_type": "code",
   "execution_count": 147,
   "id": "certified-belief",
   "metadata": {},
   "outputs": [],
   "source": [
    "orders_train_prior.to_csv('data/orders_train_prior.csv', index = False)"
   ]
  },
  {
   "cell_type": "markdown",
   "id": "tender-asbestos",
   "metadata": {},
   "source": [
    "**Merge prod_orders_prior, orders_prior_details dataframes**"
   ]
  },
  {
   "cell_type": "code",
   "execution_count": 112,
   "id": "earned-programming",
   "metadata": {},
   "outputs": [],
   "source": [
    "all_orders_prior = pd.merge(prod_orders_prior, orders_prior_details, on = 'order_id')"
   ]
  },
  {
   "cell_type": "code",
   "execution_count": 113,
   "id": "completed-female",
   "metadata": {},
   "outputs": [
    {
     "data": {
      "text/html": [
       "<div>\n",
       "<style scoped>\n",
       "    .dataframe tbody tr th:only-of-type {\n",
       "        vertical-align: middle;\n",
       "    }\n",
       "\n",
       "    .dataframe tbody tr th {\n",
       "        vertical-align: top;\n",
       "    }\n",
       "\n",
       "    .dataframe thead th {\n",
       "        text-align: right;\n",
       "    }\n",
       "</style>\n",
       "<table border=\"1\" class=\"dataframe\">\n",
       "  <thead>\n",
       "    <tr style=\"text-align: right;\">\n",
       "      <th></th>\n",
       "      <th>product_id</th>\n",
       "      <th>product_name</th>\n",
       "      <th>aisle_id</th>\n",
       "      <th>department_id</th>\n",
       "      <th>order_id</th>\n",
       "      <th>add_to_cart_order</th>\n",
       "      <th>reordered</th>\n",
       "      <th>user_id</th>\n",
       "      <th>eval_set</th>\n",
       "      <th>order_number</th>\n",
       "      <th>order_dow</th>\n",
       "      <th>order_hour_of_day</th>\n",
       "      <th>days_since_prior_order</th>\n",
       "    </tr>\n",
       "  </thead>\n",
       "  <tbody>\n",
       "    <tr>\n",
       "      <th>0</th>\n",
       "      <td>1</td>\n",
       "      <td>Chocolate Sandwich Cookies</td>\n",
       "      <td>61</td>\n",
       "      <td>19</td>\n",
       "      <td>990267</td>\n",
       "      <td>3</td>\n",
       "      <td>0</td>\n",
       "      <td>168639</td>\n",
       "      <td>prior</td>\n",
       "      <td>3</td>\n",
       "      <td>4</td>\n",
       "      <td>13</td>\n",
       "      <td>30.0</td>\n",
       "    </tr>\n",
       "    <tr>\n",
       "      <th>1</th>\n",
       "      <td>1</td>\n",
       "      <td>Chocolate Sandwich Cookies</td>\n",
       "      <td>61</td>\n",
       "      <td>19</td>\n",
       "      <td>1582714</td>\n",
       "      <td>1</td>\n",
       "      <td>1</td>\n",
       "      <td>65325</td>\n",
       "      <td>prior</td>\n",
       "      <td>33</td>\n",
       "      <td>1</td>\n",
       "      <td>11</td>\n",
       "      <td>3.0</td>\n",
       "    </tr>\n",
       "  </tbody>\n",
       "</table>\n",
       "</div>"
      ],
      "text/plain": [
       "   product_id                product_name  aisle_id  department_id  order_id  \\\n",
       "0           1  Chocolate Sandwich Cookies        61             19    990267   \n",
       "1           1  Chocolate Sandwich Cookies        61             19   1582714   \n",
       "\n",
       "   add_to_cart_order  reordered  user_id eval_set  order_number  order_dow  \\\n",
       "0                  3          0   168639    prior             3          4   \n",
       "1                  1          1    65325    prior            33          1   \n",
       "\n",
       "   order_hour_of_day  days_since_prior_order  \n",
       "0                 13                    30.0  \n",
       "1                 11                     3.0  "
      ]
     },
     "execution_count": 113,
     "metadata": {},
     "output_type": "execute_result"
    }
   ],
   "source": [
    "all_orders_prior.head(2)"
   ]
  },
  {
   "cell_type": "code",
   "execution_count": 114,
   "id": "functioning-cigarette",
   "metadata": {},
   "outputs": [
    {
     "data": {
      "text/plain": [
       "(76013, 13)"
      ]
     },
     "execution_count": 114,
     "metadata": {},
     "output_type": "execute_result"
    }
   ],
   "source": [
    "all_orders_prior.shape"
   ]
  },
  {
   "cell_type": "code",
   "execution_count": 139,
   "id": "center-spirit",
   "metadata": {},
   "outputs": [],
   "source": [
    "all_orders_prior['product_name'] = all_orders_prior['product_name'].str.lower()"
   ]
  },
  {
   "cell_type": "code",
   "execution_count": 148,
   "id": "intended-venice",
   "metadata": {},
   "outputs": [],
   "source": [
    "all_orders_prior['product_name'] = all_orders_prior['product_name'].str.replace(\",\",\"\")"
   ]
  },
  {
   "cell_type": "code",
   "execution_count": 140,
   "id": "turkish-billy",
   "metadata": {},
   "outputs": [],
   "source": [
    "all_orders_prior.to_csv('data/all_orders_prior.csv', index = False)"
   ]
  },
  {
   "cell_type": "markdown",
   "id": "handled-seattle",
   "metadata": {},
   "source": [
    "**Merge prod_orders_train, prod_orders_prior and all orders dataframes**"
   ]
  },
  {
   "cell_type": "code",
   "execution_count": 116,
   "id": "compressed-silly",
   "metadata": {},
   "outputs": [],
   "source": [
    "all_orders_train = pd.merge(prod_orders_train, orders_train_details, on = 'order_id')"
   ]
  },
  {
   "cell_type": "code",
   "execution_count": 117,
   "id": "similar-minute",
   "metadata": {},
   "outputs": [
    {
     "data": {
      "text/html": [
       "<div>\n",
       "<style scoped>\n",
       "    .dataframe tbody tr th:only-of-type {\n",
       "        vertical-align: middle;\n",
       "    }\n",
       "\n",
       "    .dataframe tbody tr th {\n",
       "        vertical-align: top;\n",
       "    }\n",
       "\n",
       "    .dataframe thead th {\n",
       "        text-align: right;\n",
       "    }\n",
       "</style>\n",
       "<table border=\"1\" class=\"dataframe\">\n",
       "  <thead>\n",
       "    <tr style=\"text-align: right;\">\n",
       "      <th></th>\n",
       "      <th>product_id</th>\n",
       "      <th>product_name</th>\n",
       "      <th>aisle_id</th>\n",
       "      <th>department_id</th>\n",
       "      <th>order_id</th>\n",
       "      <th>add_to_cart_order</th>\n",
       "      <th>reordered</th>\n",
       "      <th>user_id</th>\n",
       "      <th>eval_set</th>\n",
       "      <th>order_number</th>\n",
       "      <th>order_dow</th>\n",
       "      <th>order_hour_of_day</th>\n",
       "      <th>days_since_prior_order</th>\n",
       "    </tr>\n",
       "  </thead>\n",
       "  <tbody>\n",
       "    <tr>\n",
       "      <th>0</th>\n",
       "      <td>1</td>\n",
       "      <td>Chocolate Sandwich Cookies</td>\n",
       "      <td>61</td>\n",
       "      <td>19</td>\n",
       "      <td>446766</td>\n",
       "      <td>16</td>\n",
       "      <td>1</td>\n",
       "      <td>126093</td>\n",
       "      <td>train</td>\n",
       "      <td>58</td>\n",
       "      <td>4</td>\n",
       "      <td>13</td>\n",
       "      <td>5.0</td>\n",
       "    </tr>\n",
       "    <tr>\n",
       "      <th>1</th>\n",
       "      <td>116</td>\n",
       "      <td>English Muffins</td>\n",
       "      <td>93</td>\n",
       "      <td>3</td>\n",
       "      <td>446766</td>\n",
       "      <td>8</td>\n",
       "      <td>1</td>\n",
       "      <td>126093</td>\n",
       "      <td>train</td>\n",
       "      <td>58</td>\n",
       "      <td>4</td>\n",
       "      <td>13</td>\n",
       "      <td>5.0</td>\n",
       "    </tr>\n",
       "  </tbody>\n",
       "</table>\n",
       "</div>"
      ],
      "text/plain": [
       "   product_id                product_name  aisle_id  department_id  order_id  \\\n",
       "0           1  Chocolate Sandwich Cookies        61             19    446766   \n",
       "1         116             English Muffins        93              3    446766   \n",
       "\n",
       "   add_to_cart_order  reordered  user_id eval_set  order_number  order_dow  \\\n",
       "0                 16          1   126093    train            58          4   \n",
       "1                  8          1   126093    train            58          4   \n",
       "\n",
       "   order_hour_of_day  days_since_prior_order  \n",
       "0                 13                     5.0  \n",
       "1                 13                     5.0  "
      ]
     },
     "execution_count": 117,
     "metadata": {},
     "output_type": "execute_result"
    }
   ],
   "source": [
    "all_orders_train.head(2)"
   ]
  },
  {
   "cell_type": "code",
   "execution_count": 118,
   "id": "fitted-vault",
   "metadata": {},
   "outputs": [
    {
     "data": {
      "text/plain": [
       "(69869, 13)"
      ]
     },
     "execution_count": 118,
     "metadata": {},
     "output_type": "execute_result"
    }
   ],
   "source": [
    "all_orders_train.shape"
   ]
  },
  {
   "cell_type": "code",
   "execution_count": 143,
   "id": "infectious-success",
   "metadata": {},
   "outputs": [],
   "source": [
    "all_orders_train['product_name'] = all_orders_train['product_name'].str.lower()"
   ]
  },
  {
   "cell_type": "code",
   "execution_count": 149,
   "id": "stainless-cause",
   "metadata": {},
   "outputs": [],
   "source": [
    "all_orders_train['product_name'] = all_orders_train['product_name'].str.replace(\",\",\"\")"
   ]
  },
  {
   "cell_type": "code",
   "execution_count": 152,
   "id": "contrary-bermuda",
   "metadata": {},
   "outputs": [],
   "source": [
    "all_orders_train.to_csv('data/all_orders_train.csv', index = False)"
   ]
  },
  {
   "cell_type": "markdown",
   "id": "exciting-processor",
   "metadata": {},
   "source": [
    "**Concat all train and prior orders**"
   ]
  },
  {
   "cell_type": "code",
   "execution_count": 120,
   "id": "divine-equation",
   "metadata": {},
   "outputs": [],
   "source": [
    "all_orders = pd.concat([all_orders_train, all_orders_prior], ignore_index = True, sort = False)"
   ]
  },
  {
   "cell_type": "code",
   "execution_count": 121,
   "id": "egyptian-reason",
   "metadata": {},
   "outputs": [
    {
     "data": {
      "text/plain": [
       "(145882, 13)"
      ]
     },
     "execution_count": 121,
     "metadata": {},
     "output_type": "execute_result"
    }
   ],
   "source": [
    "all_orders.shape"
   ]
  },
  {
   "cell_type": "markdown",
   "id": "framed-pizza",
   "metadata": {},
   "source": [
    "**Add quantity column to all_orders dataframe**"
   ]
  },
  {
   "cell_type": "code",
   "execution_count": 122,
   "id": "second-width",
   "metadata": {},
   "outputs": [],
   "source": [
    "# create quantity column reflecting number of products\n",
    "all_orders.loc[all_orders['product_name'].notna(), 'quantity'] = 1"
   ]
  },
  {
   "cell_type": "markdown",
   "id": "dynamic-inspector",
   "metadata": {},
   "source": [
    "**Merge aisles, department, and all_orders dataframes**"
   ]
  },
  {
   "cell_type": "code",
   "execution_count": 123,
   "id": "essential-setup",
   "metadata": {},
   "outputs": [],
   "source": [
    "all_orders = pd.merge(all_orders, aisles, on = 'aisle_id')"
   ]
  },
  {
   "cell_type": "code",
   "execution_count": 124,
   "id": "fallen-tract",
   "metadata": {},
   "outputs": [],
   "source": [
    "all_orders = pd.merge(all_orders, department, on = 'department_id')"
   ]
  },
  {
   "cell_type": "code",
   "execution_count": 132,
   "id": "loving-transaction",
   "metadata": {},
   "outputs": [],
   "source": [
    "all_orders['product_name'] = all_orders['product_name'].str.lower()"
   ]
  },
  {
   "cell_type": "code",
   "execution_count": 150,
   "id": "innocent-fountain",
   "metadata": {},
   "outputs": [],
   "source": [
    "all_orders['product_name'] = all_orders['product_name'].str.replace(\",\",\"\")"
   ]
  },
  {
   "cell_type": "code",
   "execution_count": 151,
   "id": "square-recall",
   "metadata": {},
   "outputs": [],
   "source": [
    "all_orders.to_csv('data/all_orders.csv', index = False)"
   ]
  },
  {
   "cell_type": "code",
   "execution_count": 145,
   "id": "cubic-scratch",
   "metadata": {},
   "outputs": [
    {
     "data": {
      "text/plain": [
       "(145882, 16)"
      ]
     },
     "execution_count": 145,
     "metadata": {},
     "output_type": "execute_result"
    }
   ],
   "source": [
    "all_orders.shape"
   ]
  },
  {
   "cell_type": "markdown",
   "id": "informed-louisville",
   "metadata": {},
   "source": [
    "**Morning Orders**"
   ]
  },
  {
   "cell_type": "code",
   "execution_count": 153,
   "id": "listed-enough",
   "metadata": {},
   "outputs": [
    {
     "name": "stderr",
     "output_type": "stream",
     "text": [
      "<ipython-input-153-137acc9fba69>:3: SettingWithCopyWarning: \n",
      "A value is trying to be set on a copy of a slice from a DataFrame.\n",
      "Try using .loc[row_indexer,col_indexer] = value instead\n",
      "\n",
      "See the caveats in the documentation: https://pandas.pydata.org/pandas-docs/stable/user_guide/indexing.html#returning-a-view-versus-a-copy\n",
      "  morning_orders['product_name'] = morning_orders['product_name'].str.lower()\n",
      "<ipython-input-153-137acc9fba69>:4: SettingWithCopyWarning: \n",
      "A value is trying to be set on a copy of a slice from a DataFrame.\n",
      "Try using .loc[row_indexer,col_indexer] = value instead\n",
      "\n",
      "See the caveats in the documentation: https://pandas.pydata.org/pandas-docs/stable/user_guide/indexing.html#returning-a-view-versus-a-copy\n",
      "  morning_orders['product_name'] = morning_orders['product_name'].str.replace(\",\",\"\")\n"
     ]
    }
   ],
   "source": [
    "filter_hour_morning = all_orders['order_hour_of_day'] < 11\n",
    "morning_orders = all_orders[filter_hour_morning]\n",
    "morning_orders['product_name'] = morning_orders['product_name'].str.lower()\n",
    "morning_orders['product_name'] = morning_orders['product_name'].str.replace(\",\",\"\")\n",
    "morning_orders.to_csv('data/morning_orders.csv', index = False)"
   ]
  },
  {
   "cell_type": "markdown",
   "id": "tutorial-screen",
   "metadata": {},
   "source": [
    "**Daytime Orders**"
   ]
  },
  {
   "cell_type": "code",
   "execution_count": 154,
   "id": "positive-tackle",
   "metadata": {},
   "outputs": [
    {
     "name": "stderr",
     "output_type": "stream",
     "text": [
      "<ipython-input-154-2f79820fa034>:5: SettingWithCopyWarning: \n",
      "A value is trying to be set on a copy of a slice from a DataFrame.\n",
      "Try using .loc[row_indexer,col_indexer] = value instead\n",
      "\n",
      "See the caveats in the documentation: https://pandas.pydata.org/pandas-docs/stable/user_guide/indexing.html#returning-a-view-versus-a-copy\n",
      "  day_orders['product_name'] = day_orders['product_name'].str.lower()\n",
      "<ipython-input-154-2f79820fa034>:6: SettingWithCopyWarning: \n",
      "A value is trying to be set on a copy of a slice from a DataFrame.\n",
      "Try using .loc[row_indexer,col_indexer] = value instead\n",
      "\n",
      "See the caveats in the documentation: https://pandas.pydata.org/pandas-docs/stable/user_guide/indexing.html#returning-a-view-versus-a-copy\n",
      "  day_orders['product_name'] = day_orders['product_name'].str.replace(\",\",\"\")\n"
     ]
    }
   ],
   "source": [
    "filter_hour_day = all_orders['order_hour_of_day'] > 11\n",
    "intermediate_orders = all_orders[filter_hour_day]\n",
    "filter_day_2 = intermediate_orders['order_hour_of_day'] < 18\n",
    "day_orders = intermediate_orders[filter_day_2]\n",
    "day_orders['product_name'] = day_orders['product_name'].str.lower()\n",
    "day_orders['product_name'] = day_orders['product_name'].str.replace(\",\",\"\")\n",
    "day_orders.to_csv('data/day_orders.csv', index = False)"
   ]
  },
  {
   "cell_type": "markdown",
   "id": "adjustable-painting",
   "metadata": {},
   "source": [
    "**Evening Orders**"
   ]
  },
  {
   "cell_type": "code",
   "execution_count": 155,
   "id": "vocal-germany",
   "metadata": {},
   "outputs": [
    {
     "name": "stderr",
     "output_type": "stream",
     "text": [
      "<ipython-input-155-606a962dc6d0>:3: SettingWithCopyWarning: \n",
      "A value is trying to be set on a copy of a slice from a DataFrame.\n",
      "Try using .loc[row_indexer,col_indexer] = value instead\n",
      "\n",
      "See the caveats in the documentation: https://pandas.pydata.org/pandas-docs/stable/user_guide/indexing.html#returning-a-view-versus-a-copy\n",
      "  evening_orders['product_name'] = evening_orders['product_name'].str.lower()\n",
      "<ipython-input-155-606a962dc6d0>:4: SettingWithCopyWarning: \n",
      "A value is trying to be set on a copy of a slice from a DataFrame.\n",
      "Try using .loc[row_indexer,col_indexer] = value instead\n",
      "\n",
      "See the caveats in the documentation: https://pandas.pydata.org/pandas-docs/stable/user_guide/indexing.html#returning-a-view-versus-a-copy\n",
      "  evening_orders['product_name'] = evening_orders['product_name'].str.replace(\",\",\"\")\n"
     ]
    }
   ],
   "source": [
    "filter_hour_evening = all_orders['order_hour_of_day'] > 18\n",
    "evening_orders = all_orders[filter_hour_evening]\n",
    "evening_orders['product_name'] = evening_orders['product_name'].str.lower()\n",
    "evening_orders['product_name'] = evening_orders['product_name'].str.replace(\",\",\"\")\n",
    "evening_orders.to_csv('data/evening_orders.csv', index = False)"
   ]
  },
  {
   "cell_type": "code",
   "execution_count": null,
   "id": "continuous-night",
   "metadata": {},
   "outputs": [],
   "source": []
  }
 ],
 "metadata": {
  "kernelspec": {
   "display_name": "Python 3",
   "language": "python",
   "name": "python3"
  },
  "language_info": {
   "codemirror_mode": {
    "name": "ipython",
    "version": 3
   },
   "file_extension": ".py",
   "mimetype": "text/x-python",
   "name": "python",
   "nbconvert_exporter": "python",
   "pygments_lexer": "ipython3",
   "version": "3.8.5"
  }
 },
 "nbformat": 4,
 "nbformat_minor": 5
}
