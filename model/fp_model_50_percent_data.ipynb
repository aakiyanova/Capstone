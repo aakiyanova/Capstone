{
 "cells": [
  {
   "cell_type": "markdown",
   "id": "crucial-valuation",
   "metadata": {},
   "source": [
    "#### FP-Growth Algorithm Model on 50% of the Data"
   ]
  },
  {
   "cell_type": "code",
   "execution_count": 1,
   "id": "crucial-angel",
   "metadata": {},
   "outputs": [],
   "source": [
    "# imports\n",
    "import numpy as np\n",
    "import matplotlib.pyplot as plt\n",
    "import pandas as pd\n",
    "import random\n",
    "from fpgrowth_py import fpgrowth\n",
    "import pyfpgrowth\n",
    "import random\n",
    "import matplotlib.pyplot as plt"
   ]
  },
  {
   "cell_type": "code",
   "execution_count": 2,
   "id": "arabic-essex",
   "metadata": {},
   "outputs": [],
   "source": [
    "# reading random 50% of the prior orders data\n",
    "p = 0.50\n",
    "order_prior = pd.read_csv('data/order_products__prior.csv', header = 0,  skiprows=lambda i: i>0 and random.random() > p)"
   ]
  },
  {
   "cell_type": "code",
   "execution_count": 3,
   "id": "offensive-democrat",
   "metadata": {},
   "outputs": [],
   "source": [
    "# reading random 50% of train orders data\n",
    "p = 0.50\n",
    "order_train = pd.read_csv('data/order_products__train.csv', header = 0,  skiprows=lambda i: i>0 and random.random() > p)"
   ]
  },
  {
   "cell_type": "code",
   "execution_count": 4,
   "id": "union-extra",
   "metadata": {},
   "outputs": [],
   "source": [
    "# reading in products data\n",
    "products = pd.read_csv('data/products.csv')"
   ]
  },
  {
   "cell_type": "markdown",
   "id": "atomic-tragedy",
   "metadata": {},
   "source": [
    "**Merge products and prior Orders**"
   ]
  },
  {
   "cell_type": "code",
   "execution_count": 5,
   "id": "seasonal-suspension",
   "metadata": {},
   "outputs": [],
   "source": [
    "prod_orders_prior = pd.merge(products, order_prior,  on = 'product_id') # marge products and orders"
   ]
  },
  {
   "cell_type": "markdown",
   "id": "recreational-mitchell",
   "metadata": {},
   "source": [
    "**Merge products and train Orders**"
   ]
  },
  {
   "cell_type": "code",
   "execution_count": 6,
   "id": "linear-soundtrack",
   "metadata": {},
   "outputs": [],
   "source": [
    "prod_orders_train = pd.merge(products, order_train,  on = 'product_id') # merge products and train orders"
   ]
  },
  {
   "cell_type": "markdown",
   "id": "pleasant-astrology",
   "metadata": {},
   "source": [
    "**Concatenate and preprocess prior and train Orders**"
   ]
  },
  {
   "cell_type": "code",
   "execution_count": 7,
   "id": "interracial-history",
   "metadata": {},
   "outputs": [],
   "source": [
    "orders_train_prior = pd.concat([prod_orders_train, prod_orders_prior], ignore_index = True, sort = False)"
   ]
  },
  {
   "cell_type": "code",
   "execution_count": 8,
   "id": "destroyed-married",
   "metadata": {},
   "outputs": [],
   "source": [
    "# lower case product names\n",
    "orders_train_prior['product_name'] = orders_train_prior['product_name'].str.lower()"
   ]
  },
  {
   "cell_type": "code",
   "execution_count": 9,
   "id": "selected-spectacular",
   "metadata": {},
   "outputs": [],
   "source": [
    "# take out commas in product names\n",
    "orders_train_prior['product_name'] = orders_train_prior['product_name'].str.replace(\",\",\"\")"
   ]
  },
  {
   "cell_type": "code",
   "execution_count": 10,
   "id": "embedded-cambridge",
   "metadata": {},
   "outputs": [],
   "source": [
    "# group products by order_id into a df\n",
    "df_all_orders = orders_train_prior.groupby('order_id')['product_name'].agg([('product_name', ','.join)]).reset_index()"
   ]
  },
  {
   "cell_type": "code",
   "execution_count": 11,
   "id": "engaging-alfred",
   "metadata": {},
   "outputs": [],
   "source": [
    "# reset order_id as index\n",
    "df_all_orders.set_index('order_id', inplace=True)"
   ]
  },
  {
   "cell_type": "code",
   "execution_count": 12,
   "id": "fallen-intelligence",
   "metadata": {},
   "outputs": [],
   "source": [
    "# split results product sets by comma\n",
    "df_orders_split = df_all_orders.product_name.apply(lambda x: x.split(','))"
   ]
  },
  {
   "cell_type": "code",
   "execution_count": 13,
   "id": "derived-compilation",
   "metadata": {},
   "outputs": [],
   "source": [
    "# create a dataframe\n",
    "df_orders = pd.DataFrame(df_orders_split) "
   ]
  },
  {
   "cell_type": "code",
   "execution_count": 14,
   "id": "engaged-location",
   "metadata": {},
   "outputs": [],
   "source": [
    "# Identify products with minimum support level\n",
    "patterns_all = pyfpgrowth.find_frequent_patterns(df_orders['product_name'], 1000)"
   ]
  },
  {
   "cell_type": "code",
   "execution_count": 35,
   "id": "roman-alcohol",
   "metadata": {},
   "outputs": [],
   "source": [
    "# Identify itemsets with minimum confidence level\n",
    "rules = pyfpgrowth.generate_association_rules(patterns_all, 0.10)"
   ]
  },
  {
   "cell_type": "code",
   "execution_count": 37,
   "id": "determined-consistency",
   "metadata": {},
   "outputs": [],
   "source": [
    "# Create a dataframe of frequent patterns and transpose the dataframe\n",
    "df_rules = pd.DataFrame(rules).T"
   ]
  },
  {
   "cell_type": "code",
   "execution_count": 45,
   "id": "certain-apparatus",
   "metadata": {},
   "outputs": [],
   "source": [
    "# sort a dataframe in descending orders\n",
    "df_rules_sorted = df_rules.sort_values(ascending = False, by = 1)"
   ]
  },
  {
   "cell_type": "code",
   "execution_count": 46,
   "id": "adaptive-investigation",
   "metadata": {},
   "outputs": [],
   "source": [
    "# reset index to display pair products\n",
    "df_rules_sorted.reset_index(level = 0, inplace = True)"
   ]
  },
  {
   "cell_type": "code",
   "execution_count": 47,
   "id": "peaceful-label",
   "metadata": {},
   "outputs": [],
   "source": [
    "df_rules_sorted.reset_index(level = 0, inplace = True)"
   ]
  },
  {
   "cell_type": "code",
   "execution_count": 50,
   "id": "eastern-costa",
   "metadata": {},
   "outputs": [],
   "source": [
    "# rename columns to antecedent, consequents, and calculated confidence level\n",
    "df_rules_sorted.rename(columns = {'index':'consequent_1','level_0':'consequent_2', 0:'antecedent', 1: 'confidence_level'}, inplace = True)"
   ]
  },
  {
   "cell_type": "code",
   "execution_count": 51,
   "id": "practical-projector",
   "metadata": {},
   "outputs": [],
   "source": [
    "# take out brackets and commas in the consequent column\n",
    "df_rules_sorted['antecedent'] = df_rules_sorted['antecedent'].astype(str).str.replace(r'\\(|\\)|,', '')\n",
    "# reorder columns\n",
    "cols = ['antecedent', 'consequent_1', 'consequent_2', 'confidence_level']\n",
    "df_rules_sorted = df_rules_sorted.reindex(columns=cols)"
   ]
  },
  {
   "cell_type": "code",
   "execution_count": 53,
   "id": "environmental-leeds",
   "metadata": {},
   "outputs": [],
   "source": [
    "# save results to a .csv file in data folder\n",
    "df_rules_sorted.to_csv('data/rules_50_percent.csv', index = False)"
   ]
  }
 ],
 "metadata": {
  "kernelspec": {
   "display_name": "Python 3",
   "language": "python",
   "name": "python3"
  },
  "language_info": {
   "codemirror_mode": {
    "name": "ipython",
    "version": 3
   },
   "file_extension": ".py",
   "mimetype": "text/x-python",
   "name": "python",
   "nbconvert_exporter": "python",
   "pygments_lexer": "ipython3",
   "version": "3.8.5"
  }
 },
 "nbformat": 4,
 "nbformat_minor": 5
}
