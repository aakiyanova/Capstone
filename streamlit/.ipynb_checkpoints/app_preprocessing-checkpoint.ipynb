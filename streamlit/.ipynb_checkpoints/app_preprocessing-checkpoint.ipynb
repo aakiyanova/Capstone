{
 "cells": [
  {
   "cell_type": "markdown",
   "id": "familiar-excerpt",
   "metadata": {},
   "source": [
    "### Streamlit Data Preprocessing"
   ]
  },
  {
   "cell_type": "code",
   "execution_count": 1,
   "id": "sorted-jewelry",
   "metadata": {},
   "outputs": [],
   "source": [
    "import pandas as pd\n",
    "import numpy as np"
   ]
  },
  {
   "cell_type": "code",
   "execution_count": 20,
   "id": "mathematical-clock",
   "metadata": {},
   "outputs": [],
   "source": [
    "rules = pd.read_csv('data/rules.csv')"
   ]
  },
  {
   "cell_type": "code",
   "execution_count": 15,
   "id": "celtic-laser",
   "metadata": {},
   "outputs": [
    {
     "data": {
      "text/html": [
       "<div>\n",
       "<style scoped>\n",
       "    .dataframe tbody tr th:only-of-type {\n",
       "        vertical-align: middle;\n",
       "    }\n",
       "\n",
       "    .dataframe tbody tr th {\n",
       "        vertical-align: top;\n",
       "    }\n",
       "\n",
       "    .dataframe thead th {\n",
       "        text-align: right;\n",
       "    }\n",
       "</style>\n",
       "<table border=\"1\" class=\"dataframe\">\n",
       "  <thead>\n",
       "    <tr style=\"text-align: right;\">\n",
       "      <th></th>\n",
       "      <th>antecedent</th>\n",
       "      <th>consequent_1</th>\n",
       "      <th>consequent_2</th>\n",
       "      <th>confidence_level</th>\n",
       "    </tr>\n",
       "  </thead>\n",
       "  <tbody>\n",
       "    <tr>\n",
       "      <th>0</th>\n",
       "      <td>organic raspberries</td>\n",
       "      <td>organic hass avocado</td>\n",
       "      <td>'bag of organic bananas'</td>\n",
       "      <td>0.493530</td>\n",
       "    </tr>\n",
       "    <tr>\n",
       "      <th>1</th>\n",
       "      <td>organic strawberries</td>\n",
       "      <td>organic hass avocado</td>\n",
       "      <td>'bag of organic bananas'</td>\n",
       "      <td>0.434307</td>\n",
       "    </tr>\n",
       "    <tr>\n",
       "      <th>2</th>\n",
       "      <td>organic strawberries</td>\n",
       "      <td>organic raspberries</td>\n",
       "      <td>'bag of organic bananas'</td>\n",
       "      <td>0.370370</td>\n",
       "    </tr>\n",
       "    <tr>\n",
       "      <th>3</th>\n",
       "      <td>organic raspberries</td>\n",
       "      <td>bag of organic bananas</td>\n",
       "      <td>'organic strawberries'</td>\n",
       "      <td>0.343733</td>\n",
       "    </tr>\n",
       "    <tr>\n",
       "      <th>4</th>\n",
       "      <td>organic strawberries</td>\n",
       "      <td>organic baby spinach</td>\n",
       "      <td>'bag of organic bananas'</td>\n",
       "      <td>0.339503</td>\n",
       "    </tr>\n",
       "  </tbody>\n",
       "</table>\n",
       "</div>"
      ],
      "text/plain": [
       "             antecedent            consequent_1              consequent_2  \\\n",
       "0   organic raspberries    organic hass avocado  'bag of organic bananas'   \n",
       "1  organic strawberries    organic hass avocado  'bag of organic bananas'   \n",
       "2  organic strawberries     organic raspberries  'bag of organic bananas'   \n",
       "3   organic raspberries  bag of organic bananas    'organic strawberries'   \n",
       "4  organic strawberries    organic baby spinach  'bag of organic bananas'   \n",
       "\n",
       "   confidence_level  \n",
       "0          0.493530  \n",
       "1          0.434307  \n",
       "2          0.370370  \n",
       "3          0.343733  \n",
       "4          0.339503  "
      ]
     },
     "execution_count": 15,
     "metadata": {},
     "output_type": "execute_result"
    }
   ],
   "source": [
    "rules.head()"
   ]
  },
  {
   "cell_type": "code",
   "execution_count": 21,
   "id": "enhanced-settle",
   "metadata": {},
   "outputs": [],
   "source": [
    "# rename column names for the streamlit app markdown text\n",
    "rules.rename(columns = {'consequent_1': 'Frequently Purchased Item 1', 'consequent_2': 'Frequently Purchased Item 2', 'confidence_level':'Confidence Level'}, inplace = True)"
   ]
  },
  {
   "cell_type": "code",
   "execution_count": 22,
   "id": "aquatic-automation",
   "metadata": {},
   "outputs": [
    {
     "data": {
      "text/html": [
       "<div>\n",
       "<style scoped>\n",
       "    .dataframe tbody tr th:only-of-type {\n",
       "        vertical-align: middle;\n",
       "    }\n",
       "\n",
       "    .dataframe tbody tr th {\n",
       "        vertical-align: top;\n",
       "    }\n",
       "\n",
       "    .dataframe thead th {\n",
       "        text-align: right;\n",
       "    }\n",
       "</style>\n",
       "<table border=\"1\" class=\"dataframe\">\n",
       "  <thead>\n",
       "    <tr style=\"text-align: right;\">\n",
       "      <th></th>\n",
       "      <th>antecedent</th>\n",
       "      <th>Frequently Purchased Item 1</th>\n",
       "      <th>Frequently Purchased Item 2</th>\n",
       "      <th>Confidence Level</th>\n",
       "    </tr>\n",
       "  </thead>\n",
       "  <tbody>\n",
       "    <tr>\n",
       "      <th>0</th>\n",
       "      <td>organic raspberries</td>\n",
       "      <td>organic hass avocado</td>\n",
       "      <td>'bag of organic bananas'</td>\n",
       "      <td>0.493530</td>\n",
       "    </tr>\n",
       "    <tr>\n",
       "      <th>1</th>\n",
       "      <td>organic strawberries</td>\n",
       "      <td>organic hass avocado</td>\n",
       "      <td>'bag of organic bananas'</td>\n",
       "      <td>0.434307</td>\n",
       "    </tr>\n",
       "    <tr>\n",
       "      <th>2</th>\n",
       "      <td>organic strawberries</td>\n",
       "      <td>organic raspberries</td>\n",
       "      <td>'bag of organic bananas'</td>\n",
       "      <td>0.370370</td>\n",
       "    </tr>\n",
       "    <tr>\n",
       "      <th>3</th>\n",
       "      <td>organic raspberries</td>\n",
       "      <td>bag of organic bananas</td>\n",
       "      <td>'organic strawberries'</td>\n",
       "      <td>0.343733</td>\n",
       "    </tr>\n",
       "    <tr>\n",
       "      <th>4</th>\n",
       "      <td>organic strawberries</td>\n",
       "      <td>organic baby spinach</td>\n",
       "      <td>'bag of organic bananas'</td>\n",
       "      <td>0.339503</td>\n",
       "    </tr>\n",
       "  </tbody>\n",
       "</table>\n",
       "</div>"
      ],
      "text/plain": [
       "             antecedent Frequently Purchased Item 1  \\\n",
       "0   organic raspberries        organic hass avocado   \n",
       "1  organic strawberries        organic hass avocado   \n",
       "2  organic strawberries         organic raspberries   \n",
       "3   organic raspberries      bag of organic bananas   \n",
       "4  organic strawberries        organic baby spinach   \n",
       "\n",
       "  Frequently Purchased Item 2  Confidence Level  \n",
       "0    'bag of organic bananas'          0.493530  \n",
       "1    'bag of organic bananas'          0.434307  \n",
       "2    'bag of organic bananas'          0.370370  \n",
       "3      'organic strawberries'          0.343733  \n",
       "4    'bag of organic bananas'          0.339503  "
      ]
     },
     "execution_count": 22,
     "metadata": {},
     "output_type": "execute_result"
    }
   ],
   "source": [
    "rules.head()"
   ]
  },
  {
   "cell_type": "code",
   "execution_count": 26,
   "id": "first-metadata",
   "metadata": {},
   "outputs": [],
   "source": [
    "rules.to_csv('data/rules_app.csv', index = False)"
   ]
  }
 ],
 "metadata": {
  "kernelspec": {
   "display_name": "Python 3",
   "language": "python",
   "name": "python3"
  },
  "language_info": {
   "codemirror_mode": {
    "name": "ipython",
    "version": 3
   },
   "file_extension": ".py",
   "mimetype": "text/x-python",
   "name": "python",
   "nbconvert_exporter": "python",
   "pygments_lexer": "ipython3",
   "version": "3.8.5"
  }
 },
 "nbformat": 4,
 "nbformat_minor": 5
}
