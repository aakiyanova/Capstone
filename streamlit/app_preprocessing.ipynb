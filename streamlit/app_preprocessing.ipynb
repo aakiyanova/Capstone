{
 "cells": [
  {
   "cell_type": "markdown",
   "id": "british-publication",
   "metadata": {},
   "source": [
    "#### Streamlit Data Preprocessing"
   ]
  },
  {
   "cell_type": "code",
   "execution_count": 19,
   "id": "fabulous-honolulu",
   "metadata": {},
   "outputs": [],
   "source": [
    "import pandas as pd\n",
    "import numpy as np"
   ]
  },
  {
   "cell_type": "code",
   "execution_count": 32,
   "id": "sacred-province",
   "metadata": {},
   "outputs": [],
   "source": [
    "rules = pd.read_csv('results/rules_50_percent.csv')"
   ]
  },
  {
   "cell_type": "code",
   "execution_count": 33,
   "id": "internal-survival",
   "metadata": {},
   "outputs": [
    {
     "data": {
      "text/html": [
       "<div>\n",
       "<style scoped>\n",
       "    .dataframe tbody tr th:only-of-type {\n",
       "        vertical-align: middle;\n",
       "    }\n",
       "\n",
       "    .dataframe tbody tr th {\n",
       "        vertical-align: top;\n",
       "    }\n",
       "\n",
       "    .dataframe thead th {\n",
       "        text-align: right;\n",
       "    }\n",
       "</style>\n",
       "<table border=\"1\" class=\"dataframe\">\n",
       "  <thead>\n",
       "    <tr style=\"text-align: right;\">\n",
       "      <th></th>\n",
       "      <th>antecedent</th>\n",
       "      <th>consequent_1</th>\n",
       "      <th>consequent_2</th>\n",
       "      <th>confidence_level</th>\n",
       "    </tr>\n",
       "  </thead>\n",
       "  <tbody>\n",
       "    <tr>\n",
       "      <th>0</th>\n",
       "      <td>'soda'</td>\n",
       "      <td>zero calorie cola</td>\n",
       "      <td>NaN</td>\n",
       "      <td>0.239590</td>\n",
       "    </tr>\n",
       "    <tr>\n",
       "      <th>1</th>\n",
       "      <td>'icelandic style skyr blueberry non-fat yogurt'</td>\n",
       "      <td>non fat acai &amp; mixed berries yogurt</td>\n",
       "      <td>NaN</td>\n",
       "      <td>0.229709</td>\n",
       "    </tr>\n",
       "    <tr>\n",
       "      <th>2</th>\n",
       "      <td>'organic zucchini'</td>\n",
       "      <td>organic yellow squash</td>\n",
       "      <td>NaN</td>\n",
       "      <td>0.227327</td>\n",
       "    </tr>\n",
       "    <tr>\n",
       "      <th>3</th>\n",
       "      <td>'bag of organic bananas'</td>\n",
       "      <td>organic hass avocado</td>\n",
       "      <td>organic lemon</td>\n",
       "      <td>0.193216</td>\n",
       "    </tr>\n",
       "    <tr>\n",
       "      <th>4</th>\n",
       "      <td>'bag of organic bananas'</td>\n",
       "      <td>organic hass avocado</td>\n",
       "      <td>organic strawberries</td>\n",
       "      <td>0.191795</td>\n",
       "    </tr>\n",
       "  </tbody>\n",
       "</table>\n",
       "</div>"
      ],
      "text/plain": [
       "                                        antecedent  \\\n",
       "0                                           'soda'   \n",
       "1  'icelandic style skyr blueberry non-fat yogurt'   \n",
       "2                               'organic zucchini'   \n",
       "3                         'bag of organic bananas'   \n",
       "4                         'bag of organic bananas'   \n",
       "\n",
       "                          consequent_1          consequent_2  confidence_level  \n",
       "0                    zero calorie cola                   NaN          0.239590  \n",
       "1  non fat acai & mixed berries yogurt                   NaN          0.229709  \n",
       "2                organic yellow squash                   NaN          0.227327  \n",
       "3                 organic hass avocado         organic lemon          0.193216  \n",
       "4                 organic hass avocado  organic strawberries          0.191795  "
      ]
     },
     "execution_count": 33,
     "metadata": {},
     "output_type": "execute_result"
    }
   ],
   "source": [
    "rules.head()"
   ]
  },
  {
   "cell_type": "code",
   "execution_count": 34,
   "id": "hired-gravity",
   "metadata": {},
   "outputs": [],
   "source": [
    "# rename column names for the streamlit app markdown text\n",
    "rules.rename(columns = {'consequent_1': 'Frequently Purchased Item', 'consequent_2': 'Frequently Purchased Item','confidence_level':'Confidence Level'}, inplace = True)"
   ]
  },
  {
   "cell_type": "code",
   "execution_count": 35,
   "id": "present-prefix",
   "metadata": {},
   "outputs": [
    {
     "data": {
      "text/html": [
       "<div>\n",
       "<style scoped>\n",
       "    .dataframe tbody tr th:only-of-type {\n",
       "        vertical-align: middle;\n",
       "    }\n",
       "\n",
       "    .dataframe tbody tr th {\n",
       "        vertical-align: top;\n",
       "    }\n",
       "\n",
       "    .dataframe thead th {\n",
       "        text-align: right;\n",
       "    }\n",
       "</style>\n",
       "<table border=\"1\" class=\"dataframe\">\n",
       "  <thead>\n",
       "    <tr style=\"text-align: right;\">\n",
       "      <th></th>\n",
       "      <th>antecedent</th>\n",
       "      <th>Frequently Purchased Item</th>\n",
       "      <th>Frequently Purchased Item</th>\n",
       "      <th>Confidence Level</th>\n",
       "    </tr>\n",
       "  </thead>\n",
       "  <tbody>\n",
       "    <tr>\n",
       "      <th>0</th>\n",
       "      <td>'soda'</td>\n",
       "      <td>zero calorie cola</td>\n",
       "      <td>NaN</td>\n",
       "      <td>0.239590</td>\n",
       "    </tr>\n",
       "    <tr>\n",
       "      <th>1</th>\n",
       "      <td>'icelandic style skyr blueberry non-fat yogurt'</td>\n",
       "      <td>non fat acai &amp; mixed berries yogurt</td>\n",
       "      <td>NaN</td>\n",
       "      <td>0.229709</td>\n",
       "    </tr>\n",
       "    <tr>\n",
       "      <th>2</th>\n",
       "      <td>'organic zucchini'</td>\n",
       "      <td>organic yellow squash</td>\n",
       "      <td>NaN</td>\n",
       "      <td>0.227327</td>\n",
       "    </tr>\n",
       "    <tr>\n",
       "      <th>3</th>\n",
       "      <td>'bag of organic bananas'</td>\n",
       "      <td>organic hass avocado</td>\n",
       "      <td>organic lemon</td>\n",
       "      <td>0.193216</td>\n",
       "    </tr>\n",
       "    <tr>\n",
       "      <th>4</th>\n",
       "      <td>'bag of organic bananas'</td>\n",
       "      <td>organic hass avocado</td>\n",
       "      <td>organic strawberries</td>\n",
       "      <td>0.191795</td>\n",
       "    </tr>\n",
       "  </tbody>\n",
       "</table>\n",
       "</div>"
      ],
      "text/plain": [
       "                                        antecedent  \\\n",
       "0                                           'soda'   \n",
       "1  'icelandic style skyr blueberry non-fat yogurt'   \n",
       "2                               'organic zucchini'   \n",
       "3                         'bag of organic bananas'   \n",
       "4                         'bag of organic bananas'   \n",
       "\n",
       "             Frequently Purchased Item Frequently Purchased Item  \\\n",
       "0                    zero calorie cola                       NaN   \n",
       "1  non fat acai & mixed berries yogurt                       NaN   \n",
       "2                organic yellow squash                       NaN   \n",
       "3                 organic hass avocado             organic lemon   \n",
       "4                 organic hass avocado      organic strawberries   \n",
       "\n",
       "   Confidence Level  \n",
       "0          0.239590  \n",
       "1          0.229709  \n",
       "2          0.227327  \n",
       "3          0.193216  \n",
       "4          0.191795  "
      ]
     },
     "execution_count": 35,
     "metadata": {},
     "output_type": "execute_result"
    }
   ],
   "source": [
    "rules.head()"
   ]
  },
  {
   "cell_type": "code",
   "execution_count": 38,
   "id": "lightweight-beatles",
   "metadata": {},
   "outputs": [],
   "source": [
    "rules.to_csv('data/rules_50_percent_app.csv', index = False)"
   ]
  }
 ],
 "metadata": {
  "kernelspec": {
   "display_name": "Python 3",
   "language": "python",
   "name": "python3"
  },
  "language_info": {
   "codemirror_mode": {
    "name": "ipython",
    "version": 3
   },
   "file_extension": ".py",
   "mimetype": "text/x-python",
   "name": "python",
   "nbconvert_exporter": "python",
   "pygments_lexer": "ipython3",
   "version": "3.8.5"
  }
 },
 "nbformat": 4,
 "nbformat_minor": 5
}
